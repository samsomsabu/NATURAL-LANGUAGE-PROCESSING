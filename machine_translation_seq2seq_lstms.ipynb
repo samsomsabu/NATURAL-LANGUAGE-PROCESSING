{
  "metadata": {
    "kernelspec": {
      "language": "python",
      "display_name": "Python 3",
      "name": "python3"
    },
    "language_info": {
      "name": "python",
      "version": "3.7.10",
      "mimetype": "text/x-python",
      "codemirror_mode": {
        "name": "ipython",
        "version": 3
      },
      "pygments_lexer": "ipython3",
      "nbconvert_exporter": "python",
      "file_extension": ".py"
    },
    "colab": {
      "provenance": [],
      "include_colab_link": true
    }
  },
  "nbformat_minor": 0,
  "nbformat": 4,
  "cells": [
    {
      "cell_type": "markdown",
      "metadata": {
        "id": "view-in-github",
        "colab_type": "text"
      },
      "source": [
        "<a href=\"https://colab.research.google.com/github/samsomsabu/NATURAL-LANGUAGE-PROCESSING/blob/main/machine_translation_seq2seq_lstms.ipynb\" target=\"_parent\"><img src=\"https://colab.research.google.com/assets/colab-badge.svg\" alt=\"Open In Colab\"/></a>"
      ]
    },
    {
      "cell_type": "markdown",
      "source": [
        "<center><h1 style=\"font-size:300%; background-color:skyblue; color:grey; padding:60px; font-family:Garamond;\"><b>MACHINE TRANSLATION Using Seq2Seq Modelling</b></h1></center>"
      ],
      "metadata": {
        "_uuid": "8f2839f25d086af736a60e9eeb907d3b93b6e0e5",
        "_cell_guid": "b1076dfc-b9ad-4769-8c92-a6c4dae69d19",
        "id": "nft3YVU2xggc"
      }
    },
    {
      "cell_type": "markdown",
      "source": [
        "<h1>Import the Required Libraries</h1>"
      ],
      "metadata": {
        "id": "LBd4tzDexggg"
      }
    },
    {
      "cell_type": "code",
      "source": [
        "import string\n",
        "import re\n",
        "from numpy import array, argmax, random, take\n",
        "import pandas as pd\n",
        "from keras.models import Sequential\n",
        "from keras.layers import Dense, LSTM, Embedding, RepeatVector\n",
        "from keras.preprocessing.text import Tokenizer\n",
        "from keras.callbacks import ModelCheckpoint\n",
        "from keras.preprocessing.sequence import pad_sequences\n",
        "from keras.models import load_model\n",
        "from keras import optimizers\n",
        "import matplotlib.pyplot as plt\n",
        "%matplotlib inline\n",
        "pd.set_option('display.max_colwidth', 200)"
      ],
      "metadata": {
        "trusted": true,
        "id": "_PmBExClxggg"
      },
      "execution_count": null,
      "outputs": []
    },
    {
      "cell_type": "markdown",
      "source": [
        "<h1> Load the Data </h1>"
      ],
      "metadata": {
        "id": "eMfJBWKVxggh"
      }
    },
    {
      "cell_type": "code",
      "source": [
        "# function to read raw text file\n",
        "def read_text(filename):\n",
        "        # open the file\n",
        "        file = open(filename, mode='rt', encoding='utf-8')\n",
        "\n",
        "        # read all text\n",
        "        text = file.read()\n",
        "        file.close()\n",
        "        return text"
      ],
      "metadata": {
        "trusted": true,
        "id": "cR62xMJCxggh"
      },
      "execution_count": null,
      "outputs": []
    },
    {
      "cell_type": "code",
      "source": [
        "# split a text into sentences\n",
        "def to_lines(text):\n",
        "    sents = text.strip().split('\\n')\n",
        "    sents = [i.split('\\t') for i in sents]\n",
        "    return sents"
      ],
      "metadata": {
        "trusted": true,
        "id": "zE0who_ixggh"
      },
      "execution_count": null,
      "outputs": []
    },
    {
      "cell_type": "code",
      "source": [
        "data = read_text(\"../input/bilingual-sentence-pairs/deu.txt\")\n",
        "deu_eng = to_lines(data)\n",
        "deu_eng = array(deu_eng)"
      ],
      "metadata": {
        "trusted": true,
        "id": "v19GxBpWxggh"
      },
      "execution_count": null,
      "outputs": []
    },
    {
      "cell_type": "code",
      "source": [
        "deu_eng = deu_eng[:50000,:]"
      ],
      "metadata": {
        "trusted": true,
        "id": "jhBS1GHTxggh"
      },
      "execution_count": null,
      "outputs": []
    },
    {
      "cell_type": "markdown",
      "source": [
        "<ul>\n",
        "    <li style=\"font-size:150%;\">The actual data contains over 150,000 sentence-pairs. However, we will use only the first 50,000 sentence pairs to reduce the training time of the model. You can change this number as per your system’s computation power.</li>\n",
        "</ul>"
      ],
      "metadata": {
        "id": "EQ5wgmM9xggh"
      }
    },
    {
      "cell_type": "markdown",
      "source": [
        "<h1> Text Cleaning / Preprocessing</h1>"
      ],
      "metadata": {
        "id": "MeJgBaeWxggi"
      }
    },
    {
      "cell_type": "markdown",
      "source": [
        "<ul>\n",
        "    <li style=\"font-size:150%;\">We will get rid of the punctuation marks and then convert all the text to lower case.</li>\n",
        "</ul>"
      ],
      "metadata": {
        "id": "BxD8bA_Axggi"
      }
    },
    {
      "cell_type": "code",
      "source": [
        "# Remove punctuation\n",
        "deu_eng[:,0] = [s.translate(str.maketrans('', '', string.punctuation)) for s in deu_eng[:,0]]\n",
        "deu_eng[:,1] = [s.translate(str.maketrans('', '', string.punctuation)) for s in deu_eng[:,1]]\n",
        "\n",
        "deu_eng"
      ],
      "metadata": {
        "trusted": true,
        "id": "eGlRTcG5xggi",
        "outputId": "81b60423-598d-4fd0-ed55-6d50a6ce1271"
      },
      "execution_count": null,
      "outputs": [
        {
          "execution_count": 7,
          "output_type": "execute_result",
          "data": {
            "text/plain": "array([['Go', 'Geh',\n        'CC-BY 2.0 (France) Attribution: tatoeba.org #2877272 (CM) & #8597805 (Roujin)'],\n       ['Hi', 'Hallo',\n        'CC-BY 2.0 (France) Attribution: tatoeba.org #538123 (CM) & #380701 (cburgmer)'],\n       ['Hi', 'Grüß Gott',\n        'CC-BY 2.0 (France) Attribution: tatoeba.org #538123 (CM) & #659813 (Esperantostern)'],\n       ...,\n       ['Im giving up smoking', 'Ich höre mit dem Rauchen auf',\n        'CC-BY 2.0 (France) Attribution: tatoeba.org #256952 (minshirui) & #407184 (MUIRIEL)'],\n       ['Im glad I was nearby', 'Ich bin froh dass ich in der Nähe war',\n        'CC-BY 2.0 (France) Attribution: tatoeba.org #2547219 (CK) & #3448316 (Pfirsichbaeumchen)'],\n       ['Im glad Tom has gone', 'Ich bin froh dass Tom weg ist',\n        'CC-BY 2.0 (France) Attribution: tatoeba.org #2547217 (CK) & #5299642 (Pfirsichbaeumchen)']],\n      dtype='<U537')"
          },
          "metadata": {}
        }
      ]
    },
    {
      "cell_type": "code",
      "source": [
        "# convert text to lowercase\n",
        "for i in range(len(deu_eng)):\n",
        "    deu_eng[i,0] = deu_eng[i,0].lower()\n",
        "    deu_eng[i,1] = deu_eng[i,1].lower()"
      ],
      "metadata": {
        "trusted": true,
        "id": "oqcTmzO4xggi"
      },
      "execution_count": null,
      "outputs": []
    },
    {
      "cell_type": "code",
      "source": [
        "# empty lists\n",
        "eng_l = []\n",
        "deu_l = []\n",
        "\n",
        "# populate the lists with sentence lengths\n",
        "for i in deu_eng[:,0]:\n",
        "      eng_l.append(len(i.split()))\n",
        "\n",
        "for i in deu_eng[:,1]:\n",
        "      deu_l.append(len(i.split()))\n",
        "\n",
        "length_df = pd.DataFrame({'eng':eng_l, 'deu':deu_l})\n",
        "\n",
        "length_df.hist(bins = 30)\n",
        "plt.show()"
      ],
      "metadata": {
        "trusted": true,
        "id": "kAlwj7Cmxggi",
        "outputId": "2d80a158-075c-4eb6-b354-a1d16d2ecb28"
      },
      "execution_count": null,
      "outputs": [
        {
          "name": "stderr",
          "text": "/opt/conda/lib/python3.7/site-packages/pandas/plotting/_matplotlib/tools.py:400: MatplotlibDeprecationWarning: \nThe is_first_col function was deprecated in Matplotlib 3.4 and will be removed two minor releases later. Use ax.get_subplotspec().is_first_col() instead.\n  if ax.is_first_col():\n",
          "output_type": "stream"
        },
        {
          "output_type": "display_data",
          "data": {
            "text/plain": "<Figure size 432x288 with 2 Axes>",
            "image/png": "[encoded data removed]"
          },
          "metadata": {
            "needs_background": "light"
          }
        }
      ]
    },
    {
      "cell_type": "markdown",
      "source": [
        "<ul>\n",
        "    <li style=\"font-size:150%;\">A Seq2Seq model requires that we convert both the input and the output sentences into integer sequences of fixed length.</li>\n",
        "    <li style=\"font-size:150%;\">Now, vectorize our text data by using Keras’s Tokenizer() class. It will turn our sentences into sequences of integers. We can then pad those sequences with zeros to make all the sequences of the same length.</li>\n",
        "    <li style=\"font-size:150%;\">Prepare tokenizers for both the German and English sentences</li>\n",
        "</ul>"
      ],
      "metadata": {
        "id": "BRxYfhPLxggj"
      }
    },
    {
      "cell_type": "code",
      "source": [
        "# function to build a tokenizer\n",
        "def tokenization(lines):\n",
        "    tokenizer = Tokenizer()\n",
        "    tokenizer.fit_on_texts(lines)\n",
        "    return tokenizer"
      ],
      "metadata": {
        "trusted": true,
        "id": "8lRlGuopxggj"
      },
      "execution_count": null,
      "outputs": []
    },
    {
      "cell_type": "code",
      "source": [
        "# prepare english tokenizer\n",
        "eng_tokenizer = tokenization(deu_eng[:, 0])\n",
        "eng_vocab_size = len(eng_tokenizer.word_index) + 1\n",
        "\n",
        "eng_length = 8\n",
        "print('English Vocabulary Size: %d' % eng_vocab_size)"
      ],
      "metadata": {
        "trusted": true,
        "id": "s38X0l_uxggj",
        "outputId": "b8ae9c8c-9b7c-45ca-b41d-6a8345674370"
      },
      "execution_count": null,
      "outputs": [
        {
          "name": "stdout",
          "text": "English Vocabulary Size: 6256\n",
          "output_type": "stream"
        }
      ]
    },
    {
      "cell_type": "code",
      "source": [
        "# prepare Deutch tokenizer\n",
        "deu_tokenizer = tokenization(deu_eng[:, 1])\n",
        "deu_vocab_size = len(deu_tokenizer.word_index) + 1\n",
        "\n",
        "deu_length = 8\n",
        "print('Deutch Vocabulary Size: %d' % deu_vocab_size)"
      ],
      "metadata": {
        "trusted": true,
        "id": "nalUDuFDxggj",
        "outputId": "ab7a3573-8cf8-42ad-b845-d7cac2679f3d"
      },
      "execution_count": null,
      "outputs": [
        {
          "name": "stdout",
          "text": "Deutch Vocabulary Size: 10329\n",
          "output_type": "stream"
        }
      ]
    },
    {
      "cell_type": "markdown",
      "source": [
        "<ul>\n",
        "    <li style=\"font-size:150%;\">We tokenized the data — i.e., converted the text to numerical values. This allows the neural network to perform operations on the input data.</li>\n",
        "    <li style=\"font-size:150%;\">When we run the tokenizer, it creates a word index, which is then used to convert each sentence to a vector.</li>"
      ],
      "metadata": {
        "id": "w5NkLpT7xggj"
      }
    },
    {
      "cell_type": "code",
      "source": [
        "# encode and pad sequences\n",
        "def encode_sequences(tokenizer, length, lines):\n",
        "    seq = tokenizer.texts_to_sequences(lines)\n",
        "    # pad sequences with 0 values\n",
        "    seq = pad_sequences(seq, maxlen=length, padding='post')\n",
        "    return seq"
      ],
      "metadata": {
        "trusted": true,
        "id": "8nHLhSPoxggj"
      },
      "execution_count": null,
      "outputs": []
    },
    {
      "cell_type": "markdown",
      "source": [
        "<center><h1 style=\"font-size:200%; background-color:skyblue; color:black; padding:15px; font-family:Garamond;\"><b>Model Building</b></h1></center>"
      ],
      "metadata": {
        "id": "5_f6Attmxggj"
      }
    },
    {
      "cell_type": "code",
      "source": [
        "from sklearn.model_selection import train_test_split\n",
        "\n",
        "# split data into train and test set\n",
        "train, test = train_test_split(deu_eng, test_size=0.2, random_state = 12)"
      ],
      "metadata": {
        "trusted": true,
        "id": "MWzK2j_Ixggk"
      },
      "execution_count": null,
      "outputs": []
    },
    {
      "cell_type": "markdown",
      "source": [
        "<ul>\n",
        "    <li style=\"font-size:150%;\">It’s time to encode the sentences. We will encode German sentences as the input sequences and English sentences as the target sequences. This has to be done for both the train and test datasets.</li>"
      ],
      "metadata": {
        "id": "aqm39bDTxggk"
      }
    },
    {
      "cell_type": "code",
      "source": [
        "# prepare training data\n",
        "trainX = encode_sequences(deu_tokenizer, deu_length, train[:, 1])\n",
        "trainY = encode_sequences(eng_tokenizer, eng_length, train[:, 0])\n",
        "\n",
        "# prepare validation data\n",
        "testX = encode_sequences(deu_tokenizer, deu_length, test[:, 1])\n",
        "testY = encode_sequences(eng_tokenizer, eng_length, test[:, 0])"
      ],
      "metadata": {
        "trusted": true,
        "id": "Q8COmAMpxggk"
      },
      "execution_count": null,
      "outputs": []
    },
    {
      "cell_type": "markdown",
      "source": [
        "<h1> Define the Model</h1>"
      ],
      "metadata": {
        "id": "cV5UnE5Oxggk"
      }
    },
    {
      "cell_type": "code",
      "source": [
        "# build NMT model\n",
        "def define_model(in_vocab,out_vocab, in_timesteps,out_timesteps,units):\n",
        "    model = Sequential()\n",
        "    model.add(Embedding(in_vocab, units, input_length=in_timesteps, mask_zero=True))\n",
        "    model.add(LSTM(units))\n",
        "    model.add(RepeatVector(out_timesteps))\n",
        "    model.add(LSTM(units, return_sequences=True))\n",
        "    model.add(Dense(out_vocab, activation='softmax'))\n",
        "    return model"
      ],
      "metadata": {
        "trusted": true,
        "id": "RBEMNO48xggk"
      },
      "execution_count": null,
      "outputs": []
    },
    {
      "cell_type": "code",
      "source": [
        "# model compilation\n",
        "model = define_model(deu_vocab_size, eng_vocab_size, deu_length, eng_length, 512)"
      ],
      "metadata": {
        "trusted": true,
        "id": "FHrcuCsixggk"
      },
      "execution_count": null,
      "outputs": []
    },
    {
      "cell_type": "code",
      "source": [
        "rms = optimizers.RMSprop(lr=0.001)\n",
        "model.compile(optimizer=rms, loss='sparse_categorical_crossentropy')"
      ],
      "metadata": {
        "trusted": true,
        "id": "MKMZpnlfxggl"
      },
      "execution_count": null,
      "outputs": []
    },
    {
      "cell_type": "markdown",
      "source": [
        "<ul>\n",
        "    <li style=\"font-size:150%;\">We are using the RMSprop optimizer in this model as it’s usually a good choice when working with recurrent neural networks.</li>\n",
        "    <li style=\"font-size:150%;\">Here I have used ‘sparse_categorical_crossentropy‘ as the loss function. This is because the function allows us to use the target sequence as is, instead of the one-hot encoded format. One-hot encoding the target sequences using such a huge vocabulary might consume our system’s entire memory.</li>\n",
        "               \n",
        "</ul>"
      ],
      "metadata": {
        "id": "-CucHBytxggl"
      }
    },
    {
      "cell_type": "markdown",
      "source": [
        "<h1> Fit the Model</h1>"
      ],
      "metadata": {
        "id": "x9EgY85Zxggl"
      }
    },
    {
      "cell_type": "markdown",
      "source": [
        "<ul>\n",
        "    <li style=\"font-size:150%;\">ModelCheckpoint() function to save the model with the lowest validation loss. I personally prefer this method over early stopping.</li>\n",
        "</ul>"
      ],
      "metadata": {
        "id": "laJf83i4xggl"
      }
    },
    {
      "cell_type": "code",
      "source": [
        "filename = 'model.h1.24_jan_19'\n",
        "checkpoint = ModelCheckpoint(filename, monitor='val_loss', verbose=1, save_best_only=True, mode='min')\n",
        "\n",
        "# train model\n",
        "history = model.fit(trainX, trainY.reshape(trainY.shape[0], trainY.shape[1], 1),\n",
        "                    epochs=30, batch_size=512, validation_split = 0.2,callbacks=[checkpoint],\n",
        "                    verbose=1)"
      ],
      "metadata": {
        "trusted": true,
        "id": "wqh1qE6cxggl",
        "outputId": "cb08b05a-0613-4866-a8fc-95d678a1e806"
      },
      "execution_count": null,
      "outputs": [
        {
          "name": "stdout",
          "text": "Epoch 1/30\n63/63 [==============================] - 154s 2s/step - loss: 4.3593 - val_loss: 2.8360\n\nEpoch 00001: val_loss improved from inf to 2.83604, saving model to model.h1.24_jan_19\nEpoch 2/30\n63/63 [==============================] - 147s 2s/step - loss: 2.7773 - val_loss: 2.7174\n\nEpoch 00002: val_loss improved from 2.83604 to 2.71737, saving model to model.h1.24_jan_19\nEpoch 3/30\n63/63 [==============================] - 146s 2s/step - loss: 2.6554 - val_loss: 2.6125\n\nEpoch 00003: val_loss improved from 2.71737 to 2.61250, saving model to model.h1.24_jan_19\nEpoch 4/30\n63/63 [==============================] - 147s 2s/step - loss: 2.4642 - val_loss: 2.4365\n\nEpoch 00004: val_loss improved from 2.61250 to 2.43653, saving model to model.h1.24_jan_19\nEpoch 5/30\n63/63 [==============================] - 146s 2s/step - loss: 2.3096 - val_loss: 2.3143\n\nEpoch 00005: val_loss improved from 2.43653 to 2.31433, saving model to model.h1.24_jan_19\nEpoch 6/30\n63/63 [==============================] - 148s 2s/step - loss: 2.1684 - val_loss: 2.2226\n\nEpoch 00006: val_loss improved from 2.31433 to 2.22256, saving model to model.h1.24_jan_19\nEpoch 7/30\n63/63 [==============================] - 148s 2s/step - loss: 2.0377 - val_loss: 2.1437\n\nEpoch 00007: val_loss improved from 2.22256 to 2.14374, saving model to model.h1.24_jan_19\nEpoch 8/30\n63/63 [==============================] - 148s 2s/step - loss: 1.9331 - val_loss: 2.0585\n\nEpoch 00008: val_loss improved from 2.14374 to 2.05847, saving model to model.h1.24_jan_19\nEpoch 9/30\n63/63 [==============================] - 147s 2s/step - loss: 1.8278 - val_loss: 2.0011\n\nEpoch 00009: val_loss improved from 2.05847 to 2.00108, saving model to model.h1.24_jan_19\nEpoch 10/30\n63/63 [==============================] - 148s 2s/step - loss: 1.7248 - val_loss: 1.8992\n\nEpoch 00010: val_loss improved from 2.00108 to 1.89922, saving model to model.h1.24_jan_19\nEpoch 11/30\n63/63 [==============================] - 148s 2s/step - loss: 1.6159 - val_loss: 1.8373\n\nEpoch 00011: val_loss improved from 1.89922 to 1.83726, saving model to model.h1.24_jan_19\nEpoch 12/30\n63/63 [==============================] - 148s 2s/step - loss: 1.5138 - val_loss: 1.7926\n\nEpoch 00012: val_loss improved from 1.83726 to 1.79263, saving model to model.h1.24_jan_19\nEpoch 13/30\n63/63 [==============================] - 148s 2s/step - loss: 1.4217 - val_loss: 1.7013\n\nEpoch 00013: val_loss improved from 1.79263 to 1.70130, saving model to model.h1.24_jan_19\nEpoch 14/30\n63/63 [==============================] - 148s 2s/step - loss: 1.3251 - val_loss: 1.6582\n\nEpoch 00014: val_loss improved from 1.70130 to 1.65817, saving model to model.h1.24_jan_19\nEpoch 15/30\n63/63 [==============================] - 148s 2s/step - loss: 1.2456 - val_loss: 1.6070\n\nEpoch 00015: val_loss improved from 1.65817 to 1.60695, saving model to model.h1.24_jan_19\nEpoch 16/30\n63/63 [==============================] - 148s 2s/step - loss: 1.1568 - val_loss: 1.5809\n\nEpoch 00016: val_loss improved from 1.60695 to 1.58094, saving model to model.h1.24_jan_19\nEpoch 17/30\n63/63 [==============================] - 148s 2s/step - loss: 1.0768 - val_loss: 1.5263\n\nEpoch 00017: val_loss improved from 1.58094 to 1.52630, saving model to model.h1.24_jan_19\nEpoch 18/30\n63/63 [==============================] - 148s 2s/step - loss: 1.0036 - val_loss: 1.4906\n\nEpoch 00018: val_loss improved from 1.52630 to 1.49058, saving model to model.h1.24_jan_19\nEpoch 19/30\n63/63 [==============================] - 148s 2s/step - loss: 0.9315 - val_loss: 1.4612\n\nEpoch 00019: val_loss improved from 1.49058 to 1.46123, saving model to model.h1.24_jan_19\nEpoch 20/30\n63/63 [==============================] - 154s 2s/step - loss: 0.8588 - val_loss: 1.4289\n\nEpoch 00020: val_loss improved from 1.46123 to 1.42893, saving model to model.h1.24_jan_19\nEpoch 21/30\n63/63 [==============================] - 148s 2s/step - loss: 0.8032 - val_loss: 1.4109\n\nEpoch 00021: val_loss improved from 1.42893 to 1.41090, saving model to model.h1.24_jan_19\nEpoch 22/30\n63/63 [==============================] - 148s 2s/step - loss: 0.7412 - val_loss: 1.3822\n\nEpoch 00022: val_loss improved from 1.41090 to 1.38216, saving model to model.h1.24_jan_19\nEpoch 23/30\n63/63 [==============================] - 148s 2s/step - loss: 0.6835 - val_loss: 1.3743\n\nEpoch 00023: val_loss improved from 1.38216 to 1.37432, saving model to model.h1.24_jan_19\nEpoch 24/30\n63/63 [==============================] - 155s 2s/step - loss: 0.6377 - val_loss: 1.3479\n\nEpoch 00024: val_loss improved from 1.37432 to 1.34788, saving model to model.h1.24_jan_19\nEpoch 25/30\n63/63 [==============================] - 148s 2s/step - loss: 0.5823 - val_loss: 1.3331\n\nEpoch 00025: val_loss improved from 1.34788 to 1.33313, saving model to model.h1.24_jan_19\nEpoch 26/30\n63/63 [==============================] - 148s 2s/step - loss: 0.5360 - val_loss: 1.3296\n\nEpoch 00026: val_loss improved from 1.33313 to 1.32959, saving model to model.h1.24_jan_19\nEpoch 27/30\n63/63 [==============================] - 149s 2s/step - loss: 0.4934 - val_loss: 1.3155\n\nEpoch 00027: val_loss improved from 1.32959 to 1.31548, saving model to model.h1.24_jan_19\nEpoch 28/30\n63/63 [==============================] - 149s 2s/step - loss: 0.4499 - val_loss: 1.3145\n\nEpoch 00028: val_loss improved from 1.31548 to 1.31448, saving model to model.h1.24_jan_19\nEpoch 29/30\n63/63 [==============================] - 148s 2s/step - loss: 0.4092 - val_loss: 1.3014\n\nEpoch 00029: val_loss improved from 1.31448 to 1.30137, saving model to model.h1.24_jan_19\nEpoch 30/30\n63/63 [==============================] - 156s 2s/step - loss: 0.3762 - val_loss: 1.2992\n\nEpoch 00030: val_loss improved from 1.30137 to 1.29917, saving model to model.h1.24_jan_19\n",
          "output_type": "stream"
        }
      ]
    },
    {
      "cell_type": "code",
      "source": [
        "plt.plot(history.history['loss'])\n",
        "plt.plot(history.history['val_loss'])\n",
        "plt.legend(['train','validation'])\n",
        "plt.show()"
      ],
      "metadata": {
        "trusted": true,
        "id": "wgzYCu0sxggl",
        "outputId": "5b1a612f-0bbf-4748-88f6-cee803d3d55d"
      },
      "execution_count": null,
      "outputs": [
        {
          "output_type": "display_data",
          "data": {
            "text/plain": "<Figure size 432x288 with 1 Axes>",
            "image/png": "[encoded data removed]"
          },
          "metadata": {
            "needs_background": "light"
          }
        }
      ]
    },
    {
      "cell_type": "markdown",
      "source": [
        "<h1> Prediction on unseen data</h1>"
      ],
      "metadata": {
        "id": "cSpBVhG1xggm"
      }
    },
    {
      "cell_type": "code",
      "source": [
        "model = load_model('model.h1.24_jan_19')\n",
        "preds = model.predict_classes(testX.reshape((testX.shape[0],testX.shape[1])))"
      ],
      "metadata": {
        "trusted": true,
        "id": "FJdOZoO3xggm",
        "outputId": "e2ad8f22-e119-47ae-9472-dc6d37494db7"
      },
      "execution_count": null,
      "outputs": [
        {
          "name": "stderr",
          "text": "/opt/conda/lib/python3.7/site-packages/tensorflow/python/keras/engine/sequential.py:450: UserWarning: `model.predict_classes()` is deprecated and will be removed after 2021-01-01. Please use instead:* `np.argmax(model.predict(x), axis=-1)`,   if your model does multi-class classification   (e.g. if it uses a `softmax` last-layer activation).* `(model.predict(x) > 0.5).astype(\"int32\")`,   if your model does binary classification   (e.g. if it uses a `sigmoid` last-layer activation).\n  warnings.warn('`model.predict_classes()` is deprecated and '\n",
          "output_type": "stream"
        }
      ]
    },
    {
      "cell_type": "code",
      "source": [
        "def get_word(n, tokenizer):\n",
        "    for word, index in tokenizer.word_index.items():\n",
        "        if index == n:\n",
        "            return word\n",
        "    return None"
      ],
      "metadata": {
        "trusted": true,
        "id": "qC0E1Hrcxggm"
      },
      "execution_count": null,
      "outputs": []
    },
    {
      "cell_type": "code",
      "source": [
        "preds_text = []\n",
        "for i in preds:\n",
        "    temp = []\n",
        "    for j in range(len(i)):\n",
        "        t = get_word(i[j], eng_tokenizer)\n",
        "        if j > 0:\n",
        "            if (t == get_word(i[j-1], eng_tokenizer)) or (t == None):\n",
        "                temp.append('')\n",
        "            else:\n",
        "                temp.append(t)\n",
        "        else:\n",
        "            if(t == None):\n",
        "                temp.append('')\n",
        "            else:\n",
        "                temp.append(t)\n",
        "\n",
        "    preds_text.append(' '.join(temp))"
      ],
      "metadata": {
        "trusted": true,
        "id": "wUtMEDqvxggm"
      },
      "execution_count": null,
      "outputs": []
    },
    {
      "cell_type": "code",
      "source": [
        "pred_df = pd.DataFrame({'actual' : test[:,0], 'predicted' : preds_text})"
      ],
      "metadata": {
        "trusted": true,
        "id": "k-_Wg4MUxggm"
      },
      "execution_count": null,
      "outputs": []
    },
    {
      "cell_type": "code",
      "source": [
        "# print 15 rows randomly\n",
        "pred_df.head(15)"
      ],
      "metadata": {
        "trusted": true,
        "id": "bz4Lkzyixggm",
        "outputId": "cc03897e-6dee-46e3-c912-ac521c2261c5"
      },
      "execution_count": null,
      "outputs": [
        {
          "execution_count": 27,
          "output_type": "execute_result",
          "data": {
            "text/plain": "                  actual                predicted\n0    i know that already  i already know that    \n1               whos she          who is she     \n2         do you have it      did you have it    \n3          use your feet      get your  stuff    \n4   that was the trouble               the       \n5   he took off his coat       he put off his    \n6   tom went sightseeing   tom staggered the     \n7   i tried on the shoes  i answered my shoes    \n8       open those doors         the  window     \n9    ive got to help tom    i have to help tom   \n10          its my money        its my money     \n11            is it time          is it time     \n12          i cant watch       i cant look in    \n13         he wants more   he wants to change    \n14       who did you see     who did you seen    ",
            "text/html": "<div>\n<style scoped>\n    .dataframe tbody tr th:only-of-type {\n        vertical-align: middle;\n    }\n\n    .dataframe tbody tr th {\n        vertical-align: top;\n    }\n\n    .dataframe thead th {\n        text-align: right;\n    }\n</style>\n<table border=\"1\" class=\"dataframe\">\n  <thead>\n    <tr style=\"text-align: right;\">\n      <th></th>\n      <th>actual</th>\n      <th>predicted</th>\n    </tr>\n  </thead>\n  <tbody>\n    <tr>\n      <th>0</th>\n      <td>i know that already</td>\n      <td>i already know that</td>\n    </tr>\n    <tr>\n      <th>1</th>\n      <td>whos she</td>\n      <td>who is she</td>\n    </tr>\n    <tr>\n      <th>2</th>\n      <td>do you have it</td>\n      <td>did you have it</td>\n    </tr>\n    <tr>\n      <th>3</th>\n      <td>use your feet</td>\n      <td>get your  stuff</td>\n    </tr>\n    <tr>\n      <th>4</th>\n      <td>that was the trouble</td>\n      <td>the</td>\n    </tr>\n    <tr>\n      <th>5</th>\n      <td>he took off his coat</td>\n      <td>he put off his</td>\n    </tr>\n    <tr>\n      <th>6</th>\n      <td>tom went sightseeing</td>\n      <td>tom staggered the</td>\n    </tr>\n    <tr>\n      <th>7</th>\n      <td>i tried on the shoes</td>\n      <td>i answered my shoes</td>\n    </tr>\n    <tr>\n      <th>8</th>\n      <td>open those doors</td>\n      <td>the  window</td>\n    </tr>\n    <tr>\n      <th>9</th>\n      <td>ive got to help tom</td>\n      <td>i have to help tom</td>\n    </tr>\n    <tr>\n      <th>10</th>\n      <td>its my money</td>\n      <td>its my money</td>\n    </tr>\n    <tr>\n      <th>11</th>\n      <td>is it time</td>\n      <td>is it time</td>\n    </tr>\n    <tr>\n      <th>12</th>\n      <td>i cant watch</td>\n      <td>i cant look in</td>\n    </tr>\n    <tr>\n      <th>13</th>\n      <td>he wants more</td>\n      <td>he wants to change</td>\n    </tr>\n    <tr>\n      <th>14</th>\n      <td>who did you see</td>\n      <td>who did you seen</td>\n    </tr>\n  </tbody>\n</table>\n</div>"
          },
          "metadata": {}
        }
      ]
    },
    {
      "cell_type": "markdown",
      "source": [
        "<center><h1> CONCLUSION</h1></center>\n",
        "<br>\n",
        "\n",
        "<ul>\n",
        "    <li style=\"font-size:150%;\">Our Seq2Seq model does a decent job. But there are several instances where it misses out on understanding the key words.</li>\n",
        "    <li style=\"font-size:150%;\">These are the challenges you will face on a regular basis in NLP. But these aren’t immovable obstacles. We can mitigate such challenges by using more training data and building a better (or more complex) model.</li>\n",
        "</ul>"
      ],
      "metadata": {
        "id": "PaYP63z9xggn"
      }
    },
    {
      "cell_type": "code",
      "source": [],
      "metadata": {
        "id": "_V9486Xixggn"
      },
      "execution_count": null,
      "outputs": []
    }
  ]
}