{
  "nbformat": 4,
  "nbformat_minor": 0,
  "metadata": {
    "colab": {
      "provenance": [],
      "gpuType": "T4",
      "authorship_tag": "ABX9TyP7GsJFkBChxY90wDuGXmjK",
      "include_colab_link": true
    },
    "kernelspec": {
      "name": "python3",
      "display_name": "Python 3"
    },
    "language_info": {
      "name": "python"
    },
    "accelerator": "GPU"
  },
  "cells": [
    {
      "cell_type": "markdown",
      "metadata": {
        "id": "view-in-github",
        "colab_type": "text"
      },
      "source": [
        "<a href=\"https://colab.research.google.com/github/samsomsabu/NATURAL-LANGUAGE-PROCESSING/blob/main/Samson_549_CIA_II.ipynb\" target=\"_parent\"><img src=\"https://colab.research.google.com/assets/colab-badge.svg\" alt=\"Open In Colab\"/></a>"
      ]
    },
    {
      "cell_type": "markdown",
      "source": [
        "PREPROCESSING"
      ],
      "metadata": {
        "id": "jVfWZ7esVHk8"
      }
    },
    {
      "cell_type": "markdown",
      "source": [
        "give the corpus"
      ],
      "metadata": {
        "id": "3wj7Eyy1T44X"
      }
    },
    {
      "cell_type": "code",
      "execution_count": 1,
      "metadata": {
        "id": "xQEZIhAkSUBr"
      },
      "outputs": [],
      "source": [
        "text=' Vaswani et al. (2017), Google. The transformer is the most influential Neural Network model that has shown outstanding performance on various NLP tasks including Machine Reading Comprehension, Machine translation and sentence classification. Attention mechanism and parallelization are the prominent features in the transformers. Consequently, it can facilitate long-range dependencies without any gradient vanishing or gradient explosion problems and it overcomes the drawbacks of the existing methods such as RNN and LSTM. The transformer is executed with an encoder-decoder mechanism and the original article of transformers  “Attention All You Need”.'"
      ]
    },
    {
      "cell_type": "code",
      "source": [
        "print(text)"
      ],
      "metadata": {
        "colab": {
          "base_uri": "https://localhost:8080/"
        },
        "id": "f8_AkN4fUbmp",
        "outputId": "53efa8fc-efc9-49fc-e556-0270ed470106"
      },
      "execution_count": 2,
      "outputs": [
        {
          "output_type": "stream",
          "name": "stdout",
          "text": [
            " Vaswani et al. (2017), Google. The transformer is the most influential Neural Network model that has shown outstanding performance on various NLP tasks including Machine Reading Comprehension, Machine translation and sentence classification. Attention mechanism and parallelization are the prominent features in the transformers. Consequently, it can facilitate long-range dependencies without any gradient vanishing or gradient explosion problems and it overcomes the drawbacks of the existing methods such as RNN and LSTM. The transformer is executed with an encoder-decoder mechanism and the original article of transformers  “Attention All You Need”.\n"
          ]
        }
      ]
    },
    {
      "cell_type": "markdown",
      "source": [
        "# **Tokenization**\n"
      ],
      "metadata": {
        "id": "R-TBhITBT8FG"
      }
    },
    {
      "cell_type": "markdown",
      "source": [
        "It is the first preporcessing step in any nlp program . in this we convert the sentences or corpus into tokens or smaller units ."
      ],
      "metadata": {
        "id": "6sG7D1Vxe5gS"
      }
    },
    {
      "cell_type": "code",
      "source": [
        "import nltk\n",
        "nltk.download('punkt')"
      ],
      "metadata": {
        "colab": {
          "base_uri": "https://localhost:8080/"
        },
        "id": "KG_RA5D9UhAj",
        "outputId": "8d2d4222-97cc-4c33-f148-bd78440b88b0"
      },
      "execution_count": 3,
      "outputs": [
        {
          "output_type": "stream",
          "name": "stderr",
          "text": [
            "[nltk_data] Downloading package punkt to /root/nltk_data...\n",
            "[nltk_data]   Unzipping tokenizers/punkt.zip.\n"
          ]
        },
        {
          "output_type": "execute_result",
          "data": {
            "text/plain": [
              "True"
            ]
          },
          "metadata": {},
          "execution_count": 3
        }
      ]
    },
    {
      "cell_type": "code",
      "source": [
        "import nltk\n",
        "from nltk.tokenize import word_tokenize, sent_tokenize\n",
        "\n",
        "# Word tokenization\n",
        "words = word_tokenize(text)\n",
        "print(\"Word Tokenization:\")\n",
        "print(words)\n",
        "\n",
        "# Sentence tokenization\n",
        "sentences = sent_tokenize(text)\n",
        "print(\"\\nSentence Tokenization:\")\n",
        "print(sentences)\n"
      ],
      "metadata": {
        "colab": {
          "base_uri": "https://localhost:8080/"
        },
        "id": "OxL7CV2pT-MS",
        "outputId": "ff3320d6-1fd8-4e2e-a81c-fb44e98c2e27"
      },
      "execution_count": 4,
      "outputs": [
        {
          "output_type": "stream",
          "name": "stdout",
          "text": [
            "Word Tokenization:\n",
            "['Vaswani', 'et', 'al', '.', '(', '2017', ')', ',', 'Google', '.', 'The', 'transformer', 'is', 'the', 'most', 'influential', 'Neural', 'Network', 'model', 'that', 'has', 'shown', 'outstanding', 'performance', 'on', 'various', 'NLP', 'tasks', 'including', 'Machine', 'Reading', 'Comprehension', ',', 'Machine', 'translation', 'and', 'sentence', 'classification', '.', 'Attention', 'mechanism', 'and', 'parallelization', 'are', 'the', 'prominent', 'features', 'in', 'the', 'transformers', '.', 'Consequently', ',', 'it', 'can', 'facilitate', 'long-range', 'dependencies', 'without', 'any', 'gradient', 'vanishing', 'or', 'gradient', 'explosion', 'problems', 'and', 'it', 'overcomes', 'the', 'drawbacks', 'of', 'the', 'existing', 'methods', 'such', 'as', 'RNN', 'and', 'LSTM', '.', 'The', 'transformer', 'is', 'executed', 'with', 'an', 'encoder-decoder', 'mechanism', 'and', 'the', 'original', 'article', 'of', 'transformers', '“', 'Attention', 'All', 'You', 'Need', '”', '.']\n",
            "\n",
            "Sentence Tokenization:\n",
            "[' Vaswani et al.', '(2017), Google.', 'The transformer is the most influential Neural Network model that has shown outstanding performance on various NLP tasks including Machine Reading Comprehension, Machine translation and sentence classification.', 'Attention mechanism and parallelization are the prominent features in the transformers.', 'Consequently, it can facilitate long-range dependencies without any gradient vanishing or gradient explosion problems and it overcomes the drawbacks of the existing methods such as RNN and LSTM.', 'The transformer is executed with an encoder-decoder mechanism and the original article of transformers  “Attention All You Need”.']\n"
          ]
        }
      ]
    },
    {
      "cell_type": "markdown",
      "source": [
        " imports the NLTK library and uses the word_tokenize and sent_tokenize functions to tokenize the sample text into words and sentences, respectively."
      ],
      "metadata": {
        "id": "UO5y0FcKdj3L"
      }
    },
    {
      "cell_type": "markdown",
      "source": [
        "# **Stopwords removal**"
      ],
      "metadata": {
        "id": "PmeZpoq0VEGu"
      }
    },
    {
      "cell_type": "markdown",
      "source": [
        "Removing Stopwords is one of the preprocessing steps in nlp programs"
      ],
      "metadata": {
        "id": "4pYPFiSEdDOF"
      }
    },
    {
      "cell_type": "code",
      "source": [
        "nltk.download('stopwords')\n"
      ],
      "metadata": {
        "colab": {
          "base_uri": "https://localhost:8080/"
        },
        "id": "eZPEERDhVCBk",
        "outputId": "c3aceb7f-2559-4a89-f9ab-23e194bd9738"
      },
      "execution_count": 5,
      "outputs": [
        {
          "output_type": "stream",
          "name": "stderr",
          "text": [
            "[nltk_data] Downloading package stopwords to /root/nltk_data...\n",
            "[nltk_data]   Unzipping corpora/stopwords.zip.\n"
          ]
        },
        {
          "output_type": "execute_result",
          "data": {
            "text/plain": [
              "True"
            ]
          },
          "metadata": {},
          "execution_count": 5
        }
      ]
    },
    {
      "cell_type": "code",
      "source": [
        "from nltk.corpus import stopwords\n",
        "\n",
        "# Get English stopwords from NLTK\n",
        "stop_words = set(stopwords.words('english'))\n",
        "\n",
        "# Remove stopwords from the text\n",
        "filtered_text = [word for word in words if word.lower() not in stop_words]\n",
        "\n",
        "print(\"Filtered text after stopwords removal:\")\n",
        "print(filtered_text)\n"
      ],
      "metadata": {
        "colab": {
          "base_uri": "https://localhost:8080/"
        },
        "id": "Lnl-LZAxUePq",
        "outputId": "d4823ab7-53c9-46c1-be3a-d3af1aeaa36e"
      },
      "execution_count": 6,
      "outputs": [
        {
          "output_type": "stream",
          "name": "stdout",
          "text": [
            "Filtered text after stopwords removal:\n",
            "['Vaswani', 'et', 'al', '.', '(', '2017', ')', ',', 'Google', '.', 'transformer', 'influential', 'Neural', 'Network', 'model', 'shown', 'outstanding', 'performance', 'various', 'NLP', 'tasks', 'including', 'Machine', 'Reading', 'Comprehension', ',', 'Machine', 'translation', 'sentence', 'classification', '.', 'Attention', 'mechanism', 'parallelization', 'prominent', 'features', 'transformers', '.', 'Consequently', ',', 'facilitate', 'long-range', 'dependencies', 'without', 'gradient', 'vanishing', 'gradient', 'explosion', 'problems', 'overcomes', 'drawbacks', 'existing', 'methods', 'RNN', 'LSTM', '.', 'transformer', 'executed', 'encoder-decoder', 'mechanism', 'original', 'article', 'transformers', '“', 'Attention', 'Need', '”', '.']\n"
          ]
        }
      ]
    },
    {
      "cell_type": "markdown",
      "source": [
        "# **Punctuation Removal**"
      ],
      "metadata": {
        "id": "dD9CcvMxV56x"
      }
    },
    {
      "cell_type": "markdown",
      "source": [
        "Punctuation removal is a text preprocessing technique that involves eliminating punctuation marks from a given piece of text"
      ],
      "metadata": {
        "id": "z3axWdLnct_6"
      }
    },
    {
      "cell_type": "code",
      "source": [
        "import string"
      ],
      "metadata": {
        "id": "jBCQK598U8gk"
      },
      "execution_count": 7,
      "outputs": []
    },
    {
      "cell_type": "code",
      "source": [
        "Clean_txt = text.translate(str.maketrans('','',string.punctuation))"
      ],
      "metadata": {
        "id": "PdTah0OmVhBW"
      },
      "execution_count": 61,
      "outputs": []
    },
    {
      "cell_type": "code",
      "source": [
        "print(\"Text after punctuation removal:\")\n",
        "print(Clean_txt)"
      ],
      "metadata": {
        "colab": {
          "base_uri": "https://localhost:8080/"
        },
        "id": "zD9e35NYVyKM",
        "outputId": "7c69a22e-736e-4ef3-eb38-27f0de05b24d"
      },
      "execution_count": 63,
      "outputs": [
        {
          "output_type": "stream",
          "name": "stdout",
          "text": [
            "Text after punctuation removal:\n",
            " Vaswani et al 2017 Google The transformer is the most influential Neural Network model that has shown outstanding performance on various NLP tasks including Machine Reading Comprehension Machine translation and sentence classification Attention mechanism and parallelization are the prominent features in the transformers Consequently it can facilitate longrange dependencies without any gradient vanishing or gradient explosion problems and it overcomes the drawbacks of the existing methods such as RNN and LSTM The transformer is executed with an encoderdecoder mechanism and the original article of transformers  “Attention All You Need”\n"
          ]
        }
      ]
    },
    {
      "cell_type": "markdown",
      "source": [
        "first i imported the string library . then i used the string.punctuation constant to remove all punctuation marks from the sample text."
      ],
      "metadata": {
        "id": "gFQGQEkfcoxw"
      }
    },
    {
      "cell_type": "markdown",
      "source": [
        "# **Frequency Distribution**"
      ],
      "metadata": {
        "id": "kR0po0JDWIi4"
      }
    },
    {
      "cell_type": "code",
      "source": [
        "# Tokenize the text\n",
        "words = nltk.word_tokenize(Clean_txt)"
      ],
      "metadata": {
        "id": "mVKeUywAXm6L"
      },
      "execution_count": 64,
      "outputs": []
    },
    {
      "cell_type": "code",
      "source": [
        "# Remove stopwords from the text\n",
        "filtered_text = [word for word in words if word.lower() not in stop_words]\n",
        "\n",
        "print(\"Filtered text after stopwords removal:\")\n",
        "print(filtered_text)\n"
      ],
      "metadata": {
        "colab": {
          "base_uri": "https://localhost:8080/"
        },
        "id": "rsnSoZfEXiZy",
        "outputId": "04523d2d-e23b-4178-83dd-3474730f2bc0"
      },
      "execution_count": 65,
      "outputs": [
        {
          "output_type": "stream",
          "name": "stdout",
          "text": [
            "Filtered text after stopwords removal:\n",
            "['Vaswani', 'et', 'al', '2017', 'Google', 'transformer', 'influential', 'Neural', 'Network', 'model', 'shown', 'outstanding', 'performance', 'various', 'NLP', 'tasks', 'including', 'Machine', 'Reading', 'Comprehension', 'Machine', 'translation', 'sentence', 'classification', 'Attention', 'mechanism', 'parallelization', 'prominent', 'features', 'transformers', 'Consequently', 'facilitate', 'longrange', 'dependencies', 'without', 'gradient', 'vanishing', 'gradient', 'explosion', 'problems', 'overcomes', 'drawbacks', 'existing', 'methods', 'RNN', 'LSTM', 'transformer', 'executed', 'encoderdecoder', 'mechanism', 'original', 'article', 'transformers', '“', 'Attention', 'Need', '”']\n"
          ]
        }
      ]
    },
    {
      "cell_type": "code",
      "source": [
        "from nltk import FreqDist\n",
        "import matplotlib.pyplot as plt"
      ],
      "metadata": {
        "id": "KoAggsVyYFn6"
      },
      "execution_count": 11,
      "outputs": []
    },
    {
      "cell_type": "code",
      "source": [
        "# Calculate frequency distribution\n",
        "fdist = FreqDist(words)"
      ],
      "metadata": {
        "id": "aJxkp07vV34Z"
      },
      "execution_count": 12,
      "outputs": []
    },
    {
      "cell_type": "code",
      "source": [
        "# Visualize the frequency distribution\n",
        "plt.figure(figsize=(12, 6))\n",
        "fdist.plot(30, cumulative=False)\n",
        "plt.show()"
      ],
      "metadata": {
        "colab": {
          "base_uri": "https://localhost:8080/",
          "height": 617
        },
        "id": "g0yFDUPEYcnY",
        "outputId": "66426a13-373d-4878-f1c8-b0b669267c76"
      },
      "execution_count": 13,
      "outputs": [
        {
          "output_type": "display_data",
          "data": {
            "text/plain": [
              "<Figure size 1200x600 with 1 Axes>"
            ],
            "image/png": "[encoded data removed]"
          },
          "metadata": {}
        }
      ]
    },
    {
      "cell_type": "markdown",
      "source": [
        "in this the code ee calculates the frequency distribution of the tokens using the FreqDist class from the NLTK library, and then visualizes the distribution using matplotlib."
      ],
      "metadata": {
        "id": "bHpt80Rkbj17"
      }
    },
    {
      "cell_type": "markdown",
      "source": [
        "# *Stemming* - any two"
      ],
      "metadata": {
        "id": "ocCZv_CjWhb_"
      }
    },
    {
      "cell_type": "markdown",
      "source": [
        "Stemming is a natural language processing technique used to reduce words to their root form . this may not be right sometimes"
      ],
      "metadata": {
        "id": "9Ns72bMebPYR"
      }
    },
    {
      "cell_type": "code",
      "source": [
        "from nltk.stem import PorterStemmer"
      ],
      "metadata": {
        "id": "6Lp3-aJzWh_w"
      },
      "execution_count": 14,
      "outputs": []
    },
    {
      "cell_type": "code",
      "source": [
        "# Apply stemming using PorterStemmer\n",
        "stemmer = PorterStemmer()\n",
        "stemmed_words = [stemmer.stem(word) for word in words]\n",
        "print(\"Porter Stemmer Example:\")\n",
        "print(stemmed_words)"
      ],
      "metadata": {
        "colab": {
          "base_uri": "https://localhost:8080/"
        },
        "id": "t8frIWVwY12A",
        "outputId": "9d53f621-c042-4163-9ff4-075c7996285f"
      },
      "execution_count": 15,
      "outputs": [
        {
          "output_type": "stream",
          "name": "stdout",
          "text": [
            "Porter Stemmer Example:\n",
            "['vaswani', 'et', 'al', '.', '(', '2017', ')', ',', 'googl', '.', 'the', 'transform', 'is', 'the', 'most', 'influenti', 'neural', 'network', 'model', 'that', 'ha', 'shown', 'outstand', 'perform', 'on', 'variou', 'nlp', 'task', 'includ', 'machin', 'read', 'comprehens', ',', 'machin', 'translat', 'and', 'sentenc', 'classif', '.', 'attent', 'mechan', 'and', 'parallel', 'are', 'the', 'promin', 'featur', 'in', 'the', 'transform', '.', 'consequ', ',', 'it', 'can', 'facilit', 'long-rang', 'depend', 'without', 'ani', 'gradient', 'vanish', 'or', 'gradient', 'explos', 'problem', 'and', 'it', 'overcom', 'the', 'drawback', 'of', 'the', 'exist', 'method', 'such', 'as', 'rnn', 'and', 'lstm', '.', 'the', 'transform', 'is', 'execut', 'with', 'an', 'encoder-decod', 'mechan', 'and', 'the', 'origin', 'articl', 'of', 'transform', '“', 'attent', 'all', 'you', 'need', '”', '.']\n"
          ]
        }
      ]
    },
    {
      "cell_type": "code",
      "source": [],
      "metadata": {
        "id": "vxosrVuBY1yf"
      },
      "execution_count": 15,
      "outputs": []
    },
    {
      "cell_type": "markdown",
      "source": [
        "# **lemmatization and POS**"
      ],
      "metadata": {
        "id": "SnAWLaA_Wj0m"
      }
    },
    {
      "cell_type": "markdown",
      "source": [
        "Lemmatization is a text normalization technique in natural language processing that aims to reduce words to their base or root form, known as the lemma."
      ],
      "metadata": {
        "id": "AMsSLRGWaqOZ"
      }
    },
    {
      "cell_type": "code",
      "source": [
        "from nltk import pos_tag\n",
        "from nltk.stem import WordNetLemmatizer"
      ],
      "metadata": {
        "id": "vsXIqruRWkc8"
      },
      "execution_count": 16,
      "outputs": []
    },
    {
      "cell_type": "code",
      "source": [
        "nltk.download('averaged_perceptron_tagger')"
      ],
      "metadata": {
        "colab": {
          "base_uri": "https://localhost:8080/"
        },
        "id": "gRa5WBDpZY_Y",
        "outputId": "eb6b272f-fb0a-4575-8faf-0f0a8a79b5f0"
      },
      "execution_count": 17,
      "outputs": [
        {
          "output_type": "stream",
          "name": "stderr",
          "text": [
            "[nltk_data] Downloading package averaged_perceptron_tagger to\n",
            "[nltk_data]     /root/nltk_data...\n",
            "[nltk_data]   Unzipping taggers/averaged_perceptron_tagger.zip.\n"
          ]
        },
        {
          "output_type": "execute_result",
          "data": {
            "text/plain": [
              "True"
            ]
          },
          "metadata": {},
          "execution_count": 17
        }
      ]
    },
    {
      "cell_type": "code",
      "source": [
        "tagged_words = pos_tag(words)"
      ],
      "metadata": {
        "id": "6u5lyLH7ZQ8Y"
      },
      "execution_count": 18,
      "outputs": []
    },
    {
      "cell_type": "code",
      "source": [
        "nltk.download('wordnet')"
      ],
      "metadata": {
        "colab": {
          "base_uri": "https://localhost:8080/"
        },
        "id": "tSqKAJpWZjJG",
        "outputId": "d41b9f02-8514-4ceb-e987-d1be24d015dd"
      },
      "execution_count": 19,
      "outputs": [
        {
          "output_type": "stream",
          "name": "stderr",
          "text": [
            "[nltk_data] Downloading package wordnet to /root/nltk_data...\n"
          ]
        },
        {
          "output_type": "execute_result",
          "data": {
            "text/plain": [
              "True"
            ]
          },
          "metadata": {},
          "execution_count": 19
        }
      ]
    },
    {
      "cell_type": "code",
      "source": [
        "# Lemmatize words based on POS tags\n",
        "lemmatizer = WordNetLemmatizer()\n",
        "lemmatized_words = []\n",
        "for word, tag in tagged_words:\n",
        "    pos = tag[0].lower() if tag[0].lower() in ['a', 'r', 'n', 'v'] else 'n'\n",
        "    lemma = lemmatizer.lemmatize(word, pos=pos)\n",
        "    lemmatized_words.append(lemma)"
      ],
      "metadata": {
        "id": "4npKC3aRZUFB"
      },
      "execution_count": 20,
      "outputs": []
    },
    {
      "cell_type": "code",
      "source": [
        "print(\"Lemmatized Words:\")\n",
        "print(lemmatized_words)"
      ],
      "metadata": {
        "colab": {
          "base_uri": "https://localhost:8080/"
        },
        "id": "I-8qmDemZej6",
        "outputId": "978a66ac-c18b-4514-8eb5-88c1b08d8988"
      },
      "execution_count": 21,
      "outputs": [
        {
          "output_type": "stream",
          "name": "stdout",
          "text": [
            "Lemmatized Words:\n",
            "['Vaswani', 'et', 'al', '.', '(', '2017', ')', ',', 'Google', '.', 'The', 'transformer', 'be', 'the', 'most', 'influential', 'Neural', 'Network', 'model', 'that', 'have', 'show', 'outstanding', 'performance', 'on', 'various', 'NLP', 'task', 'include', 'Machine', 'Reading', 'Comprehension', ',', 'Machine', 'translation', 'and', 'sentence', 'classification', '.', 'Attention', 'mechanism', 'and', 'parallelization', 'be', 'the', 'prominent', 'feature', 'in', 'the', 'transformer', '.', 'Consequently', ',', 'it', 'can', 'facilitate', 'long-range', 'dependency', 'without', 'any', 'gradient', 'vanishing', 'or', 'gradient', 'explosion', 'problem', 'and', 'it', 'overcome', 'the', 'drawback', 'of', 'the', 'exist', 'method', 'such', 'a', 'RNN', 'and', 'LSTM', '.', 'The', 'transformer', 'be', 'execute', 'with', 'an', 'encoder-decoder', 'mechanism', 'and', 'the', 'original', 'article', 'of', 'transformer', '“', 'Attention', 'All', 'You', 'Need', '”', '.']\n"
          ]
        }
      ]
    },
    {
      "cell_type": "markdown",
      "source": [
        "The text is tokenized and tagged with POS using NLTK. Then, the WordNetLemmatizer is applied with the POS tags to lemmatize the words accurately. The resulting lemmatized words reflect the base forms of the words based on the provided context and POS tagging."
      ],
      "metadata": {
        "id": "Z0cEAi_FauG_"
      }
    },
    {
      "cell_type": "markdown",
      "source": [
        "# **Named Entity Recoignition**"
      ],
      "metadata": {
        "id": "0nTes5d_aVbF"
      }
    },
    {
      "cell_type": "markdown",
      "source": [
        "Doing the Named Entity Recognition (NER) involves identifying and categorizing entities such as names of persons, organizations, locations, dates, and more in a given text."
      ],
      "metadata": {
        "id": "ndplrPgaafdP"
      }
    },
    {
      "cell_type": "code",
      "source": [
        "import spacy"
      ],
      "metadata": {
        "id": "1Sev1A0UZl7H"
      },
      "execution_count": 22,
      "outputs": []
    },
    {
      "cell_type": "code",
      "source": [
        "# Load the spaCy English model\n",
        "nlp = spacy.load('en_core_web_sm')"
      ],
      "metadata": {
        "id": "bg3dLHKEZu1D"
      },
      "execution_count": 23,
      "outputs": []
    },
    {
      "cell_type": "code",
      "source": [
        "# Process the text with spaCy\n",
        "doc = nlp(text)"
      ],
      "metadata": {
        "id": "Spgbkn-CZxLU"
      },
      "execution_count": 24,
      "outputs": []
    },
    {
      "cell_type": "code",
      "source": [
        "# Extract and print named entities\n",
        "for entity in doc.ents:\n",
        "    print(entity.text, entity.label_)"
      ],
      "metadata": {
        "colab": {
          "base_uri": "https://localhost:8080/"
        },
        "id": "198uxp_4Z4X1",
        "outputId": "c451e732-a5c2-4d6c-ce31-26c4ced93f35"
      },
      "execution_count": 25,
      "outputs": [
        {
          "output_type": "stream",
          "name": "stdout",
          "text": [
            "2017 DATE\n",
            "Google ORG\n",
            "Neural Network ORG\n",
            "NLP ORG\n",
            "Machine Reading Comprehension ORG\n",
            "RNN ORG\n"
          ]
        }
      ]
    },
    {
      "cell_type": "markdown",
      "source": [
        "The spaCy English model is loaded, and the text is processed using this model. The named entities and their respective categories are then extracted and printed. The entity.text represents the identified entity, and entity.label_ provides the category or type of the entity.\n"
      ],
      "metadata": {
        "id": "qOZ-EZM8aIpp"
      }
    },
    {
      "cell_type": "markdown",
      "source": [
        "# **SEcond Question**"
      ],
      "metadata": {
        "id": "ym9RwUebd8B6"
      }
    },
    {
      "cell_type": "markdown",
      "source": [
        "Import the libraires"
      ],
      "metadata": {
        "id": "f9WLsgInmLVl"
      }
    },
    {
      "cell_type": "code",
      "source": [
        "from gensim.models import Word2Vec\n",
        "from sklearn.decomposition import PCA"
      ],
      "metadata": {
        "id": "j8HwWAHPek0j"
      },
      "execution_count": 26,
      "outputs": []
    },
    {
      "cell_type": "markdown",
      "source": [
        "define corpus"
      ],
      "metadata": {
        "id": "6MlCDGdtmOHn"
      }
    },
    {
      "cell_type": "code",
      "source": [
        "text2 = \"Mickey Mouse, a cheerful and optimistic mouse clad in red shorts and yellow shoes, is the iconic mascot of The Walt Disney Company. Debuting in 1928, this spunky character has charmed audiences for generations with his adventures and can-do attitude.\""
      ],
      "metadata": {
        "id": "-6Vq6fRsZ6lE"
      },
      "execution_count": 27,
      "outputs": []
    },
    {
      "cell_type": "code",
      "source": [
        "text2"
      ],
      "metadata": {
        "colab": {
          "base_uri": "https://localhost:8080/",
          "height": 53
        },
        "id": "zySCRbL8cCl0",
        "outputId": "1720c121-d03a-4f8f-9531-ab07b867055c"
      },
      "execution_count": 28,
      "outputs": [
        {
          "output_type": "execute_result",
          "data": {
            "text/plain": [
              "'Mickey Mouse, a cheerful and optimistic mouse clad in red shorts and yellow shoes, is the iconic mascot of The Walt Disney Company. Debuting in 1928, this spunky character has charmed audiences for generations with his adventures and can-do attitude.'"
            ],
            "application/vnd.google.colaboratory.intrinsic+json": {
              "type": "string"
            }
          },
          "metadata": {},
          "execution_count": 28
        }
      ]
    },
    {
      "cell_type": "code",
      "source": [
        "words=word_tokenize(text)"
      ],
      "metadata": {
        "id": "rVJvQcX5oBMl"
      },
      "execution_count": 54,
      "outputs": []
    },
    {
      "cell_type": "code",
      "source": [
        "skipgram_model = Word2Vec(sentences=[words], vector_size=100, window=5, sg=1, min_count=1, workers=4)"
      ],
      "metadata": {
        "id": "siXloyunog5F"
      },
      "execution_count": 55,
      "outputs": []
    },
    {
      "cell_type": "code",
      "source": [
        "cbow_model = Word2Vec(sentences=[words], vector_size=100, window=5, sg=0, min_count=1, workers=4)"
      ],
      "metadata": {
        "id": "2GnhpXRUokPW"
      },
      "execution_count": 56,
      "outputs": []
    },
    {
      "cell_type": "code",
      "source": [],
      "metadata": {
        "id": "5sWrT1l8oo0J"
      },
      "execution_count": 57,
      "outputs": []
    }
  ]
}