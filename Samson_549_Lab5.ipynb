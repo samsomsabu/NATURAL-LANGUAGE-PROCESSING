{
  "cells": [
    {
      "cell_type": "markdown",
      "metadata": {
        "id": "view-in-github",
        "colab_type": "text"
      },
      "source": [
        "<a href=\"https://colab.research.google.com/github/samsomsabu/NATURAL-LANGUAGE-PROCESSING/blob/main/Samson_549_Lab5.ipynb\" target=\"_parent\"><img src=\"https://colab.research.google.com/assets/colab-badge.svg\" alt=\"Open In Colab\"/></a>"
      ]
    },
    {
      "cell_type": "markdown",
      "metadata": {
        "id": "KKyj4_Em55FJ"
      },
      "source": [
        "# **1. Write a program to get Antonyms from WordNet.**"
      ]
    },
    {
      "cell_type": "markdown",
      "metadata": {
        "id": "hACz6cJjFXGS"
      },
      "source": [
        "# ***Explanation***"
      ]
    },
    {
      "cell_type": "markdown",
      "metadata": {
        "id": "IyXk6XEcFa5U"
      },
      "source": [
        "WordNet is a large lexical database of English. Nouns, verbs, adjectives and adverbs are grouped into sets of cognitive synonyms (synsets), each expressing a distinct concept. Synsets are interlinked by means of conceptual-semantic and lexical relations.\n",
        "\n",
        "\n",
        "WordNet's structure makes it a useful tool for computational linguistics and natural language processing.\n",
        "\n",
        "WordNet superficially resembles a thesaurus, in that it groups words together based on their meanings. However, there are some important distinctions.\n",
        "\n",
        "First, WordNet interlinks not just word forms—strings of letters—but specific senses of words. As a result, words that are found in close proximity to one another in the network are semantically disambiguated.\n",
        "Second, WordNet labels the semantic relations among words, whereas the groupings of words in a thesaurus does not follow any explicit pattern other than meaning similarity."
      ]
    },
    {
      "cell_type": "code",
      "execution_count": 10,
      "metadata": {
        "id": "KvPXMfob1npW"
      },
      "outputs": [],
      "source": [
        "import nltk"
      ]
    },
    {
      "cell_type": "code",
      "execution_count": 11,
      "metadata": {
        "id": "r-oAwcup6FFP",
        "colab": {
          "base_uri": "https://localhost:8080/"
        },
        "outputId": "8b4937ec-8bca-42c3-9ec6-f6033edbc8f4"
      },
      "outputs": [
        {
          "output_type": "stream",
          "name": "stderr",
          "text": [
            "[nltk_data] Downloading package wordnet to /root/nltk_data...\n",
            "[nltk_data]   Package wordnet is already up-to-date!\n"
          ]
        },
        {
          "output_type": "execute_result",
          "data": {
            "text/plain": [
              "True"
            ]
          },
          "metadata": {},
          "execution_count": 11
        }
      ],
      "source": [
        "nltk.download('wordnet')"
      ]
    },
    {
      "cell_type": "code",
      "execution_count": 8,
      "metadata": {
        "id": "vK7FTKPW54dO",
        "colab": {
          "base_uri": "https://localhost:8080/"
        },
        "outputId": "0c8aec4a-325b-40ce-9689-5b68e1ce60f4"
      },
      "outputs": [
        {
          "output_type": "stream",
          "name": "stdout",
          "text": [
            "{'evilness', 'evil', 'bad', 'ill', 'badness'}\n"
          ]
        }
      ],
      "source": [
        "import nltk\n",
        "from nltk.corpus import wordnet\n",
        "\n",
        "antonyms = []\n",
        "\n",
        "for syn in wordnet.synsets(\"good\"):\n",
        "    for l in syn.lemmas():\n",
        "        if l.antonyms():\n",
        "            antonyms.append(l.antonyms()[0].name())\n",
        "\n",
        "print(set(antonyms))\n"
      ]
    },
    {
      "cell_type": "markdown",
      "metadata": {
        "id": "dbw_mRBPGM7t"
      },
      "source": [
        "antonyms = []: Initializes an empty list called antonyms to store the antonyms found for the word \"good\".\n",
        "\n",
        "for syn in wordnet.synsets(\"good\"):: This loop iterates through all the synsets (sets of synonyms) in WordNet for the word \"good\".\n",
        "\n",
        "for l in syn.lemmas():: This nested loop iterates through all the lemmas (words with the same meaning) in each synset.\n",
        "\n",
        "if l.antonyms(): Checks if the current lemma has any antonyms.\n",
        "\n",
        "antonyms.append(l.antonyms()[0].name()): If an antonym exists for the current lemma, the first antonym found is added to the antonyms list.\n",
        "\n",
        "print(set(antonyms)): Finally, the set of antonyms found is printed to the console. Using set ensures that duplicates are removed, providing a unique list of antonyms for the word \"good.\""
      ]
    },
    {
      "cell_type": "code",
      "execution_count": 9,
      "metadata": {
        "id": "NKKDJvlJ5-eF",
        "colab": {
          "base_uri": "https://localhost:8080/"
        },
        "outputId": "f31cd4a5-7f40-44ad-9f23-55e01cc33784"
      },
      "outputs": [
        {
          "output_type": "stream",
          "name": "stdout",
          "text": [
            "{'hate'}\n"
          ]
        }
      ],
      "source": [
        "from nltk.corpus import wordnet\n",
        "\n",
        "antonyms = []\n",
        "\n",
        "for syn in wordnet.synsets(\"love\"):\n",
        "    for i in syn.lemmas():\n",
        "         if i.antonyms():\n",
        "              antonyms.append(i.antonyms()[0].name())\n",
        "\n",
        "print(set(antonyms))"
      ]
    },
    {
      "cell_type": "markdown",
      "metadata": {
        "id": "P0gl5lm46lqh"
      },
      "source": [
        "https://www.geeksforgeeks.org/get-synonymsantonyms-nltk-wordnet-python/"
      ]
    },
    {
      "cell_type": "markdown",
      "metadata": {
        "id": "YR0qkLmU6oXE"
      },
      "source": [
        "https://www.holisticseo.digital/python-seo/nltk/wordnet"
      ]
    },
    {
      "cell_type": "markdown",
      "metadata": {
        "id": "KaTXEyYp6N5_"
      },
      "source": [
        "2. Write a program for stemming non-English words."
      ]
    },
    {
      "cell_type": "markdown",
      "metadata": {
        "id": "b-GzVu3fGis9"
      },
      "source": [
        "# Stemming\n",
        "\n",
        "Stemming is a technique used to reduce an inflected word down to its word stem. For example, the words “programming,” “programmer,” and “programs” can all be reduced down to the common word stem “program.” In other words, “program” can be used as a synonym for the prior three inflection words.\n",
        "\n",
        "Performing this text-processing technique is often useful for dealing with sparsity and/or standardizing vocabulary. Not only does it help with reducing redundancy, as most of the time the word stem and their inflected words have the same meaning, it also allows NLP models to learn links between inflected words and their word stem, which helps the model understand their usage in similar contexts.\n",
        "\n",
        "Stemming algorithms function by taking a list of frequent prefixes and suffixes found in inflected words and chopping off the end or beginning of the word. This can occasionally result in word stems that are not real words; thus, we can affirm this approach certainly has its pros, but it’s not without its limitations."
      ]
    },
    {
      "cell_type": "markdown",
      "metadata": {
        "id": "nWOkbaCrGjzf"
      },
      "source": []
    },
    {
      "cell_type": "code",
      "execution_count": 12,
      "metadata": {
        "id": "LTP8dBi76KEy"
      },
      "outputs": [],
      "source": [
        "from nltk.stem.snowball import GermanStemmer"
      ]
    },
    {
      "cell_type": "code",
      "execution_count": 13,
      "metadata": {
        "id": "KYKYb-al6SbX"
      },
      "outputs": [],
      "source": [
        "german_st = GermanStemmer()"
      ]
    },
    {
      "cell_type": "code",
      "execution_count": 14,
      "metadata": {
        "id": "acth3UGy6VWl"
      },
      "outputs": [],
      "source": [
        "token_sample = [\"Schreiben\",\"geschrieben\"]"
      ]
    },
    {
      "cell_type": "code",
      "execution_count": 15,
      "metadata": {
        "id": "646YoGM06XwL"
      },
      "outputs": [],
      "source": [
        "stem_words = [german_st.stem(words) for words in token_sample]"
      ]
    },
    {
      "cell_type": "code",
      "execution_count": 16,
      "metadata": {
        "id": "t6KtEl736aIf",
        "colab": {
          "base_uri": "https://localhost:8080/"
        },
        "outputId": "866cb6c4-490c-4c2d-ad80-b09f43db02b4"
      },
      "outputs": [
        {
          "output_type": "stream",
          "name": "stdout",
          "text": [
            "Print the output after stemming: ['schreib', 'geschrieb']\n"
          ]
        }
      ],
      "source": [
        "print(\"Print the output after stemming:\",stem_words)"
      ]
    },
    {
      "cell_type": "markdown",
      "metadata": {
        "id": "PH5NfSfVGn7b"
      },
      "source": [
        "Step 1 - Import the German language Stemmer\n",
        "\n",
        "\n",
        "Step 2 - Store the german stemmer in a variable\n",
        "\n",
        "\n",
        "Step 3 - Take sample words\n",
        "\n",
        "\n",
        "Step 4 - Apply stemming and print the results"
      ]
    },
    {
      "cell_type": "markdown",
      "metadata": {
        "id": "f79Yv0NU6hhG"
      },
      "source": [
        "https://www.projectpro.io/recipes/stem-non-english-words"
      ]
    },
    {
      "cell_type": "markdown",
      "metadata": {
        "id": "GMvm7SKoGz3_"
      },
      "source": [
        "SnowballStemmer class\n",
        "NLTK has SnowballStemmer class with the help of which we can easily implement Snowball Stemmer algorithms. It supports 15 non-English languages."
      ]
    },
    {
      "cell_type": "code",
      "execution_count": 17,
      "metadata": {
        "id": "sDYUdYl0-5S7",
        "colab": {
          "base_uri": "https://localhost:8080/",
          "height": 36
        },
        "outputId": "16b49156-680c-45a6-c0bb-0a360933b402"
      },
      "outputs": [
        {
          "output_type": "execute_result",
          "data": {
            "text/plain": [
              "'bonjour'"
            ],
            "application/vnd.google.colaboratory.intrinsic+json": {
              "type": "string"
            }
          },
          "metadata": {},
          "execution_count": 17
        }
      ],
      "source": [
        "import nltk\n",
        "from nltk.stem import SnowballStemmer\n",
        "French_stemmer = SnowballStemmer('french')\n",
        "French_stemmer.stem ('Bonjoura')"
      ]
    },
    {
      "cell_type": "markdown",
      "metadata": {
        "id": "B2OuVaVO6qq3"
      },
      "source": [
        "3. Write a program for lemmatizing words Using WordNet (Use all type of stemmers for the\n",
        "comparison)."
      ]
    },
    {
      "cell_type": "markdown",
      "metadata": {
        "id": "X1Coj03CHIHV"
      },
      "source": [
        "# **Lemmatization**\n",
        "Lemmatization is another technique used to reduce inflected words to their root word. It describes the algorithmic process of identifying an inflected word’s “lemma” (dictionary form) based on its intended meaning.\n",
        "\n",
        "As opposed to stemming, lemmatization relies on accurately determining the intended part-of-speech and the meaning of a word based on its context. This means it takes into consideration where the inflected word falls within a sentence, as well as within the larger context surrounding that sentence, such as neighboring sentences or even an entire document."
      ]
    },
    {
      "cell_type": "code",
      "execution_count": 18,
      "metadata": {
        "id": "cY9N2KgX8Fqu",
        "colab": {
          "base_uri": "https://localhost:8080/"
        },
        "outputId": "a1e77ab2-7661-4b8e-e5b1-892a40d3089e"
      },
      "outputs": [
        {
          "output_type": "stream",
          "name": "stderr",
          "text": [
            "[nltk_data] Downloading package punkt to /root/nltk_data...\n",
            "[nltk_data]   Unzipping tokenizers/punkt.zip.\n"
          ]
        },
        {
          "output_type": "stream",
          "name": "stdout",
          "text": [
            "--Word--            --Stem--            \n",
            "program             program             \n",
            "programming         program             \n",
            "programer           program             \n",
            "programs            program             \n",
            "programmed          program             \n"
          ]
        }
      ],
      "source": [
        "import nltk\n",
        "from nltk.stem import PorterStemmer\n",
        "nltk.download(\"punkt\")\n",
        "# Initialize Python porter stemmer\n",
        "ps = PorterStemmer()\n",
        "# Example inflections to reduce\n",
        "example_words = [\"program\",\"programming\",\"programer\",\"programs\",\"programmed\"]\n",
        "# Perform stemming\n",
        "print(\"{0:20}{1:20}\".format(\"--Word--\",\"--Stem--\"))\n",
        "for word in example_words:\n",
        "   print (\"{0:20}{1:20}\".format(word, ps.stem(word)))\n"
      ]
    },
    {
      "cell_type": "markdown",
      "metadata": {
        "id": "DXpS6IXnIxhe"
      },
      "source": [
        "This code performs stemming on a list of example words using the Porter stemming algorithm from the Natural Language Toolkit (nltk) library in Python.\n",
        "\n",
        "\n",
        "• First, the nltk library is imported and the PorterStemmer class is imported from it.\n",
        "\n",
        "\n",
        "• Then, the \"punkt\" dataset is downloaded from nltk using the nltk.download() function.\n",
        "\n",
        "\n",
        "• Next, an instance of the PorterStemmer class is created and assigned to the variable ps.\n",
        "\n",
        "\n",
        "• A list of example words is defined in example_words.\n",
        "\n",
        "\n",
        "• A loop is then used to iterate through each word in example_words.\n",
        "\n",
        "\n",
        "• For each word, the ps.stem() method is called on it to perform stemming and the stemmed word is printed alongside the original word using the print() function.\n",
        "\n",
        "\n",
        "• The output shows the original words in the left column and their stemmed versions in the right column.\n",
        "\n",
        "\n",
        "• The Porter stemming algorithm reduces words to their base or root form by removing suffixes.\n",
        "\n",
        "\n",
        "• In this case, all the example words are stemmed to \"program\"."
      ]
    },
    {
      "cell_type": "code",
      "execution_count": 19,
      "metadata": {
        "id": "XSowZQkK8eZZ",
        "colab": {
          "base_uri": "https://localhost:8080/"
        },
        "outputId": "6a4394f4-215f-48dd-8508-dbfb389881a3"
      },
      "outputs": [
        {
          "output_type": "stream",
          "name": "stdout",
          "text": [
            "--Word--            --Lemma--           \n",
            "program             program             \n",
            "programming         program             \n",
            "programer           programer           \n",
            "programs            program             \n",
            "programmed          program             \n"
          ]
        },
        {
          "output_type": "stream",
          "name": "stderr",
          "text": [
            "[nltk_data] Downloading package wordnet to /root/nltk_data...\n",
            "[nltk_data]   Package wordnet is already up-to-date!\n",
            "[nltk_data] Downloading package omw-1.4 to /root/nltk_data...\n"
          ]
        }
      ],
      "source": [
        "from nltk.stem import WordNetLemmatizer\n",
        "nltk.download(\"wordnet\")\n",
        "nltk.download(\"omw-1.4\")\n",
        "# Initialize wordnet lemmatizer\n",
        "wnl = WordNetLemmatizer()\n",
        "# Example inflections to reduce\n",
        "example_words = [\"program\",\"programming\",\"programer\",\"programs\",\"programmed\"]\n",
        "# Perform lemmatization\n",
        "print(\"{0:20}{1:20}\".format(\"--Word--\",\"--Lemma--\"))\n",
        "for word in example_words:\n",
        "   print (\"{0:20}{1:20}\".format(word, wnl.lemmatize(word, pos=\"v\")))"
      ]
    },
    {
      "cell_type": "markdown",
      "metadata": {
        "id": "wsGvjSZ5I715"
      },
      "source": [
        "This code imports the WordNetLemmatizer class from the nltk.stem module and downloads the necessary data for it to work using the nltk.download() function.\n",
        "\n",
        "\n",
        "• It then initializes an instance of the WordNetLemmatizer class and defines a list of example words to be lemmatized.\n",
        "\n",
        "\n",
        "• The code then performs lemmatization on each word in the list using the lemmatize() method of the WordNetLemmatizer class, with the optional argument pos=\"v\" indicating that the words should be lemmatized as verbs.\n",
        "\n",
        "\n",
        "• The results are printed in a formatted table with the original words in the left column and their lemmatized forms in the right column.\n",
        "\n"
      ]
    },
    {
      "cell_type": "code",
      "execution_count": 20,
      "metadata": {
        "id": "y4KavtP3-sml",
        "colab": {
          "base_uri": "https://localhost:8080/",
          "height": 36
        },
        "outputId": "01855d61-0bc2-4cfd-b928-ca8a7b7b0bdc"
      },
      "outputs": [
        {
          "output_type": "execute_result",
          "data": {
            "text/plain": [
              "'book'"
            ],
            "application/vnd.google.colaboratory.intrinsic+json": {
              "type": "string"
            }
          },
          "metadata": {},
          "execution_count": 20
        }
      ],
      "source": [
        "import nltk\n",
        "from nltk.stem import LancasterStemmer\n",
        "Lanc_stemmer = LancasterStemmer()\n",
        "Lanc_stemmer.stem('books')"
      ]
    },
    {
      "cell_type": "code",
      "execution_count": 21,
      "metadata": {
        "id": "hPO4T_xQ_qNc",
        "colab": {
          "base_uri": "https://localhost:8080/",
          "height": 36
        },
        "outputId": "6546d6bf-294a-4535-975c-ac4e8072c874"
      },
      "outputs": [
        {
          "output_type": "execute_result",
          "data": {
            "text/plain": [
              "'book'"
            ],
            "application/vnd.google.colaboratory.intrinsic+json": {
              "type": "string"
            }
          },
          "metadata": {},
          "execution_count": 21
        }
      ],
      "source": [
        "import nltk\n",
        "from nltk.stem import WordNetLemmatizer\n",
        "lemmatizer = WordNetLemmatizer()\n",
        "lemmatizer.lemmatize('books')"
      ]
    },
    {
      "cell_type": "markdown",
      "metadata": {
        "id": "wmtOTvReHp4-"
      },
      "source": [
        "import the WordNetLemmatizer class to implement the lemmatization technique.\n",
        "\n",
        "create an instance of WordNetLemmatizer class.\n",
        "\n",
        "call the lemmatize() method"
      ]
    },
    {
      "cell_type": "markdown",
      "metadata": {
        "id": "e1pjHqSv8FWM"
      },
      "source": [
        "https://www.tutorialspoint.com/natural_language_toolkit/natural_language_toolkit_stemming_lemmatization.htm"
      ]
    },
    {
      "cell_type": "code",
      "execution_count": 22,
      "metadata": {
        "id": "8i0fl__x8U1-",
        "colab": {
          "base_uri": "https://localhost:8080/"
        },
        "outputId": "d3e90b4a-9687-44a1-a641-af22b0e71bd4"
      },
      "outputs": [
        {
          "output_type": "stream",
          "name": "stdout",
          "text": [
            "--Word--            --Stem--            \n",
            "Python              python              \n",
            "programmers         programm            \n",
            "often               often               \n",
            "tend                tend                \n",
            "like                like                \n",
            "programming         program             \n",
            "in                  in                  \n",
            "python              python              \n",
            "because             becaus              \n",
            "its                 it                  \n",
            "like                like                \n",
            "english             english             \n",
            "We                  we                  \n",
            "call                call                \n",
            "people              peopl               \n",
            "who                 who                 \n",
            "program             program             \n",
            "in                  in                  \n",
            "python              python              \n",
            "pythonistas         pythonista          \n"
          ]
        }
      ],
      "source": [
        "import string\n",
        "from nltk.tokenize import word_tokenize\n",
        "\n",
        "example_sentence = \"Python programmers often tend like programming in python because it's like english. We call people who program in python pythonistas.\"\n",
        "\n",
        "# Remove punctuation\n",
        "example_sentence_no_punct = example_sentence.translate(str.maketrans(\"\", \"\", string.punctuation))\n",
        "\n",
        "# Create tokens\n",
        "word_tokens = word_tokenize(example_sentence_no_punct)\n",
        "\n",
        "# Perform stemming\n",
        "print(\"{0:20}{1:20}\".format(\"--Word--\",\"--Stem--\"))\n",
        "for word in word_tokens:\n",
        "    print (\"{0:20}{1:20}\".format(word, ps.stem(word)))"
      ]
    },
    {
      "cell_type": "markdown",
      "metadata": {
        "id": "PZm2Y9iLIT1P"
      },
      "source": [
        "This code is a Python script that demonstrates how to remove punctuation, tokenize a sentence, and perform stemming using the Natural Language Toolkit (nltk) library.\n",
        "\n",
        "\n",
        "• First, the script imports the string and word_tokenize modules from the nltk library.\n",
        "\n",
        "\n",
        "• It also defines an example sentence as a string variable.\n",
        "\n",
        "\n",
        "• Next, the script removes the punctuation from the example sentence using the translate() method and the str.maketrans() function.\n",
        "\n",
        "\n",
        "• This creates a new string variable called example_sentence_no_punct.\n",
        "\n",
        "\n",
        "• After that, the script tokenizes the example_sentence_no_punct variable using the word_tokenize() method.\n",
        "\n",
        "\n",
        "• This creates a list of word tokens called word_tokens.\n",
        "\n",
        "\n",
        "• Finally, the script performs stemming on each word in the word_tokens list using the PorterStemmer algorithm from the nltk library.\n",
        "\n",
        "\n",
        "• It then prints out each word and its corresponding stem using a formatted string.\n",
        "\n",
        "\n",
        "• Overall, this code demonstrates how to use the nltk library to preprocess text data by removing punctuation, tokenizing sentences, and performing stemming."
      ]
    },
    {
      "cell_type": "code",
      "execution_count": 23,
      "metadata": {
        "id": "m6yya3_C8dHM",
        "colab": {
          "base_uri": "https://localhost:8080/"
        },
        "outputId": "0f7c6b2b-8027-4aea-dbbb-9d5796f921cb"
      },
      "outputs": [
        {
          "output_type": "stream",
          "name": "stdout",
          "text": [
            "--Word--            --Lemma--           \n",
            "Python              Python              \n",
            "programmers         programmers         \n",
            "often               often               \n",
            "tend                tend                \n",
            "like                like                \n",
            "programming         program             \n",
            "in                  in                  \n",
            "python              python              \n",
            "because             because             \n",
            "its                 its                 \n",
            "like                like                \n",
            "english             english             \n",
            "We                  We                  \n",
            "call                call                \n",
            "people              people              \n",
            "who                 who                 \n",
            "program             program             \n",
            "in                  in                  \n",
            "python              python              \n",
            "pythonistas         pythonistas         \n"
          ]
        }
      ],
      "source": [
        "example_sentence = \"Python programmers often tend like programming in python because it's like english. We call people who program in python pythonistas.\"\n",
        "# Remove punctuation\n",
        "example_sentence_no_punct = example_sentence.translate(str.maketrans(\"\", \"\", string.punctuation))\n",
        "word_tokens = word_tokenize(example_sentence_no_punct)\n",
        "# Perform lemmatization\n",
        "print(\"{0:20}{1:20}\".format(\"--Word--\",\"--Lemma--\"))\n",
        "for word in word_tokens:\n",
        "   print (\"{0:20}{1:20}\".format(word, wnl.lemmatize(word, pos=\"v\")))"
      ]
    },
    {
      "cell_type": "markdown",
      "metadata": {
        "id": "6-NsnlzhJIa2"
      },
      "source": [
        "This code performs text preprocessing on a given sentence.\n",
        "\n",
        "\n",
        "• First, the sentence is assigned to a variable called example_sentence.\n",
        "\n",
        "\n",
        "• Then, the translate() method is used to remove all punctuation from the sentence.\n",
        "\n",
        "\n",
        "• This is done by calling the maketrans() method from the string module to create a translation table that maps all punctuation characters to None.\n",
        "\n",
        "\n",
        "• The resulting string with no punctuation is assigned to a new variable called example_sentence_no_punct.\n",
        "\n",
        "\n",
        "• Next, the word_tokenize() method from the nltk module is used to tokenize the sentence into individual words.\n",
        "\n",
        "\n",
        "• The resulting list of words is assigned to a variable called word_tokens.\n",
        "\n",
        "• Finally, the code performs lemmatization on each word in the word_tokens list using the lemmatize() method from the WordNetLemmatizer class in the nltk module.\n",
        "\n",
        "\n",
        "• The lemmatized word and its original form are printed in a formatted table using the print() function."
      ]
    },
    {
      "cell_type": "markdown",
      "metadata": {
        "id": "BUGnzWZa8FZu"
      },
      "source": [
        "https://www.datacamp.com/tutorial/stemming-lemmatization-python"
      ]
    },
    {
      "cell_type": "markdown",
      "metadata": {
        "id": "T67Gxxmo7OoS"
      },
      "source": [
        "4. Write a program to differentiate stemming and lemmatizing words."
      ]
    },
    {
      "cell_type": "code",
      "execution_count": 24,
      "metadata": {
        "id": "87plF0Dd7lor",
        "colab": {
          "base_uri": "https://localhost:8080/"
        },
        "outputId": "e6ed892e-f142-433f-acd7-640c17c35ffd"
      },
      "outputs": [
        {
          "output_type": "stream",
          "name": "stdout",
          "text": [
            "Enter a word: My name is Samson Sabu . I hail from the serene town named Nedumkandam.\n",
            "Word: My name is Samson Sabu . I hail from the serene town named Nedumkandam.\n",
            "Stemmed Word: my name is samson sabu . i hail from the serene town named nedumkandam.\n",
            "Lemmatized Word: My name is Samson Sabu . I hail from the serene town named Nedumkandam.\n"
          ]
        }
      ],
      "source": [
        "# Import necessary libraries\n",
        "import nltk\n",
        "from nltk.stem import PorterStemmer\n",
        "from nltk.stem import WordNetLemmatizer\n",
        "\n",
        "# Initialize stemmer and lemmatizer\n",
        "stemmer = PorterStemmer()\n",
        "lemmatizer = WordNetLemmatizer()\n",
        "\n",
        "# Input word\n",
        "word = input(\"Enter a word: \")\n",
        "\n",
        "# Stemming\n",
        "stemmed_word = stemmer.stem(word)\n",
        "\n",
        "# Lemmatizing\n",
        "lemmatized_word = lemmatizer.lemmatize(word, pos='v')  # Specify 'v' for verb lemmatization\n",
        "\n",
        "# Display the results\n",
        "print(f\"Word: {word}\")\n",
        "print(f\"Stemmed Word: {stemmed_word}\")\n",
        "print(f\"Lemmatized Word: {lemmatized_word}\")\n"
      ]
    },
    {
      "cell_type": "markdown",
      "metadata": {
        "id": "3bwHdQc7_6QP"
      },
      "source": [
        "Write a program for PoS Tagging and also execute any of the tool that given in class."
      ]
    },
    {
      "cell_type": "code",
      "execution_count": 25,
      "metadata": {
        "colab": {
          "base_uri": "https://localhost:8080/"
        },
        "id": "qdcbBCzsEsOA",
        "outputId": "4d857b4b-8380-49f7-e5b7-fd634337bc62"
      },
      "outputs": [
        {
          "output_type": "stream",
          "name": "stdout",
          "text": [
            "Requirement already satisfied: spacy in /usr/local/lib/python3.10/dist-packages (3.7.4)\n",
            "Requirement already satisfied: spacy-legacy<3.1.0,>=3.0.11 in /usr/local/lib/python3.10/dist-packages (from spacy) (3.0.12)\n",
            "Requirement already satisfied: spacy-loggers<2.0.0,>=1.0.0 in /usr/local/lib/python3.10/dist-packages (from spacy) (1.0.5)\n",
            "Requirement already satisfied: murmurhash<1.1.0,>=0.28.0 in /usr/local/lib/python3.10/dist-packages (from spacy) (1.0.10)\n",
            "Requirement already satisfied: cymem<2.1.0,>=2.0.2 in /usr/local/lib/python3.10/dist-packages (from spacy) (2.0.8)\n",
            "Requirement already satisfied: preshed<3.1.0,>=3.0.2 in /usr/local/lib/python3.10/dist-packages (from spacy) (3.0.9)\n",
            "Requirement already satisfied: thinc<8.3.0,>=8.2.2 in /usr/local/lib/python3.10/dist-packages (from spacy) (8.2.3)\n",
            "Requirement already satisfied: wasabi<1.2.0,>=0.9.1 in /usr/local/lib/python3.10/dist-packages (from spacy) (1.1.2)\n",
            "Requirement already satisfied: srsly<3.0.0,>=2.4.3 in /usr/local/lib/python3.10/dist-packages (from spacy) (2.4.8)\n",
            "Requirement already satisfied: catalogue<2.1.0,>=2.0.6 in /usr/local/lib/python3.10/dist-packages (from spacy) (2.0.10)\n",
            "Requirement already satisfied: weasel<0.4.0,>=0.1.0 in /usr/local/lib/python3.10/dist-packages (from spacy) (0.3.4)\n",
            "Requirement already satisfied: typer<0.10.0,>=0.3.0 in /usr/local/lib/python3.10/dist-packages (from spacy) (0.9.0)\n",
            "Requirement already satisfied: smart-open<7.0.0,>=5.2.1 in /usr/local/lib/python3.10/dist-packages (from spacy) (6.4.0)\n",
            "Requirement already satisfied: tqdm<5.0.0,>=4.38.0 in /usr/local/lib/python3.10/dist-packages (from spacy) (4.66.2)\n",
            "Requirement already satisfied: requests<3.0.0,>=2.13.0 in /usr/local/lib/python3.10/dist-packages (from spacy) (2.31.0)\n",
            "Requirement already satisfied: pydantic!=1.8,!=1.8.1,<3.0.0,>=1.7.4 in /usr/local/lib/python3.10/dist-packages (from spacy) (2.6.4)\n",
            "Requirement already satisfied: jinja2 in /usr/local/lib/python3.10/dist-packages (from spacy) (3.1.3)\n",
            "Requirement already satisfied: setuptools in /usr/local/lib/python3.10/dist-packages (from spacy) (67.7.2)\n",
            "Requirement already satisfied: packaging>=20.0 in /usr/local/lib/python3.10/dist-packages (from spacy) (24.0)\n",
            "Requirement already satisfied: langcodes<4.0.0,>=3.2.0 in /usr/local/lib/python3.10/dist-packages (from spacy) (3.3.0)\n",
            "Requirement already satisfied: numpy>=1.19.0 in /usr/local/lib/python3.10/dist-packages (from spacy) (1.25.2)\n",
            "Requirement already satisfied: annotated-types>=0.4.0 in /usr/local/lib/python3.10/dist-packages (from pydantic!=1.8,!=1.8.1,<3.0.0,>=1.7.4->spacy) (0.6.0)\n",
            "Requirement already satisfied: pydantic-core==2.16.3 in /usr/local/lib/python3.10/dist-packages (from pydantic!=1.8,!=1.8.1,<3.0.0,>=1.7.4->spacy) (2.16.3)\n",
            "Requirement already satisfied: typing-extensions>=4.6.1 in /usr/local/lib/python3.10/dist-packages (from pydantic!=1.8,!=1.8.1,<3.0.0,>=1.7.4->spacy) (4.10.0)\n",
            "Requirement already satisfied: charset-normalizer<4,>=2 in /usr/local/lib/python3.10/dist-packages (from requests<3.0.0,>=2.13.0->spacy) (3.3.2)\n",
            "Requirement already satisfied: idna<4,>=2.5 in /usr/local/lib/python3.10/dist-packages (from requests<3.0.0,>=2.13.0->spacy) (3.6)\n",
            "Requirement already satisfied: urllib3<3,>=1.21.1 in /usr/local/lib/python3.10/dist-packages (from requests<3.0.0,>=2.13.0->spacy) (2.0.7)\n",
            "Requirement already satisfied: certifi>=2017.4.17 in /usr/local/lib/python3.10/dist-packages (from requests<3.0.0,>=2.13.0->spacy) (2024.2.2)\n",
            "Requirement already satisfied: blis<0.8.0,>=0.7.8 in /usr/local/lib/python3.10/dist-packages (from thinc<8.3.0,>=8.2.2->spacy) (0.7.11)\n",
            "Requirement already satisfied: confection<1.0.0,>=0.0.1 in /usr/local/lib/python3.10/dist-packages (from thinc<8.3.0,>=8.2.2->spacy) (0.1.4)\n",
            "Requirement already satisfied: click<9.0.0,>=7.1.1 in /usr/local/lib/python3.10/dist-packages (from typer<0.10.0,>=0.3.0->spacy) (8.1.7)\n",
            "Requirement already satisfied: cloudpathlib<0.17.0,>=0.7.0 in /usr/local/lib/python3.10/dist-packages (from weasel<0.4.0,>=0.1.0->spacy) (0.16.0)\n",
            "Requirement already satisfied: MarkupSafe>=2.0 in /usr/local/lib/python3.10/dist-packages (from jinja2->spacy) (2.1.5)\n",
            "Collecting en-core-web-sm==3.7.1\n",
            "  Downloading https://github.com/explosion/spacy-models/releases/download/en_core_web_sm-3.7.1/en_core_web_sm-3.7.1-py3-none-any.whl (12.8 MB)\n",
            "\u001b[2K     \u001b[90m━━━━━━━━━━━━━━━━━━━━━━━━━━━━━━━━━━━━━━━━\u001b[0m \u001b[32m12.8/12.8 MB\u001b[0m \u001b[31m28.7 MB/s\u001b[0m eta \u001b[36m0:00:00\u001b[0m\n",
            "\u001b[?25hRequirement already satisfied: spacy<3.8.0,>=3.7.2 in /usr/local/lib/python3.10/dist-packages (from en-core-web-sm==3.7.1) (3.7.4)\n",
            "Requirement already satisfied: spacy-legacy<3.1.0,>=3.0.11 in /usr/local/lib/python3.10/dist-packages (from spacy<3.8.0,>=3.7.2->en-core-web-sm==3.7.1) (3.0.12)\n",
            "Requirement already satisfied: spacy-loggers<2.0.0,>=1.0.0 in /usr/local/lib/python3.10/dist-packages (from spacy<3.8.0,>=3.7.2->en-core-web-sm==3.7.1) (1.0.5)\n",
            "Requirement already satisfied: murmurhash<1.1.0,>=0.28.0 in /usr/local/lib/python3.10/dist-packages (from spacy<3.8.0,>=3.7.2->en-core-web-sm==3.7.1) (1.0.10)\n",
            "Requirement already satisfied: cymem<2.1.0,>=2.0.2 in /usr/local/lib/python3.10/dist-packages (from spacy<3.8.0,>=3.7.2->en-core-web-sm==3.7.1) (2.0.8)\n",
            "Requirement already satisfied: preshed<3.1.0,>=3.0.2 in /usr/local/lib/python3.10/dist-packages (from spacy<3.8.0,>=3.7.2->en-core-web-sm==3.7.1) (3.0.9)\n",
            "Requirement already satisfied: thinc<8.3.0,>=8.2.2 in /usr/local/lib/python3.10/dist-packages (from spacy<3.8.0,>=3.7.2->en-core-web-sm==3.7.1) (8.2.3)\n",
            "Requirement already satisfied: wasabi<1.2.0,>=0.9.1 in /usr/local/lib/python3.10/dist-packages (from spacy<3.8.0,>=3.7.2->en-core-web-sm==3.7.1) (1.1.2)\n",
            "Requirement already satisfied: srsly<3.0.0,>=2.4.3 in /usr/local/lib/python3.10/dist-packages (from spacy<3.8.0,>=3.7.2->en-core-web-sm==3.7.1) (2.4.8)\n",
            "Requirement already satisfied: catalogue<2.1.0,>=2.0.6 in /usr/local/lib/python3.10/dist-packages (from spacy<3.8.0,>=3.7.2->en-core-web-sm==3.7.1) (2.0.10)\n",
            "Requirement already satisfied: weasel<0.4.0,>=0.1.0 in /usr/local/lib/python3.10/dist-packages (from spacy<3.8.0,>=3.7.2->en-core-web-sm==3.7.1) (0.3.4)\n",
            "Requirement already satisfied: typer<0.10.0,>=0.3.0 in /usr/local/lib/python3.10/dist-packages (from spacy<3.8.0,>=3.7.2->en-core-web-sm==3.7.1) (0.9.0)\n",
            "Requirement already satisfied: smart-open<7.0.0,>=5.2.1 in /usr/local/lib/python3.10/dist-packages (from spacy<3.8.0,>=3.7.2->en-core-web-sm==3.7.1) (6.4.0)\n",
            "Requirement already satisfied: tqdm<5.0.0,>=4.38.0 in /usr/local/lib/python3.10/dist-packages (from spacy<3.8.0,>=3.7.2->en-core-web-sm==3.7.1) (4.66.2)\n",
            "Requirement already satisfied: requests<3.0.0,>=2.13.0 in /usr/local/lib/python3.10/dist-packages (from spacy<3.8.0,>=3.7.2->en-core-web-sm==3.7.1) (2.31.0)\n",
            "Requirement already satisfied: pydantic!=1.8,!=1.8.1,<3.0.0,>=1.7.4 in /usr/local/lib/python3.10/dist-packages (from spacy<3.8.0,>=3.7.2->en-core-web-sm==3.7.1) (2.6.4)\n",
            "Requirement already satisfied: jinja2 in /usr/local/lib/python3.10/dist-packages (from spacy<3.8.0,>=3.7.2->en-core-web-sm==3.7.1) (3.1.3)\n",
            "Requirement already satisfied: setuptools in /usr/local/lib/python3.10/dist-packages (from spacy<3.8.0,>=3.7.2->en-core-web-sm==3.7.1) (67.7.2)\n",
            "Requirement already satisfied: packaging>=20.0 in /usr/local/lib/python3.10/dist-packages (from spacy<3.8.0,>=3.7.2->en-core-web-sm==3.7.1) (24.0)\n",
            "Requirement already satisfied: langcodes<4.0.0,>=3.2.0 in /usr/local/lib/python3.10/dist-packages (from spacy<3.8.0,>=3.7.2->en-core-web-sm==3.7.1) (3.3.0)\n",
            "Requirement already satisfied: numpy>=1.19.0 in /usr/local/lib/python3.10/dist-packages (from spacy<3.8.0,>=3.7.2->en-core-web-sm==3.7.1) (1.25.2)\n",
            "Requirement already satisfied: annotated-types>=0.4.0 in /usr/local/lib/python3.10/dist-packages (from pydantic!=1.8,!=1.8.1,<3.0.0,>=1.7.4->spacy<3.8.0,>=3.7.2->en-core-web-sm==3.7.1) (0.6.0)\n",
            "Requirement already satisfied: pydantic-core==2.16.3 in /usr/local/lib/python3.10/dist-packages (from pydantic!=1.8,!=1.8.1,<3.0.0,>=1.7.4->spacy<3.8.0,>=3.7.2->en-core-web-sm==3.7.1) (2.16.3)\n",
            "Requirement already satisfied: typing-extensions>=4.6.1 in /usr/local/lib/python3.10/dist-packages (from pydantic!=1.8,!=1.8.1,<3.0.0,>=1.7.4->spacy<3.8.0,>=3.7.2->en-core-web-sm==3.7.1) (4.10.0)\n",
            "Requirement already satisfied: charset-normalizer<4,>=2 in /usr/local/lib/python3.10/dist-packages (from requests<3.0.0,>=2.13.0->spacy<3.8.0,>=3.7.2->en-core-web-sm==3.7.1) (3.3.2)\n",
            "Requirement already satisfied: idna<4,>=2.5 in /usr/local/lib/python3.10/dist-packages (from requests<3.0.0,>=2.13.0->spacy<3.8.0,>=3.7.2->en-core-web-sm==3.7.1) (3.6)\n",
            "Requirement already satisfied: urllib3<3,>=1.21.1 in /usr/local/lib/python3.10/dist-packages (from requests<3.0.0,>=2.13.0->spacy<3.8.0,>=3.7.2->en-core-web-sm==3.7.1) (2.0.7)\n",
            "Requirement already satisfied: certifi>=2017.4.17 in /usr/local/lib/python3.10/dist-packages (from requests<3.0.0,>=2.13.0->spacy<3.8.0,>=3.7.2->en-core-web-sm==3.7.1) (2024.2.2)\n",
            "Requirement already satisfied: blis<0.8.0,>=0.7.8 in /usr/local/lib/python3.10/dist-packages (from thinc<8.3.0,>=8.2.2->spacy<3.8.0,>=3.7.2->en-core-web-sm==3.7.1) (0.7.11)\n",
            "Requirement already satisfied: confection<1.0.0,>=0.0.1 in /usr/local/lib/python3.10/dist-packages (from thinc<8.3.0,>=8.2.2->spacy<3.8.0,>=3.7.2->en-core-web-sm==3.7.1) (0.1.4)\n",
            "Requirement already satisfied: click<9.0.0,>=7.1.1 in /usr/local/lib/python3.10/dist-packages (from typer<0.10.0,>=0.3.0->spacy<3.8.0,>=3.7.2->en-core-web-sm==3.7.1) (8.1.7)\n",
            "Requirement already satisfied: cloudpathlib<0.17.0,>=0.7.0 in /usr/local/lib/python3.10/dist-packages (from weasel<0.4.0,>=0.1.0->spacy<3.8.0,>=3.7.2->en-core-web-sm==3.7.1) (0.16.0)\n",
            "Requirement already satisfied: MarkupSafe>=2.0 in /usr/local/lib/python3.10/dist-packages (from jinja2->spacy<3.8.0,>=3.7.2->en-core-web-sm==3.7.1) (2.1.5)\n",
            "\u001b[38;5;2m✔ Download and installation successful\u001b[0m\n",
            "You can now load the package via spacy.load('en_core_web_sm')\n",
            "\u001b[38;5;3m⚠ Restart to reload dependencies\u001b[0m\n",
            "If you are in a Jupyter or Colab notebook, you may need to restart Python in\n",
            "order to load all the package's dependencies. You can do this by selecting the\n",
            "'Restart kernel' or 'Restart runtime' option.\n"
          ]
        }
      ],
      "source": [
        "!pip install spacy\n",
        "!python -m spacy download en_core_web_sm"
      ]
    },
    {
      "cell_type": "code",
      "execution_count": 26,
      "metadata": {
        "colab": {
          "base_uri": "https://localhost:8080/"
        },
        "id": "-K3P3bRVESqw",
        "outputId": "1dafb49b-3534-4399-9f5b-0f6849f4f699"
      },
      "outputs": [
        {
          "output_type": "stream",
          "name": "stderr",
          "text": [
            "/usr/local/lib/python3.10/dist-packages/spacy/util.py:1740: UserWarning: [W111] Jupyter notebook detected: if using `prefer_gpu()` or `require_gpu()`, include it in the same cell right before `spacy.load()` to ensure that the model is loaded on the correct device. More information: http://spacy.io/usage/v3#jupyter-notebook-gpu\n",
            "  warnings.warn(Warnings.W111)\n"
          ]
        },
        {
          "output_type": "stream",
          "name": "stdout",
          "text": [
            "Original Text:  My name is Samson Sabu . I hail from the serene town named Nedumkandam.\n",
            "PoS Tagging Result:\n",
            "My: PRON\n",
            "name: NOUN\n",
            "is: AUX\n",
            "Samson: PROPN\n",
            "Sabu: PROPN\n",
            ".: PUNCT\n",
            "I: PRON\n",
            "hail: VERB\n",
            "from: ADP\n",
            "the: DET\n",
            "serene: ADJ\n",
            "town: NOUN\n",
            "named: VERB\n",
            "Nedumkandam: PROPN\n",
            ".: PUNCT\n"
          ]
        }
      ],
      "source": [
        "#importing libraries\n",
        "import spacy\n",
        "\n",
        "# Load the English language model\n",
        "nlp = spacy.load(\"en_core_web_sm\")\n",
        "\n",
        "text = \"My name is Samson Sabu . I hail from the serene town named Nedumkandam.\"\n",
        "\n",
        "# Process the text with SpaCy\n",
        "doc = nlp(text)\n",
        "\n",
        "# Display the PoS tagged result\n",
        "print(\"Original Text: \", text)\n",
        "print(\"PoS Tagging Result:\")\n",
        "for token in doc:\n",
        "\tprint(f\"{token.text}: {token.pos_}\")\n"
      ]
    },
    {
      "cell_type": "markdown",
      "metadata": {
        "id": "GETU9h2nE327"
      },
      "source": [
        "https://www.geeksforgeeks.org/nlp-part-of-speech-default-tagging/"
      ]
    },
    {
      "cell_type": "markdown",
      "metadata": {
        "id": "9-lvetUpJ2RM"
      },
      "source": [
        "# **POS Tagging**\n",
        "POS Tagging (Parts of Speech Tagging) is a process to mark up the words in text format for a particular part of a speech based on its definition and context.\n",
        "\n",
        " It is responsible for text reading in a language and assigning some specific token (Parts of Speech) to each word. It is also called grammatical tagging."
      ]
    },
    {
      "cell_type": "markdown",
      "metadata": {
        "id": "c-PPPMFuKBSj"
      },
      "source": [
        "# **What is Chunking in NLP?**\n",
        "Chunking in NLP is a process to take small pieces of information and group them into large units. The primary use of Chunking is making groups of “noun phrases.” It is used to add structure to the sentence by following POS tagging combined with regular expressions. The resulted group of words are called “chunks.” It is also called shallow parsing.\n",
        "\n",
        "In shallow parsing, there is maximum one level between roots and leaves while deep parsing comprises of more than one level. Shallow parsing is also called light parsing or chunking."
      ]
    },
    {
      "cell_type": "code",
      "source": [
        "nltk.download('averaged_perceptron_tagger')"
      ],
      "metadata": {
        "colab": {
          "base_uri": "https://localhost:8080/"
        },
        "id": "7NP_G2902hxn",
        "outputId": "21418cc6-f02e-4f59-fb2a-999c4729730d"
      },
      "execution_count": 29,
      "outputs": [
        {
          "output_type": "stream",
          "name": "stderr",
          "text": [
            "[nltk_data] Downloading package averaged_perceptron_tagger to\n",
            "[nltk_data]     /root/nltk_data...\n",
            "[nltk_data]   Unzipping taggers/averaged_perceptron_tagger.zip.\n"
          ]
        },
        {
          "output_type": "execute_result",
          "data": {
            "text/plain": [
              "True"
            ]
          },
          "metadata": {},
          "execution_count": 29
        }
      ]
    },
    {
      "cell_type": "code",
      "execution_count": 30,
      "metadata": {
        "colab": {
          "base_uri": "https://localhost:8080/"
        },
        "id": "N_wsr3y0EtP1",
        "outputId": "d659a2d2-aa2a-4e88-af43-b734ee199218"
      },
      "outputs": [
        {
          "output_type": "stream",
          "name": "stdout",
          "text": [
            "After Split: ['My', 'name', 'is', 'Samson', 'Sabu', '.', 'I', 'hail', 'from', 'the', 'serene', 'town', 'named', 'Nedumkandam.']\n",
            "After Token: [('My', 'PRP$'), ('name', 'NN'), ('is', 'VBZ'), ('Samson', 'NNP'), ('Sabu', 'NNP'), ('.', '.'), ('I', 'PRP'), ('hail', 'VBP'), ('from', 'IN'), ('the', 'DT'), ('serene', 'JJ'), ('town', 'NN'), ('named', 'VBN'), ('Nedumkandam.', 'NNP')]\n",
            "After Regex: chunk.RegexpParser with 1 stages:\n",
            "RegexpChunkParser with 1 rules:\n",
            "       <ChunkRule: '<NN.?>*<VBD.?>*<JJ.?>*<CC>?'>\n",
            "After Chunking (S\n",
            "  My/PRP$\n",
            "  (mychunk name/NN)\n",
            "  is/VBZ\n",
            "  (mychunk Samson/NNP Sabu/NNP)\n",
            "  ./.\n",
            "  I/PRP\n",
            "  hail/VBP\n",
            "  from/IN\n",
            "  the/DT\n",
            "  (mychunk serene/JJ)\n",
            "  (mychunk town/NN)\n",
            "  named/VBN\n",
            "  (mychunk Nedumkandam./NNP))\n"
          ]
        }
      ],
      "source": [
        "from nltk import pos_tag\n",
        "from nltk import RegexpParser\n",
        "text =\"My name is Samson Sabu . I hail from the serene town named Nedumkandam.\".split()\n",
        "print(\"After Split:\",text)\n",
        "tokens_tag = pos_tag(text)\n",
        "print(\"After Token:\",tokens_tag)\n",
        "patterns= \"\"\"mychunk:{<NN.?>*<VBD.?>*<JJ.?>*<CC>?}\"\"\"\n",
        "chunker = RegexpParser(patterns)\n",
        "print(\"After Regex:\",chunker)\n",
        "output = chunker.parse(tokens_tag)\n",
        "print(\"After Chunking\",output)"
      ]
    },
    {
      "cell_type": "markdown",
      "metadata": {
        "id": "BiuJE6CFOo3F"
      },
      "source": [
        "![Screenshot 2024-03-19 154633.png](data:image/png;base64,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)"
      ]
    },
    {
      "cell_type": "markdown",
      "metadata": {
        "id": "zTsORBQOLlwi"
      },
      "source": [
        "7. Implement the Dependency Parsing and Constituency Parsing using the tool."
      ]
    },
    {
      "cell_type": "code",
      "execution_count": 31,
      "metadata": {
        "colab": {
          "base_uri": "https://localhost:8080/"
        },
        "id": "W60Mi8s4Ki39",
        "outputId": "6f0812e9-4641-4879-df58-ce8d3e889c82"
      },
      "outputs": [
        {
          "output_type": "stream",
          "name": "stderr",
          "text": [
            "[nltk_data] Downloading package maxent_ne_chunker to\n",
            "[nltk_data]     /root/nltk_data...\n",
            "[nltk_data]   Unzipping chunkers/maxent_ne_chunker.zip.\n"
          ]
        },
        {
          "output_type": "execute_result",
          "data": {
            "text/plain": [
              "True"
            ]
          },
          "metadata": {},
          "execution_count": 31
        }
      ],
      "source": [
        "\n",
        "nltk.download('maxent_ne_chunker')"
      ]
    },
    {
      "cell_type": "code",
      "execution_count": 32,
      "metadata": {
        "colab": {
          "base_uri": "https://localhost:8080/"
        },
        "id": "n0XH0mpFQTy1",
        "outputId": "4b777462-173d-4901-d227-252837d0b91a"
      },
      "outputs": [
        {
          "output_type": "stream",
          "name": "stderr",
          "text": [
            "[nltk_data] Downloading package words to /root/nltk_data...\n",
            "[nltk_data]   Unzipping corpora/words.zip.\n"
          ]
        },
        {
          "output_type": "execute_result",
          "data": {
            "text/plain": [
              "True"
            ]
          },
          "metadata": {},
          "execution_count": 32
        }
      ],
      "source": [
        "\n",
        "nltk.download('words')\n"
      ]
    },
    {
      "cell_type": "code",
      "execution_count": 33,
      "metadata": {
        "colab": {
          "base_uri": "https://localhost:8080/"
        },
        "id": "grrfgSYOQVte",
        "outputId": "c071b8c4-8f02-4768-812e-bcc7d204b041"
      },
      "outputs": [
        {
          "output_type": "stream",
          "name": "stdout",
          "text": [
            "(S\n",
            "  My/PRP$\n",
            "  name/NN\n",
            "  is/VBZ\n",
            "  (PERSON Samson/NNP Sabu/NNP)\n",
            "  ./.\n",
            "  I/PRP\n",
            "  hail/VBP\n",
            "  from/IN\n",
            "  the/DT\n",
            "  serene/JJ\n",
            "  town/NN\n",
            "  named/VBN\n",
            "  (PERSON Nedumkandam/NNP)\n",
            "  ./.)\n"
          ]
        }
      ],
      "source": [
        "\n",
        "import nltk\n",
        "from nltk import word_tokenize, pos_tag, ne_chunk\n",
        "\n",
        "# Sample paragraph\n",
        "paragraph =\"My name is Samson Sabu . I hail from the serene town named Nedumkandam.\"\n",
        "\n",
        "# Tokenizing the paragraph into words\n",
        "words = word_tokenize(paragraph)\n",
        "\n",
        "# Applying PoS tagging\n",
        "pos_tags = pos_tag(words)\n",
        "\n",
        "# Applying Named Entity Recognition\n",
        "named_entities = ne_chunk(pos_tags)\n",
        "\n",
        "print(named_entities)"
      ]
    },
    {
      "cell_type": "markdown",
      "metadata": {
        "id": "avVAE9PPQkWT"
      },
      "source": [
        "Dependency Parsing and Constituency Parsing using the tool"
      ]
    },
    {
      "cell_type": "code",
      "execution_count": 34,
      "metadata": {
        "colab": {
          "base_uri": "https://localhost:8080/"
        },
        "id": "DXmgPg4yQcBE",
        "outputId": "450e9fc2-b731-4cbf-f97c-60f873ff0339"
      },
      "outputs": [
        {
          "output_type": "stream",
          "name": "stdout",
          "text": [
            "Collecting stanfordnlp\n",
            "  Downloading stanfordnlp-0.2.0-py3-none-any.whl (158 kB)\n",
            "\u001b[?25l     \u001b[90m━━━━━━━━━━━━━━━━━━━━━━━━━━━━━━━━━━━━━━━━\u001b[0m \u001b[32m0.0/158.8 kB\u001b[0m \u001b[31m?\u001b[0m eta \u001b[36m-:--:--\u001b[0m\r\u001b[2K     \u001b[91m━━━━━━━━━━━━━━━━━━━━━━━━━━━━━━━━━━━━━━\u001b[0m\u001b[91m╸\u001b[0m\u001b[90m━\u001b[0m \u001b[32m153.6/158.8 kB\u001b[0m \u001b[31m5.7 MB/s\u001b[0m eta \u001b[36m0:00:01\u001b[0m\r\u001b[2K     \u001b[90m━━━━━━━━━━━━━━━━━━━━━━━━━━━━━━━━━━━━━━━━\u001b[0m \u001b[32m158.8/158.8 kB\u001b[0m \u001b[31m4.2 MB/s\u001b[0m eta \u001b[36m0:00:00\u001b[0m\n",
            "\u001b[?25hRequirement already satisfied: numpy in /usr/local/lib/python3.10/dist-packages (from stanfordnlp) (1.25.2)\n",
            "Requirement already satisfied: protobuf in /usr/local/lib/python3.10/dist-packages (from stanfordnlp) (3.20.3)\n",
            "Requirement already satisfied: requests in /usr/local/lib/python3.10/dist-packages (from stanfordnlp) (2.31.0)\n",
            "Requirement already satisfied: torch>=1.0.0 in /usr/local/lib/python3.10/dist-packages (from stanfordnlp) (2.2.1+cu121)\n",
            "Requirement already satisfied: tqdm in /usr/local/lib/python3.10/dist-packages (from stanfordnlp) (4.66.2)\n",
            "Requirement already satisfied: filelock in /usr/local/lib/python3.10/dist-packages (from torch>=1.0.0->stanfordnlp) (3.13.1)\n",
            "Requirement already satisfied: typing-extensions>=4.8.0 in /usr/local/lib/python3.10/dist-packages (from torch>=1.0.0->stanfordnlp) (4.10.0)\n",
            "Requirement already satisfied: sympy in /usr/local/lib/python3.10/dist-packages (from torch>=1.0.0->stanfordnlp) (1.12)\n",
            "Requirement already satisfied: networkx in /usr/local/lib/python3.10/dist-packages (from torch>=1.0.0->stanfordnlp) (3.2.1)\n",
            "Requirement already satisfied: jinja2 in /usr/local/lib/python3.10/dist-packages (from torch>=1.0.0->stanfordnlp) (3.1.3)\n",
            "Requirement already satisfied: fsspec in /usr/local/lib/python3.10/dist-packages (from torch>=1.0.0->stanfordnlp) (2023.6.0)\n",
            "Collecting nvidia-cuda-nvrtc-cu12==12.1.105 (from torch>=1.0.0->stanfordnlp)\n",
            "  Downloading nvidia_cuda_nvrtc_cu12-12.1.105-py3-none-manylinux1_x86_64.whl (23.7 MB)\n",
            "\u001b[2K     \u001b[90m━━━━━━━━━━━━━━━━━━━━━━━━━━━━━━━━━━━━━━━━\u001b[0m \u001b[32m23.7/23.7 MB\u001b[0m \u001b[31m20.9 MB/s\u001b[0m eta \u001b[36m0:00:00\u001b[0m\n",
            "\u001b[?25hCollecting nvidia-cuda-runtime-cu12==12.1.105 (from torch>=1.0.0->stanfordnlp)\n",
            "  Downloading nvidia_cuda_runtime_cu12-12.1.105-py3-none-manylinux1_x86_64.whl (823 kB)\n",
            "\u001b[2K     \u001b[90m━━━━━━━━━━━━━━━━━━━━━━━━━━━━━━━━━━━━━━━━\u001b[0m \u001b[32m823.6/823.6 kB\u001b[0m \u001b[31m69.1 MB/s\u001b[0m eta \u001b[36m0:00:00\u001b[0m\n",
            "\u001b[?25hCollecting nvidia-cuda-cupti-cu12==12.1.105 (from torch>=1.0.0->stanfordnlp)\n",
            "  Downloading nvidia_cuda_cupti_cu12-12.1.105-py3-none-manylinux1_x86_64.whl (14.1 MB)\n",
            "\u001b[2K     \u001b[90m━━━━━━━━━━━━━━━━━━━━━━━━━━━━━━━━━━━━━━━━\u001b[0m \u001b[32m14.1/14.1 MB\u001b[0m \u001b[31m87.4 MB/s\u001b[0m eta \u001b[36m0:00:00\u001b[0m\n",
            "\u001b[?25hCollecting nvidia-cudnn-cu12==8.9.2.26 (from torch>=1.0.0->stanfordnlp)\n",
            "  Downloading nvidia_cudnn_cu12-8.9.2.26-py3-none-manylinux1_x86_64.whl (731.7 MB)\n",
            "\u001b[2K     \u001b[90m━━━━━━━━━━━━━━━━━━━━━━━━━━━━━━━━━━━━━━━━\u001b[0m \u001b[32m731.7/731.7 MB\u001b[0m \u001b[31m2.2 MB/s\u001b[0m eta \u001b[36m0:00:00\u001b[0m\n",
            "\u001b[?25hCollecting nvidia-cublas-cu12==12.1.3.1 (from torch>=1.0.0->stanfordnlp)\n",
            "  Downloading nvidia_cublas_cu12-12.1.3.1-py3-none-manylinux1_x86_64.whl (410.6 MB)\n",
            "\u001b[2K     \u001b[90m━━━━━━━━━━━━━━━━━━━━━━━━━━━━━━━━━━━━━━━━\u001b[0m \u001b[32m410.6/410.6 MB\u001b[0m \u001b[31m2.6 MB/s\u001b[0m eta \u001b[36m0:00:00\u001b[0m\n",
            "\u001b[?25hCollecting nvidia-cufft-cu12==11.0.2.54 (from torch>=1.0.0->stanfordnlp)\n",
            "  Downloading nvidia_cufft_cu12-11.0.2.54-py3-none-manylinux1_x86_64.whl (121.6 MB)\n",
            "\u001b[2K     \u001b[90m━━━━━━━━━━━━━━━━━━━━━━━━━━━━━━━━━━━━━━━━\u001b[0m \u001b[32m121.6/121.6 MB\u001b[0m \u001b[31m8.5 MB/s\u001b[0m eta \u001b[36m0:00:00\u001b[0m\n",
            "\u001b[?25hCollecting nvidia-curand-cu12==10.3.2.106 (from torch>=1.0.0->stanfordnlp)\n",
            "  Downloading nvidia_curand_cu12-10.3.2.106-py3-none-manylinux1_x86_64.whl (56.5 MB)\n",
            "\u001b[2K     \u001b[90m━━━━━━━━━━━━━━━━━━━━━━━━━━━━━━━━━━━━━━━━\u001b[0m \u001b[32m56.5/56.5 MB\u001b[0m \u001b[31m15.0 MB/s\u001b[0m eta \u001b[36m0:00:00\u001b[0m\n",
            "\u001b[?25hCollecting nvidia-cusolver-cu12==11.4.5.107 (from torch>=1.0.0->stanfordnlp)\n",
            "  Downloading nvidia_cusolver_cu12-11.4.5.107-py3-none-manylinux1_x86_64.whl (124.2 MB)\n",
            "\u001b[2K     \u001b[90m━━━━━━━━━━━━━━━━━━━━━━━━━━━━━━━━━━━━━━━━\u001b[0m \u001b[32m124.2/124.2 MB\u001b[0m \u001b[31m8.4 MB/s\u001b[0m eta \u001b[36m0:00:00\u001b[0m\n",
            "\u001b[?25hCollecting nvidia-cusparse-cu12==12.1.0.106 (from torch>=1.0.0->stanfordnlp)\n",
            "  Downloading nvidia_cusparse_cu12-12.1.0.106-py3-none-manylinux1_x86_64.whl (196.0 MB)\n",
            "\u001b[2K     \u001b[90m━━━━━━━━━━━━━━━━━━━━━━━━━━━━━━━━━━━━━━━━\u001b[0m \u001b[32m196.0/196.0 MB\u001b[0m \u001b[31m6.5 MB/s\u001b[0m eta \u001b[36m0:00:00\u001b[0m\n",
            "\u001b[?25hCollecting nvidia-nccl-cu12==2.19.3 (from torch>=1.0.0->stanfordnlp)\n",
            "  Downloading nvidia_nccl_cu12-2.19.3-py3-none-manylinux1_x86_64.whl (166.0 MB)\n",
            "\u001b[2K     \u001b[90m━━━━━━━━━━━━━━━━━━━━━━━━━━━━━━━━━━━━━━━━\u001b[0m \u001b[32m166.0/166.0 MB\u001b[0m \u001b[31m2.3 MB/s\u001b[0m eta \u001b[36m0:00:00\u001b[0m\n",
            "\u001b[?25hCollecting nvidia-nvtx-cu12==12.1.105 (from torch>=1.0.0->stanfordnlp)\n",
            "  Downloading nvidia_nvtx_cu12-12.1.105-py3-none-manylinux1_x86_64.whl (99 kB)\n",
            "\u001b[2K     \u001b[90m━━━━━━━━━━━━━━━━━━━━━━━━━━━━━━━━━━━━━━━━\u001b[0m \u001b[32m99.1/99.1 kB\u001b[0m \u001b[31m14.9 MB/s\u001b[0m eta \u001b[36m0:00:00\u001b[0m\n",
            "\u001b[?25hRequirement already satisfied: triton==2.2.0 in /usr/local/lib/python3.10/dist-packages (from torch>=1.0.0->stanfordnlp) (2.2.0)\n",
            "Collecting nvidia-nvjitlink-cu12 (from nvidia-cusolver-cu12==11.4.5.107->torch>=1.0.0->stanfordnlp)\n",
            "  Downloading nvidia_nvjitlink_cu12-12.4.99-py3-none-manylinux2014_x86_64.whl (21.1 MB)\n",
            "\u001b[2K     \u001b[90m━━━━━━━━━━━━━━━━━━━━━━━━━━━━━━━━━━━━━━━━\u001b[0m \u001b[32m21.1/21.1 MB\u001b[0m \u001b[31m81.8 MB/s\u001b[0m eta \u001b[36m0:00:00\u001b[0m\n",
            "\u001b[?25hRequirement already satisfied: charset-normalizer<4,>=2 in /usr/local/lib/python3.10/dist-packages (from requests->stanfordnlp) (3.3.2)\n",
            "Requirement already satisfied: idna<4,>=2.5 in /usr/local/lib/python3.10/dist-packages (from requests->stanfordnlp) (3.6)\n",
            "Requirement already satisfied: urllib3<3,>=1.21.1 in /usr/local/lib/python3.10/dist-packages (from requests->stanfordnlp) (2.0.7)\n",
            "Requirement already satisfied: certifi>=2017.4.17 in /usr/local/lib/python3.10/dist-packages (from requests->stanfordnlp) (2024.2.2)\n",
            "Requirement already satisfied: MarkupSafe>=2.0 in /usr/local/lib/python3.10/dist-packages (from jinja2->torch>=1.0.0->stanfordnlp) (2.1.5)\n",
            "Requirement already satisfied: mpmath>=0.19 in /usr/local/lib/python3.10/dist-packages (from sympy->torch>=1.0.0->stanfordnlp) (1.3.0)\n",
            "Installing collected packages: nvidia-nvtx-cu12, nvidia-nvjitlink-cu12, nvidia-nccl-cu12, nvidia-curand-cu12, nvidia-cufft-cu12, nvidia-cuda-runtime-cu12, nvidia-cuda-nvrtc-cu12, nvidia-cuda-cupti-cu12, nvidia-cublas-cu12, nvidia-cusparse-cu12, nvidia-cudnn-cu12, nvidia-cusolver-cu12, stanfordnlp\n",
            "Successfully installed nvidia-cublas-cu12-12.1.3.1 nvidia-cuda-cupti-cu12-12.1.105 nvidia-cuda-nvrtc-cu12-12.1.105 nvidia-cuda-runtime-cu12-12.1.105 nvidia-cudnn-cu12-8.9.2.26 nvidia-cufft-cu12-11.0.2.54 nvidia-curand-cu12-10.3.2.106 nvidia-cusolver-cu12-11.4.5.107 nvidia-cusparse-cu12-12.1.0.106 nvidia-nccl-cu12-2.19.3 nvidia-nvjitlink-cu12-12.4.99 nvidia-nvtx-cu12-12.1.105 stanfordnlp-0.2.0\n"
          ]
        }
      ],
      "source": [
        "\n",
        "!pip install stanfordnlp"
      ]
    },
    {
      "cell_type": "code",
      "execution_count": 35,
      "metadata": {
        "id": "RSm8MREwQnFA"
      },
      "outputs": [],
      "source": [
        "\n",
        "import stanfordnlp"
      ]
    },
    {
      "cell_type": "code",
      "execution_count": 36,
      "metadata": {
        "colab": {
          "base_uri": "https://localhost:8080/"
        },
        "id": "nAQ_Kt9mQq1C",
        "outputId": "eff4233c-054a-4574-839b-ad404c686738"
      },
      "outputs": [
        {
          "output_type": "stream",
          "name": "stdout",
          "text": [
            "Collecting en-core-web-sm==3.7.1\n",
            "  Downloading https://github.com/explosion/spacy-models/releases/download/en_core_web_sm-3.7.1/en_core_web_sm-3.7.1-py3-none-any.whl (12.8 MB)\n",
            "\u001b[2K     \u001b[90m━━━━━━━━━━━━━━━━━━━━━━━━━━━━━━━━━━━━━━━━\u001b[0m \u001b[32m12.8/12.8 MB\u001b[0m \u001b[31m39.9 MB/s\u001b[0m eta \u001b[36m0:00:00\u001b[0m\n",
            "\u001b[?25hRequirement already satisfied: spacy<3.8.0,>=3.7.2 in /usr/local/lib/python3.10/dist-packages (from en-core-web-sm==3.7.1) (3.7.4)\n",
            "Requirement already satisfied: spacy-legacy<3.1.0,>=3.0.11 in /usr/local/lib/python3.10/dist-packages (from spacy<3.8.0,>=3.7.2->en-core-web-sm==3.7.1) (3.0.12)\n",
            "Requirement already satisfied: spacy-loggers<2.0.0,>=1.0.0 in /usr/local/lib/python3.10/dist-packages (from spacy<3.8.0,>=3.7.2->en-core-web-sm==3.7.1) (1.0.5)\n",
            "Requirement already satisfied: murmurhash<1.1.0,>=0.28.0 in /usr/local/lib/python3.10/dist-packages (from spacy<3.8.0,>=3.7.2->en-core-web-sm==3.7.1) (1.0.10)\n",
            "Requirement already satisfied: cymem<2.1.0,>=2.0.2 in /usr/local/lib/python3.10/dist-packages (from spacy<3.8.0,>=3.7.2->en-core-web-sm==3.7.1) (2.0.8)\n",
            "Requirement already satisfied: preshed<3.1.0,>=3.0.2 in /usr/local/lib/python3.10/dist-packages (from spacy<3.8.0,>=3.7.2->en-core-web-sm==3.7.1) (3.0.9)\n",
            "Requirement already satisfied: thinc<8.3.0,>=8.2.2 in /usr/local/lib/python3.10/dist-packages (from spacy<3.8.0,>=3.7.2->en-core-web-sm==3.7.1) (8.2.3)\n",
            "Requirement already satisfied: wasabi<1.2.0,>=0.9.1 in /usr/local/lib/python3.10/dist-packages (from spacy<3.8.0,>=3.7.2->en-core-web-sm==3.7.1) (1.1.2)\n",
            "Requirement already satisfied: srsly<3.0.0,>=2.4.3 in /usr/local/lib/python3.10/dist-packages (from spacy<3.8.0,>=3.7.2->en-core-web-sm==3.7.1) (2.4.8)\n",
            "Requirement already satisfied: catalogue<2.1.0,>=2.0.6 in /usr/local/lib/python3.10/dist-packages (from spacy<3.8.0,>=3.7.2->en-core-web-sm==3.7.1) (2.0.10)\n",
            "Requirement already satisfied: weasel<0.4.0,>=0.1.0 in /usr/local/lib/python3.10/dist-packages (from spacy<3.8.0,>=3.7.2->en-core-web-sm==3.7.1) (0.3.4)\n",
            "Requirement already satisfied: typer<0.10.0,>=0.3.0 in /usr/local/lib/python3.10/dist-packages (from spacy<3.8.0,>=3.7.2->en-core-web-sm==3.7.1) (0.9.0)\n",
            "Requirement already satisfied: smart-open<7.0.0,>=5.2.1 in /usr/local/lib/python3.10/dist-packages (from spacy<3.8.0,>=3.7.2->en-core-web-sm==3.7.1) (6.4.0)\n",
            "Requirement already satisfied: tqdm<5.0.0,>=4.38.0 in /usr/local/lib/python3.10/dist-packages (from spacy<3.8.0,>=3.7.2->en-core-web-sm==3.7.1) (4.66.2)\n",
            "Requirement already satisfied: requests<3.0.0,>=2.13.0 in /usr/local/lib/python3.10/dist-packages (from spacy<3.8.0,>=3.7.2->en-core-web-sm==3.7.1) (2.31.0)\n",
            "Requirement already satisfied: pydantic!=1.8,!=1.8.1,<3.0.0,>=1.7.4 in /usr/local/lib/python3.10/dist-packages (from spacy<3.8.0,>=3.7.2->en-core-web-sm==3.7.1) (2.6.4)\n",
            "Requirement already satisfied: jinja2 in /usr/local/lib/python3.10/dist-packages (from spacy<3.8.0,>=3.7.2->en-core-web-sm==3.7.1) (3.1.3)\n",
            "Requirement already satisfied: setuptools in /usr/local/lib/python3.10/dist-packages (from spacy<3.8.0,>=3.7.2->en-core-web-sm==3.7.1) (67.7.2)\n",
            "Requirement already satisfied: packaging>=20.0 in /usr/local/lib/python3.10/dist-packages (from spacy<3.8.0,>=3.7.2->en-core-web-sm==3.7.1) (24.0)\n",
            "Requirement already satisfied: langcodes<4.0.0,>=3.2.0 in /usr/local/lib/python3.10/dist-packages (from spacy<3.8.0,>=3.7.2->en-core-web-sm==3.7.1) (3.3.0)\n",
            "Requirement already satisfied: numpy>=1.19.0 in /usr/local/lib/python3.10/dist-packages (from spacy<3.8.0,>=3.7.2->en-core-web-sm==3.7.1) (1.25.2)\n",
            "Requirement already satisfied: annotated-types>=0.4.0 in /usr/local/lib/python3.10/dist-packages (from pydantic!=1.8,!=1.8.1,<3.0.0,>=1.7.4->spacy<3.8.0,>=3.7.2->en-core-web-sm==3.7.1) (0.6.0)\n",
            "Requirement already satisfied: pydantic-core==2.16.3 in /usr/local/lib/python3.10/dist-packages (from pydantic!=1.8,!=1.8.1,<3.0.0,>=1.7.4->spacy<3.8.0,>=3.7.2->en-core-web-sm==3.7.1) (2.16.3)\n",
            "Requirement already satisfied: typing-extensions>=4.6.1 in /usr/local/lib/python3.10/dist-packages (from pydantic!=1.8,!=1.8.1,<3.0.0,>=1.7.4->spacy<3.8.0,>=3.7.2->en-core-web-sm==3.7.1) (4.10.0)\n",
            "Requirement already satisfied: charset-normalizer<4,>=2 in /usr/local/lib/python3.10/dist-packages (from requests<3.0.0,>=2.13.0->spacy<3.8.0,>=3.7.2->en-core-web-sm==3.7.1) (3.3.2)\n",
            "Requirement already satisfied: idna<4,>=2.5 in /usr/local/lib/python3.10/dist-packages (from requests<3.0.0,>=2.13.0->spacy<3.8.0,>=3.7.2->en-core-web-sm==3.7.1) (3.6)\n",
            "Requirement already satisfied: urllib3<3,>=1.21.1 in /usr/local/lib/python3.10/dist-packages (from requests<3.0.0,>=2.13.0->spacy<3.8.0,>=3.7.2->en-core-web-sm==3.7.1) (2.0.7)\n",
            "Requirement already satisfied: certifi>=2017.4.17 in /usr/local/lib/python3.10/dist-packages (from requests<3.0.0,>=2.13.0->spacy<3.8.0,>=3.7.2->en-core-web-sm==3.7.1) (2024.2.2)\n",
            "Requirement already satisfied: blis<0.8.0,>=0.7.8 in /usr/local/lib/python3.10/dist-packages (from thinc<8.3.0,>=8.2.2->spacy<3.8.0,>=3.7.2->en-core-web-sm==3.7.1) (0.7.11)\n",
            "Requirement already satisfied: confection<1.0.0,>=0.0.1 in /usr/local/lib/python3.10/dist-packages (from thinc<8.3.0,>=8.2.2->spacy<3.8.0,>=3.7.2->en-core-web-sm==3.7.1) (0.1.4)\n",
            "Requirement already satisfied: click<9.0.0,>=7.1.1 in /usr/local/lib/python3.10/dist-packages (from typer<0.10.0,>=0.3.0->spacy<3.8.0,>=3.7.2->en-core-web-sm==3.7.1) (8.1.7)\n",
            "Requirement already satisfied: cloudpathlib<0.17.0,>=0.7.0 in /usr/local/lib/python3.10/dist-packages (from weasel<0.4.0,>=0.1.0->spacy<3.8.0,>=3.7.2->en-core-web-sm==3.7.1) (0.16.0)\n",
            "Requirement already satisfied: MarkupSafe>=2.0 in /usr/local/lib/python3.10/dist-packages (from jinja2->spacy<3.8.0,>=3.7.2->en-core-web-sm==3.7.1) (2.1.5)\n",
            "\u001b[38;5;2m✔ Download and installation successful\u001b[0m\n",
            "You can now load the package via spacy.load('en_core_web_sm')\n",
            "\u001b[38;5;3m⚠ Restart to reload dependencies\u001b[0m\n",
            "If you are in a Jupyter or Colab notebook, you may need to restart Python in\n",
            "order to load all the package's dependencies. You can do this by selecting the\n",
            "'Restart kernel' or 'Restart runtime' option.\n"
          ]
        }
      ],
      "source": [
        "\n",
        "!python -m spacy download en_core_web_sm"
      ]
    },
    {
      "cell_type": "code",
      "execution_count": 37,
      "metadata": {
        "id": "LVukO91KQs7I"
      },
      "outputs": [],
      "source": [
        "import spacy\n",
        "\n",
        "# Load English model for processing\n",
        "nlp = spacy.load(\"en_core_web_sm\")"
      ]
    },
    {
      "cell_type": "code",
      "execution_count": 38,
      "metadata": {
        "id": "QgwfDVwbQwlV"
      },
      "outputs": [],
      "source": [
        "\n",
        "# The provided paragraph for parsing\n",
        "paragraph = \"The butterfly, a mesmerizing insect known for its delicate beauty and graceful fluttering, undergoes a remarkable transformation from a humble caterpillar. As it emerges from its chrysalis, the stunning wings of the butterfly unfold, revealing a symphony of colors and intricate patterns. These ethereal creatures play a vital role in the ecosystem as pollinators, aiding in the reproduction of various plants. Their ephemeral dance through meadows and gardens captivates the imagination and symbolizes transformation, freedom, and the fleeting nature of life. With their enchanting presence, butterflies bring joy and wonder to people of all ages, inspiring art, literature, and reverence for the natural world.\"\n",
        "\n",
        "# Process the paragraph with the NLP pipeline\n",
        "doc = nlp(paragraph)\n",
        "\n"
      ]
    },
    {
      "cell_type": "code",
      "execution_count": 39,
      "metadata": {
        "colab": {
          "base_uri": "https://localhost:8080/",
          "height": 1000
        },
        "id": "lluGPge2Q0_C",
        "outputId": "3fbd90e6-3b37-4b39-db28-96e39a63ac05"
      },
      "outputs": [
        {
          "output_type": "stream",
          "name": "stdout",
          "text": [
            "Dependency Parsing:\n",
            "The -> det -> butterfly\n",
            "butterfly -> nsubj -> undergoes\n",
            ", -> punct -> butterfly\n",
            "a -> det -> insect\n",
            "mesmerizing -> amod -> insect\n",
            "insect -> appos -> butterfly\n",
            "known -> acl -> insect\n",
            "for -> prep -> known\n",
            "its -> poss -> beauty\n",
            "delicate -> amod -> beauty\n",
            "beauty -> pobj -> for\n",
            "and -> cc -> beauty\n",
            "graceful -> amod -> fluttering\n",
            "fluttering -> conj -> beauty\n",
            ", -> punct -> butterfly\n",
            "undergoes -> ROOT -> undergoes\n",
            "a -> det -> transformation\n",
            "remarkable -> amod -> transformation\n",
            "transformation -> dobj -> undergoes\n",
            "from -> prep -> transformation\n",
            "a -> det -> caterpillar\n",
            "humble -> amod -> caterpillar\n",
            "caterpillar -> pobj -> from\n",
            ". -> punct -> undergoes\n",
            "As -> mark -> emerges\n",
            "it -> nsubj -> emerges\n",
            "emerges -> advcl -> wings\n",
            "from -> prep -> emerges\n",
            "its -> poss -> chrysalis\n",
            "chrysalis -> pobj -> from\n",
            ", -> punct -> emerges\n",
            "the -> det -> wings\n",
            "stunning -> amod -> wings\n",
            "wings -> ROOT -> wings\n",
            "of -> prep -> wings\n",
            "the -> det -> unfold\n",
            "butterfly -> compound -> unfold\n",
            "unfold -> pobj -> of\n",
            ", -> punct -> wings\n",
            "revealing -> advcl -> wings\n",
            "a -> det -> symphony\n",
            "symphony -> dobj -> revealing\n",
            "of -> prep -> symphony\n",
            "colors -> pobj -> of\n",
            "and -> cc -> colors\n",
            "intricate -> amod -> patterns\n",
            "patterns -> conj -> colors\n",
            ". -> punct -> wings\n",
            "These -> det -> creatures\n",
            "ethereal -> amod -> creatures\n",
            "creatures -> nsubj -> play\n",
            "play -> ROOT -> play\n",
            "a -> det -> role\n",
            "vital -> amod -> role\n",
            "role -> dobj -> play\n",
            "in -> prep -> play\n",
            "the -> det -> ecosystem\n",
            "ecosystem -> pobj -> in\n",
            "as -> prep -> play\n",
            "pollinators -> pobj -> as\n",
            ", -> punct -> play\n",
            "aiding -> advcl -> play\n",
            "in -> prep -> aiding\n",
            "the -> det -> reproduction\n",
            "reproduction -> pobj -> in\n",
            "of -> prep -> reproduction\n",
            "various -> amod -> plants\n",
            "plants -> pobj -> of\n",
            ". -> punct -> play\n",
            "Their -> poss -> dance\n",
            "ephemeral -> amod -> dance\n",
            "dance -> nsubj -> captivates\n",
            "through -> prep -> dance\n",
            "meadows -> pobj -> through\n",
            "and -> cc -> meadows\n",
            "gardens -> conj -> meadows\n",
            "captivates -> ROOT -> captivates\n",
            "the -> det -> transformation\n",
            "imagination -> nmod -> transformation\n",
            "and -> cc -> imagination\n",
            "symbolizes -> conj -> imagination\n",
            "transformation -> dobj -> captivates\n",
            ", -> punct -> transformation\n",
            "freedom -> conj -> transformation\n",
            ", -> punct -> freedom\n",
            "and -> cc -> freedom\n",
            "the -> det -> nature\n",
            "fleeting -> amod -> nature\n",
            "nature -> conj -> freedom\n",
            "of -> prep -> nature\n",
            "life -> pobj -> of\n",
            ". -> punct -> captivates\n",
            "With -> prep -> bring\n",
            "their -> poss -> presence\n",
            "enchanting -> amod -> presence\n",
            "presence -> pobj -> With\n",
            ", -> punct -> bring\n",
            "butterflies -> nsubj -> bring\n",
            "bring -> ROOT -> bring\n",
            "joy -> dobj -> bring\n",
            "and -> cc -> bring\n",
            "wonder -> conj -> bring\n",
            "to -> prep -> wonder\n",
            "people -> pobj -> to\n",
            "of -> prep -> people\n",
            "all -> det -> ages\n",
            "ages -> pobj -> of\n",
            ", -> punct -> ages\n",
            "inspiring -> amod -> art\n",
            "art -> appos -> ages\n",
            ", -> punct -> art\n",
            "literature -> conj -> art\n",
            ", -> punct -> literature\n",
            "and -> cc -> literature\n",
            "reverence -> conj -> literature\n",
            "for -> prep -> reverence\n",
            "the -> det -> world\n",
            "natural -> amod -> world\n",
            "world -> pobj -> for\n",
            ". -> punct -> bring\n"
          ]
        },
        {
          "output_type": "display_data",
          "data": {
            "text/plain": [
              "<IPython.core.display.HTML object>"
            ],
            "text/html": [
              "<span class=\"tex2jax_ignore\"><svg xmlns=\"http://www.w3.org/2000/svg\" xmlns:xlink=\"http://www.w3.org/1999/xlink\" xml:lang=\"en\" id=\"091c315eaf0444f4bf34145103bbbe4f-0\" class=\"displacy\" width=\"12530\" height=\"497.0\" direction=\"ltr\" style=\"max-width: none; height: 497.0px; color: #000000; background: #ffffff; font-family: Arial; direction: ltr\">\n",
              "<text class=\"displacy-token\" fill=\"currentColor\" text-anchor=\"middle\" y=\"407.0\">\n",
              "    <tspan class=\"displacy-word\" fill=\"currentColor\" x=\"50\">The</tspan>\n",
              "    <tspan class=\"displacy-tag\" dy=\"2em\" fill=\"currentColor\" x=\"50\">DET</tspan>\n",
              "</text>\n",
              "\n",
              "<text class=\"displacy-token\" fill=\"currentColor\" text-anchor=\"middle\" y=\"407.0\">\n",
              "    <tspan class=\"displacy-word\" fill=\"currentColor\" x=\"170\">butterfly,</tspan>\n",
              "    <tspan class=\"displacy-tag\" dy=\"2em\" fill=\"currentColor\" x=\"170\">NOUN</tspan>\n",
              "</text>\n",
              "\n",
              "<text class=\"displacy-token\" fill=\"currentColor\" text-anchor=\"middle\" y=\"407.0\">\n",
              "    <tspan class=\"displacy-word\" fill=\"currentColor\" x=\"290\">a</tspan>\n",
              "    <tspan class=\"displacy-tag\" dy=\"2em\" fill=\"currentColor\" x=\"290\">DET</tspan>\n",
              "</text>\n",
              "\n",
              "<text class=\"displacy-token\" fill=\"currentColor\" text-anchor=\"middle\" y=\"407.0\">\n",
              "    <tspan class=\"displacy-word\" fill=\"currentColor\" x=\"410\">mesmerizing</tspan>\n",
              "    <tspan class=\"displacy-tag\" dy=\"2em\" fill=\"currentColor\" x=\"410\">VERB</tspan>\n",
              "</text>\n",
              "\n",
              "<text class=\"displacy-token\" fill=\"currentColor\" text-anchor=\"middle\" y=\"407.0\">\n",
              "    <tspan class=\"displacy-word\" fill=\"currentColor\" x=\"530\">insect</tspan>\n",
              "    <tspan class=\"displacy-tag\" dy=\"2em\" fill=\"currentColor\" x=\"530\">NOUN</tspan>\n",
              "</text>\n",
              "\n",
              "<text class=\"displacy-token\" fill=\"currentColor\" text-anchor=\"middle\" y=\"407.0\">\n",
              "    <tspan class=\"displacy-word\" fill=\"currentColor\" x=\"650\">known</tspan>\n",
              "    <tspan class=\"displacy-tag\" dy=\"2em\" fill=\"currentColor\" x=\"650\">VERB</tspan>\n",
              "</text>\n",
              "\n",
              "<text class=\"displacy-token\" fill=\"currentColor\" text-anchor=\"middle\" y=\"407.0\">\n",
              "    <tspan class=\"displacy-word\" fill=\"currentColor\" x=\"770\">for</tspan>\n",
              "    <tspan class=\"displacy-tag\" dy=\"2em\" fill=\"currentColor\" x=\"770\">ADP</tspan>\n",
              "</text>\n",
              "\n",
              "<text class=\"displacy-token\" fill=\"currentColor\" text-anchor=\"middle\" y=\"407.0\">\n",
              "    <tspan class=\"displacy-word\" fill=\"currentColor\" x=\"890\">its</tspan>\n",
              "    <tspan class=\"displacy-tag\" dy=\"2em\" fill=\"currentColor\" x=\"890\">PRON</tspan>\n",
              "</text>\n",
              "\n",
              "<text class=\"displacy-token\" fill=\"currentColor\" text-anchor=\"middle\" y=\"407.0\">\n",
              "    <tspan class=\"displacy-word\" fill=\"currentColor\" x=\"1010\">delicate</tspan>\n",
              "    <tspan class=\"displacy-tag\" dy=\"2em\" fill=\"currentColor\" x=\"1010\">ADJ</tspan>\n",
              "</text>\n",
              "\n",
              "<text class=\"displacy-token\" fill=\"currentColor\" text-anchor=\"middle\" y=\"407.0\">\n",
              "    <tspan class=\"displacy-word\" fill=\"currentColor\" x=\"1130\">beauty</tspan>\n",
              "    <tspan class=\"displacy-tag\" dy=\"2em\" fill=\"currentColor\" x=\"1130\">NOUN</tspan>\n",
              "</text>\n",
              "\n",
              "<text class=\"displacy-token\" fill=\"currentColor\" text-anchor=\"middle\" y=\"407.0\">\n",
              "    <tspan class=\"displacy-word\" fill=\"currentColor\" x=\"1250\">and</tspan>\n",
              "    <tspan class=\"displacy-tag\" dy=\"2em\" fill=\"currentColor\" x=\"1250\">CCONJ</tspan>\n",
              "</text>\n",
              "\n",
              "<text class=\"displacy-token\" fill=\"currentColor\" text-anchor=\"middle\" y=\"407.0\">\n",
              "    <tspan class=\"displacy-word\" fill=\"currentColor\" x=\"1370\">graceful</tspan>\n",
              "    <tspan class=\"displacy-tag\" dy=\"2em\" fill=\"currentColor\" x=\"1370\">ADJ</tspan>\n",
              "</text>\n",
              "\n",
              "<text class=\"displacy-token\" fill=\"currentColor\" text-anchor=\"middle\" y=\"407.0\">\n",
              "    <tspan class=\"displacy-word\" fill=\"currentColor\" x=\"1490\">fluttering,</tspan>\n",
              "    <tspan class=\"displacy-tag\" dy=\"2em\" fill=\"currentColor\" x=\"1490\">NOUN</tspan>\n",
              "</text>\n",
              "\n",
              "<text class=\"displacy-token\" fill=\"currentColor\" text-anchor=\"middle\" y=\"407.0\">\n",
              "    <tspan class=\"displacy-word\" fill=\"currentColor\" x=\"1610\">undergoes</tspan>\n",
              "    <tspan class=\"displacy-tag\" dy=\"2em\" fill=\"currentColor\" x=\"1610\">VERB</tspan>\n",
              "</text>\n",
              "\n",
              "<text class=\"displacy-token\" fill=\"currentColor\" text-anchor=\"middle\" y=\"407.0\">\n",
              "    <tspan class=\"displacy-word\" fill=\"currentColor\" x=\"1730\">a</tspan>\n",
              "    <tspan class=\"displacy-tag\" dy=\"2em\" fill=\"currentColor\" x=\"1730\">DET</tspan>\n",
              "</text>\n",
              "\n",
              "<text class=\"displacy-token\" fill=\"currentColor\" text-anchor=\"middle\" y=\"407.0\">\n",
              "    <tspan class=\"displacy-word\" fill=\"currentColor\" x=\"1850\">remarkable</tspan>\n",
              "    <tspan class=\"displacy-tag\" dy=\"2em\" fill=\"currentColor\" x=\"1850\">ADJ</tspan>\n",
              "</text>\n",
              "\n",
              "<text class=\"displacy-token\" fill=\"currentColor\" text-anchor=\"middle\" y=\"407.0\">\n",
              "    <tspan class=\"displacy-word\" fill=\"currentColor\" x=\"1970\">transformation</tspan>\n",
              "    <tspan class=\"displacy-tag\" dy=\"2em\" fill=\"currentColor\" x=\"1970\">NOUN</tspan>\n",
              "</text>\n",
              "\n",
              "<text class=\"displacy-token\" fill=\"currentColor\" text-anchor=\"middle\" y=\"407.0\">\n",
              "    <tspan class=\"displacy-word\" fill=\"currentColor\" x=\"2090\">from</tspan>\n",
              "    <tspan class=\"displacy-tag\" dy=\"2em\" fill=\"currentColor\" x=\"2090\">ADP</tspan>\n",
              "</text>\n",
              "\n",
              "<text class=\"displacy-token\" fill=\"currentColor\" text-anchor=\"middle\" y=\"407.0\">\n",
              "    <tspan class=\"displacy-word\" fill=\"currentColor\" x=\"2210\">a</tspan>\n",
              "    <tspan class=\"displacy-tag\" dy=\"2em\" fill=\"currentColor\" x=\"2210\">DET</tspan>\n",
              "</text>\n",
              "\n",
              "<text class=\"displacy-token\" fill=\"currentColor\" text-anchor=\"middle\" y=\"407.0\">\n",
              "    <tspan class=\"displacy-word\" fill=\"currentColor\" x=\"2330\">humble</tspan>\n",
              "    <tspan class=\"displacy-tag\" dy=\"2em\" fill=\"currentColor\" x=\"2330\">ADJ</tspan>\n",
              "</text>\n",
              "\n",
              "<text class=\"displacy-token\" fill=\"currentColor\" text-anchor=\"middle\" y=\"407.0\">\n",
              "    <tspan class=\"displacy-word\" fill=\"currentColor\" x=\"2450\">caterpillar.</tspan>\n",
              "    <tspan class=\"displacy-tag\" dy=\"2em\" fill=\"currentColor\" x=\"2450\">NOUN</tspan>\n",
              "</text>\n",
              "\n",
              "<text class=\"displacy-token\" fill=\"currentColor\" text-anchor=\"middle\" y=\"407.0\">\n",
              "    <tspan class=\"displacy-word\" fill=\"currentColor\" x=\"2570\">As</tspan>\n",
              "    <tspan class=\"displacy-tag\" dy=\"2em\" fill=\"currentColor\" x=\"2570\">SCONJ</tspan>\n",
              "</text>\n",
              "\n",
              "<text class=\"displacy-token\" fill=\"currentColor\" text-anchor=\"middle\" y=\"407.0\">\n",
              "    <tspan class=\"displacy-word\" fill=\"currentColor\" x=\"2690\">it</tspan>\n",
              "    <tspan class=\"displacy-tag\" dy=\"2em\" fill=\"currentColor\" x=\"2690\">PRON</tspan>\n",
              "</text>\n",
              "\n",
              "<text class=\"displacy-token\" fill=\"currentColor\" text-anchor=\"middle\" y=\"407.0\">\n",
              "    <tspan class=\"displacy-word\" fill=\"currentColor\" x=\"2810\">emerges</tspan>\n",
              "    <tspan class=\"displacy-tag\" dy=\"2em\" fill=\"currentColor\" x=\"2810\">VERB</tspan>\n",
              "</text>\n",
              "\n",
              "<text class=\"displacy-token\" fill=\"currentColor\" text-anchor=\"middle\" y=\"407.0\">\n",
              "    <tspan class=\"displacy-word\" fill=\"currentColor\" x=\"2930\">from</tspan>\n",
              "    <tspan class=\"displacy-tag\" dy=\"2em\" fill=\"currentColor\" x=\"2930\">ADP</tspan>\n",
              "</text>\n",
              "\n",
              "<text class=\"displacy-token\" fill=\"currentColor\" text-anchor=\"middle\" y=\"407.0\">\n",
              "    <tspan class=\"displacy-word\" fill=\"currentColor\" x=\"3050\">its</tspan>\n",
              "    <tspan class=\"displacy-tag\" dy=\"2em\" fill=\"currentColor\" x=\"3050\">PRON</tspan>\n",
              "</text>\n",
              "\n",
              "<text class=\"displacy-token\" fill=\"currentColor\" text-anchor=\"middle\" y=\"407.0\">\n",
              "    <tspan class=\"displacy-word\" fill=\"currentColor\" x=\"3170\">chrysalis,</tspan>\n",
              "    <tspan class=\"displacy-tag\" dy=\"2em\" fill=\"currentColor\" x=\"3170\">PROPN</tspan>\n",
              "</text>\n",
              "\n",
              "<text class=\"displacy-token\" fill=\"currentColor\" text-anchor=\"middle\" y=\"407.0\">\n",
              "    <tspan class=\"displacy-word\" fill=\"currentColor\" x=\"3290\">the</tspan>\n",
              "    <tspan class=\"displacy-tag\" dy=\"2em\" fill=\"currentColor\" x=\"3290\">DET</tspan>\n",
              "</text>\n",
              "\n",
              "<text class=\"displacy-token\" fill=\"currentColor\" text-anchor=\"middle\" y=\"407.0\">\n",
              "    <tspan class=\"displacy-word\" fill=\"currentColor\" x=\"3410\">stunning</tspan>\n",
              "    <tspan class=\"displacy-tag\" dy=\"2em\" fill=\"currentColor\" x=\"3410\">ADJ</tspan>\n",
              "</text>\n",
              "\n",
              "<text class=\"displacy-token\" fill=\"currentColor\" text-anchor=\"middle\" y=\"407.0\">\n",
              "    <tspan class=\"displacy-word\" fill=\"currentColor\" x=\"3530\">wings</tspan>\n",
              "    <tspan class=\"displacy-tag\" dy=\"2em\" fill=\"currentColor\" x=\"3530\">NOUN</tspan>\n",
              "</text>\n",
              "\n",
              "<text class=\"displacy-token\" fill=\"currentColor\" text-anchor=\"middle\" y=\"407.0\">\n",
              "    <tspan class=\"displacy-word\" fill=\"currentColor\" x=\"3650\">of</tspan>\n",
              "    <tspan class=\"displacy-tag\" dy=\"2em\" fill=\"currentColor\" x=\"3650\">ADP</tspan>\n",
              "</text>\n",
              "\n",
              "<text class=\"displacy-token\" fill=\"currentColor\" text-anchor=\"middle\" y=\"407.0\">\n",
              "    <tspan class=\"displacy-word\" fill=\"currentColor\" x=\"3770\">the</tspan>\n",
              "    <tspan class=\"displacy-tag\" dy=\"2em\" fill=\"currentColor\" x=\"3770\">DET</tspan>\n",
              "</text>\n",
              "\n",
              "<text class=\"displacy-token\" fill=\"currentColor\" text-anchor=\"middle\" y=\"407.0\">\n",
              "    <tspan class=\"displacy-word\" fill=\"currentColor\" x=\"3890\">butterfly</tspan>\n",
              "    <tspan class=\"displacy-tag\" dy=\"2em\" fill=\"currentColor\" x=\"3890\">NOUN</tspan>\n",
              "</text>\n",
              "\n",
              "<text class=\"displacy-token\" fill=\"currentColor\" text-anchor=\"middle\" y=\"407.0\">\n",
              "    <tspan class=\"displacy-word\" fill=\"currentColor\" x=\"4010\">unfold,</tspan>\n",
              "    <tspan class=\"displacy-tag\" dy=\"2em\" fill=\"currentColor\" x=\"4010\">NOUN</tspan>\n",
              "</text>\n",
              "\n",
              "<text class=\"displacy-token\" fill=\"currentColor\" text-anchor=\"middle\" y=\"407.0\">\n",
              "    <tspan class=\"displacy-word\" fill=\"currentColor\" x=\"4130\">revealing</tspan>\n",
              "    <tspan class=\"displacy-tag\" dy=\"2em\" fill=\"currentColor\" x=\"4130\">VERB</tspan>\n",
              "</text>\n",
              "\n",
              "<text class=\"displacy-token\" fill=\"currentColor\" text-anchor=\"middle\" y=\"407.0\">\n",
              "    <tspan class=\"displacy-word\" fill=\"currentColor\" x=\"4250\">a</tspan>\n",
              "    <tspan class=\"displacy-tag\" dy=\"2em\" fill=\"currentColor\" x=\"4250\">DET</tspan>\n",
              "</text>\n",
              "\n",
              "<text class=\"displacy-token\" fill=\"currentColor\" text-anchor=\"middle\" y=\"407.0\">\n",
              "    <tspan class=\"displacy-word\" fill=\"currentColor\" x=\"4370\">symphony</tspan>\n",
              "    <tspan class=\"displacy-tag\" dy=\"2em\" fill=\"currentColor\" x=\"4370\">NOUN</tspan>\n",
              "</text>\n",
              "\n",
              "<text class=\"displacy-token\" fill=\"currentColor\" text-anchor=\"middle\" y=\"407.0\">\n",
              "    <tspan class=\"displacy-word\" fill=\"currentColor\" x=\"4490\">of</tspan>\n",
              "    <tspan class=\"displacy-tag\" dy=\"2em\" fill=\"currentColor\" x=\"4490\">ADP</tspan>\n",
              "</text>\n",
              "\n",
              "<text class=\"displacy-token\" fill=\"currentColor\" text-anchor=\"middle\" y=\"407.0\">\n",
              "    <tspan class=\"displacy-word\" fill=\"currentColor\" x=\"4610\">colors</tspan>\n",
              "    <tspan class=\"displacy-tag\" dy=\"2em\" fill=\"currentColor\" x=\"4610\">NOUN</tspan>\n",
              "</text>\n",
              "\n",
              "<text class=\"displacy-token\" fill=\"currentColor\" text-anchor=\"middle\" y=\"407.0\">\n",
              "    <tspan class=\"displacy-word\" fill=\"currentColor\" x=\"4730\">and</tspan>\n",
              "    <tspan class=\"displacy-tag\" dy=\"2em\" fill=\"currentColor\" x=\"4730\">CCONJ</tspan>\n",
              "</text>\n",
              "\n",
              "<text class=\"displacy-token\" fill=\"currentColor\" text-anchor=\"middle\" y=\"407.0\">\n",
              "    <tspan class=\"displacy-word\" fill=\"currentColor\" x=\"4850\">intricate</tspan>\n",
              "    <tspan class=\"displacy-tag\" dy=\"2em\" fill=\"currentColor\" x=\"4850\">ADJ</tspan>\n",
              "</text>\n",
              "\n",
              "<text class=\"displacy-token\" fill=\"currentColor\" text-anchor=\"middle\" y=\"407.0\">\n",
              "    <tspan class=\"displacy-word\" fill=\"currentColor\" x=\"4970\">patterns.</tspan>\n",
              "    <tspan class=\"displacy-tag\" dy=\"2em\" fill=\"currentColor\" x=\"4970\">NOUN</tspan>\n",
              "</text>\n",
              "\n",
              "<text class=\"displacy-token\" fill=\"currentColor\" text-anchor=\"middle\" y=\"407.0\">\n",
              "    <tspan class=\"displacy-word\" fill=\"currentColor\" x=\"5090\">These</tspan>\n",
              "    <tspan class=\"displacy-tag\" dy=\"2em\" fill=\"currentColor\" x=\"5090\">DET</tspan>\n",
              "</text>\n",
              "\n",
              "<text class=\"displacy-token\" fill=\"currentColor\" text-anchor=\"middle\" y=\"407.0\">\n",
              "    <tspan class=\"displacy-word\" fill=\"currentColor\" x=\"5210\">ethereal</tspan>\n",
              "    <tspan class=\"displacy-tag\" dy=\"2em\" fill=\"currentColor\" x=\"5210\">ADJ</tspan>\n",
              "</text>\n",
              "\n",
              "<text class=\"displacy-token\" fill=\"currentColor\" text-anchor=\"middle\" y=\"407.0\">\n",
              "    <tspan class=\"displacy-word\" fill=\"currentColor\" x=\"5330\">creatures</tspan>\n",
              "    <tspan class=\"displacy-tag\" dy=\"2em\" fill=\"currentColor\" x=\"5330\">NOUN</tspan>\n",
              "</text>\n",
              "\n",
              "<text class=\"displacy-token\" fill=\"currentColor\" text-anchor=\"middle\" y=\"407.0\">\n",
              "    <tspan class=\"displacy-word\" fill=\"currentColor\" x=\"5450\">play</tspan>\n",
              "    <tspan class=\"displacy-tag\" dy=\"2em\" fill=\"currentColor\" x=\"5450\">VERB</tspan>\n",
              "</text>\n",
              "\n",
              "<text class=\"displacy-token\" fill=\"currentColor\" text-anchor=\"middle\" y=\"407.0\">\n",
              "    <tspan class=\"displacy-word\" fill=\"currentColor\" x=\"5570\">a</tspan>\n",
              "    <tspan class=\"displacy-tag\" dy=\"2em\" fill=\"currentColor\" x=\"5570\">DET</tspan>\n",
              "</text>\n",
              "\n",
              "<text class=\"displacy-token\" fill=\"currentColor\" text-anchor=\"middle\" y=\"407.0\">\n",
              "    <tspan class=\"displacy-word\" fill=\"currentColor\" x=\"5690\">vital</tspan>\n",
              "    <tspan class=\"displacy-tag\" dy=\"2em\" fill=\"currentColor\" x=\"5690\">ADJ</tspan>\n",
              "</text>\n",
              "\n",
              "<text class=\"displacy-token\" fill=\"currentColor\" text-anchor=\"middle\" y=\"407.0\">\n",
              "    <tspan class=\"displacy-word\" fill=\"currentColor\" x=\"5810\">role</tspan>\n",
              "    <tspan class=\"displacy-tag\" dy=\"2em\" fill=\"currentColor\" x=\"5810\">NOUN</tspan>\n",
              "</text>\n",
              "\n",
              "<text class=\"displacy-token\" fill=\"currentColor\" text-anchor=\"middle\" y=\"407.0\">\n",
              "    <tspan class=\"displacy-word\" fill=\"currentColor\" x=\"5930\">in</tspan>\n",
              "    <tspan class=\"displacy-tag\" dy=\"2em\" fill=\"currentColor\" x=\"5930\">ADP</tspan>\n",
              "</text>\n",
              "\n",
              "<text class=\"displacy-token\" fill=\"currentColor\" text-anchor=\"middle\" y=\"407.0\">\n",
              "    <tspan class=\"displacy-word\" fill=\"currentColor\" x=\"6050\">the</tspan>\n",
              "    <tspan class=\"displacy-tag\" dy=\"2em\" fill=\"currentColor\" x=\"6050\">DET</tspan>\n",
              "</text>\n",
              "\n",
              "<text class=\"displacy-token\" fill=\"currentColor\" text-anchor=\"middle\" y=\"407.0\">\n",
              "    <tspan class=\"displacy-word\" fill=\"currentColor\" x=\"6170\">ecosystem</tspan>\n",
              "    <tspan class=\"displacy-tag\" dy=\"2em\" fill=\"currentColor\" x=\"6170\">NOUN</tspan>\n",
              "</text>\n",
              "\n",
              "<text class=\"displacy-token\" fill=\"currentColor\" text-anchor=\"middle\" y=\"407.0\">\n",
              "    <tspan class=\"displacy-word\" fill=\"currentColor\" x=\"6290\">as</tspan>\n",
              "    <tspan class=\"displacy-tag\" dy=\"2em\" fill=\"currentColor\" x=\"6290\">ADP</tspan>\n",
              "</text>\n",
              "\n",
              "<text class=\"displacy-token\" fill=\"currentColor\" text-anchor=\"middle\" y=\"407.0\">\n",
              "    <tspan class=\"displacy-word\" fill=\"currentColor\" x=\"6410\">pollinators,</tspan>\n",
              "    <tspan class=\"displacy-tag\" dy=\"2em\" fill=\"currentColor\" x=\"6410\">NOUN</tspan>\n",
              "</text>\n",
              "\n",
              "<text class=\"displacy-token\" fill=\"currentColor\" text-anchor=\"middle\" y=\"407.0\">\n",
              "    <tspan class=\"displacy-word\" fill=\"currentColor\" x=\"6530\">aiding</tspan>\n",
              "    <tspan class=\"displacy-tag\" dy=\"2em\" fill=\"currentColor\" x=\"6530\">VERB</tspan>\n",
              "</text>\n",
              "\n",
              "<text class=\"displacy-token\" fill=\"currentColor\" text-anchor=\"middle\" y=\"407.0\">\n",
              "    <tspan class=\"displacy-word\" fill=\"currentColor\" x=\"6650\">in</tspan>\n",
              "    <tspan class=\"displacy-tag\" dy=\"2em\" fill=\"currentColor\" x=\"6650\">ADP</tspan>\n",
              "</text>\n",
              "\n",
              "<text class=\"displacy-token\" fill=\"currentColor\" text-anchor=\"middle\" y=\"407.0\">\n",
              "    <tspan class=\"displacy-word\" fill=\"currentColor\" x=\"6770\">the</tspan>\n",
              "    <tspan class=\"displacy-tag\" dy=\"2em\" fill=\"currentColor\" x=\"6770\">DET</tspan>\n",
              "</text>\n",
              "\n",
              "<text class=\"displacy-token\" fill=\"currentColor\" text-anchor=\"middle\" y=\"407.0\">\n",
              "    <tspan class=\"displacy-word\" fill=\"currentColor\" x=\"6890\">reproduction</tspan>\n",
              "    <tspan class=\"displacy-tag\" dy=\"2em\" fill=\"currentColor\" x=\"6890\">NOUN</tspan>\n",
              "</text>\n",
              "\n",
              "<text class=\"displacy-token\" fill=\"currentColor\" text-anchor=\"middle\" y=\"407.0\">\n",
              "    <tspan class=\"displacy-word\" fill=\"currentColor\" x=\"7010\">of</tspan>\n",
              "    <tspan class=\"displacy-tag\" dy=\"2em\" fill=\"currentColor\" x=\"7010\">ADP</tspan>\n",
              "</text>\n",
              "\n",
              "<text class=\"displacy-token\" fill=\"currentColor\" text-anchor=\"middle\" y=\"407.0\">\n",
              "    <tspan class=\"displacy-word\" fill=\"currentColor\" x=\"7130\">various</tspan>\n",
              "    <tspan class=\"displacy-tag\" dy=\"2em\" fill=\"currentColor\" x=\"7130\">ADJ</tspan>\n",
              "</text>\n",
              "\n",
              "<text class=\"displacy-token\" fill=\"currentColor\" text-anchor=\"middle\" y=\"407.0\">\n",
              "    <tspan class=\"displacy-word\" fill=\"currentColor\" x=\"7250\">plants.</tspan>\n",
              "    <tspan class=\"displacy-tag\" dy=\"2em\" fill=\"currentColor\" x=\"7250\">NOUN</tspan>\n",
              "</text>\n",
              "\n",
              "<text class=\"displacy-token\" fill=\"currentColor\" text-anchor=\"middle\" y=\"407.0\">\n",
              "    <tspan class=\"displacy-word\" fill=\"currentColor\" x=\"7370\">Their</tspan>\n",
              "    <tspan class=\"displacy-tag\" dy=\"2em\" fill=\"currentColor\" x=\"7370\">PRON</tspan>\n",
              "</text>\n",
              "\n",
              "<text class=\"displacy-token\" fill=\"currentColor\" text-anchor=\"middle\" y=\"407.0\">\n",
              "    <tspan class=\"displacy-word\" fill=\"currentColor\" x=\"7490\">ephemeral</tspan>\n",
              "    <tspan class=\"displacy-tag\" dy=\"2em\" fill=\"currentColor\" x=\"7490\">ADJ</tspan>\n",
              "</text>\n",
              "\n",
              "<text class=\"displacy-token\" fill=\"currentColor\" text-anchor=\"middle\" y=\"407.0\">\n",
              "    <tspan class=\"displacy-word\" fill=\"currentColor\" x=\"7610\">dance</tspan>\n",
              "    <tspan class=\"displacy-tag\" dy=\"2em\" fill=\"currentColor\" x=\"7610\">NOUN</tspan>\n",
              "</text>\n",
              "\n",
              "<text class=\"displacy-token\" fill=\"currentColor\" text-anchor=\"middle\" y=\"407.0\">\n",
              "    <tspan class=\"displacy-word\" fill=\"currentColor\" x=\"7730\">through</tspan>\n",
              "    <tspan class=\"displacy-tag\" dy=\"2em\" fill=\"currentColor\" x=\"7730\">ADP</tspan>\n",
              "</text>\n",
              "\n",
              "<text class=\"displacy-token\" fill=\"currentColor\" text-anchor=\"middle\" y=\"407.0\">\n",
              "    <tspan class=\"displacy-word\" fill=\"currentColor\" x=\"7850\">meadows</tspan>\n",
              "    <tspan class=\"displacy-tag\" dy=\"2em\" fill=\"currentColor\" x=\"7850\">NOUN</tspan>\n",
              "</text>\n",
              "\n",
              "<text class=\"displacy-token\" fill=\"currentColor\" text-anchor=\"middle\" y=\"407.0\">\n",
              "    <tspan class=\"displacy-word\" fill=\"currentColor\" x=\"7970\">and</tspan>\n",
              "    <tspan class=\"displacy-tag\" dy=\"2em\" fill=\"currentColor\" x=\"7970\">CCONJ</tspan>\n",
              "</text>\n",
              "\n",
              "<text class=\"displacy-token\" fill=\"currentColor\" text-anchor=\"middle\" y=\"407.0\">\n",
              "    <tspan class=\"displacy-word\" fill=\"currentColor\" x=\"8090\">gardens</tspan>\n",
              "    <tspan class=\"displacy-tag\" dy=\"2em\" fill=\"currentColor\" x=\"8090\">NOUN</tspan>\n",
              "</text>\n",
              "\n",
              "<text class=\"displacy-token\" fill=\"currentColor\" text-anchor=\"middle\" y=\"407.0\">\n",
              "    <tspan class=\"displacy-word\" fill=\"currentColor\" x=\"8210\">captivates</tspan>\n",
              "    <tspan class=\"displacy-tag\" dy=\"2em\" fill=\"currentColor\" x=\"8210\">VERB</tspan>\n",
              "</text>\n",
              "\n",
              "<text class=\"displacy-token\" fill=\"currentColor\" text-anchor=\"middle\" y=\"407.0\">\n",
              "    <tspan class=\"displacy-word\" fill=\"currentColor\" x=\"8330\">the</tspan>\n",
              "    <tspan class=\"displacy-tag\" dy=\"2em\" fill=\"currentColor\" x=\"8330\">DET</tspan>\n",
              "</text>\n",
              "\n",
              "<text class=\"displacy-token\" fill=\"currentColor\" text-anchor=\"middle\" y=\"407.0\">\n",
              "    <tspan class=\"displacy-word\" fill=\"currentColor\" x=\"8450\">imagination</tspan>\n",
              "    <tspan class=\"displacy-tag\" dy=\"2em\" fill=\"currentColor\" x=\"8450\">NOUN</tspan>\n",
              "</text>\n",
              "\n",
              "<text class=\"displacy-token\" fill=\"currentColor\" text-anchor=\"middle\" y=\"407.0\">\n",
              "    <tspan class=\"displacy-word\" fill=\"currentColor\" x=\"8570\">and</tspan>\n",
              "    <tspan class=\"displacy-tag\" dy=\"2em\" fill=\"currentColor\" x=\"8570\">CCONJ</tspan>\n",
              "</text>\n",
              "\n",
              "<text class=\"displacy-token\" fill=\"currentColor\" text-anchor=\"middle\" y=\"407.0\">\n",
              "    <tspan class=\"displacy-word\" fill=\"currentColor\" x=\"8690\">symbolizes</tspan>\n",
              "    <tspan class=\"displacy-tag\" dy=\"2em\" fill=\"currentColor\" x=\"8690\">VERB</tspan>\n",
              "</text>\n",
              "\n",
              "<text class=\"displacy-token\" fill=\"currentColor\" text-anchor=\"middle\" y=\"407.0\">\n",
              "    <tspan class=\"displacy-word\" fill=\"currentColor\" x=\"8810\">transformation,</tspan>\n",
              "    <tspan class=\"displacy-tag\" dy=\"2em\" fill=\"currentColor\" x=\"8810\">NOUN</tspan>\n",
              "</text>\n",
              "\n",
              "<text class=\"displacy-token\" fill=\"currentColor\" text-anchor=\"middle\" y=\"407.0\">\n",
              "    <tspan class=\"displacy-word\" fill=\"currentColor\" x=\"8930\">freedom,</tspan>\n",
              "    <tspan class=\"displacy-tag\" dy=\"2em\" fill=\"currentColor\" x=\"8930\">NOUN</tspan>\n",
              "</text>\n",
              "\n",
              "<text class=\"displacy-token\" fill=\"currentColor\" text-anchor=\"middle\" y=\"407.0\">\n",
              "    <tspan class=\"displacy-word\" fill=\"currentColor\" x=\"9050\">and</tspan>\n",
              "    <tspan class=\"displacy-tag\" dy=\"2em\" fill=\"currentColor\" x=\"9050\">CCONJ</tspan>\n",
              "</text>\n",
              "\n",
              "<text class=\"displacy-token\" fill=\"currentColor\" text-anchor=\"middle\" y=\"407.0\">\n",
              "    <tspan class=\"displacy-word\" fill=\"currentColor\" x=\"9170\">the</tspan>\n",
              "    <tspan class=\"displacy-tag\" dy=\"2em\" fill=\"currentColor\" x=\"9170\">DET</tspan>\n",
              "</text>\n",
              "\n",
              "<text class=\"displacy-token\" fill=\"currentColor\" text-anchor=\"middle\" y=\"407.0\">\n",
              "    <tspan class=\"displacy-word\" fill=\"currentColor\" x=\"9290\">fleeting</tspan>\n",
              "    <tspan class=\"displacy-tag\" dy=\"2em\" fill=\"currentColor\" x=\"9290\">ADJ</tspan>\n",
              "</text>\n",
              "\n",
              "<text class=\"displacy-token\" fill=\"currentColor\" text-anchor=\"middle\" y=\"407.0\">\n",
              "    <tspan class=\"displacy-word\" fill=\"currentColor\" x=\"9410\">nature</tspan>\n",
              "    <tspan class=\"displacy-tag\" dy=\"2em\" fill=\"currentColor\" x=\"9410\">NOUN</tspan>\n",
              "</text>\n",
              "\n",
              "<text class=\"displacy-token\" fill=\"currentColor\" text-anchor=\"middle\" y=\"407.0\">\n",
              "    <tspan class=\"displacy-word\" fill=\"currentColor\" x=\"9530\">of</tspan>\n",
              "    <tspan class=\"displacy-tag\" dy=\"2em\" fill=\"currentColor\" x=\"9530\">ADP</tspan>\n",
              "</text>\n",
              "\n",
              "<text class=\"displacy-token\" fill=\"currentColor\" text-anchor=\"middle\" y=\"407.0\">\n",
              "    <tspan class=\"displacy-word\" fill=\"currentColor\" x=\"9650\">life.</tspan>\n",
              "    <tspan class=\"displacy-tag\" dy=\"2em\" fill=\"currentColor\" x=\"9650\">NOUN</tspan>\n",
              "</text>\n",
              "\n",
              "<text class=\"displacy-token\" fill=\"currentColor\" text-anchor=\"middle\" y=\"407.0\">\n",
              "    <tspan class=\"displacy-word\" fill=\"currentColor\" x=\"9770\">With</tspan>\n",
              "    <tspan class=\"displacy-tag\" dy=\"2em\" fill=\"currentColor\" x=\"9770\">ADP</tspan>\n",
              "</text>\n",
              "\n",
              "<text class=\"displacy-token\" fill=\"currentColor\" text-anchor=\"middle\" y=\"407.0\">\n",
              "    <tspan class=\"displacy-word\" fill=\"currentColor\" x=\"9890\">their</tspan>\n",
              "    <tspan class=\"displacy-tag\" dy=\"2em\" fill=\"currentColor\" x=\"9890\">PRON</tspan>\n",
              "</text>\n",
              "\n",
              "<text class=\"displacy-token\" fill=\"currentColor\" text-anchor=\"middle\" y=\"407.0\">\n",
              "    <tspan class=\"displacy-word\" fill=\"currentColor\" x=\"10010\">enchanting</tspan>\n",
              "    <tspan class=\"displacy-tag\" dy=\"2em\" fill=\"currentColor\" x=\"10010\">VERB</tspan>\n",
              "</text>\n",
              "\n",
              "<text class=\"displacy-token\" fill=\"currentColor\" text-anchor=\"middle\" y=\"407.0\">\n",
              "    <tspan class=\"displacy-word\" fill=\"currentColor\" x=\"10130\">presence,</tspan>\n",
              "    <tspan class=\"displacy-tag\" dy=\"2em\" fill=\"currentColor\" x=\"10130\">NOUN</tspan>\n",
              "</text>\n",
              "\n",
              "<text class=\"displacy-token\" fill=\"currentColor\" text-anchor=\"middle\" y=\"407.0\">\n",
              "    <tspan class=\"displacy-word\" fill=\"currentColor\" x=\"10250\">butterflies</tspan>\n",
              "    <tspan class=\"displacy-tag\" dy=\"2em\" fill=\"currentColor\" x=\"10250\">NOUN</tspan>\n",
              "</text>\n",
              "\n",
              "<text class=\"displacy-token\" fill=\"currentColor\" text-anchor=\"middle\" y=\"407.0\">\n",
              "    <tspan class=\"displacy-word\" fill=\"currentColor\" x=\"10370\">bring</tspan>\n",
              "    <tspan class=\"displacy-tag\" dy=\"2em\" fill=\"currentColor\" x=\"10370\">VERB</tspan>\n",
              "</text>\n",
              "\n",
              "<text class=\"displacy-token\" fill=\"currentColor\" text-anchor=\"middle\" y=\"407.0\">\n",
              "    <tspan class=\"displacy-word\" fill=\"currentColor\" x=\"10490\">joy</tspan>\n",
              "    <tspan class=\"displacy-tag\" dy=\"2em\" fill=\"currentColor\" x=\"10490\">NOUN</tspan>\n",
              "</text>\n",
              "\n",
              "<text class=\"displacy-token\" fill=\"currentColor\" text-anchor=\"middle\" y=\"407.0\">\n",
              "    <tspan class=\"displacy-word\" fill=\"currentColor\" x=\"10610\">and</tspan>\n",
              "    <tspan class=\"displacy-tag\" dy=\"2em\" fill=\"currentColor\" x=\"10610\">CCONJ</tspan>\n",
              "</text>\n",
              "\n",
              "<text class=\"displacy-token\" fill=\"currentColor\" text-anchor=\"middle\" y=\"407.0\">\n",
              "    <tspan class=\"displacy-word\" fill=\"currentColor\" x=\"10730\">wonder</tspan>\n",
              "    <tspan class=\"displacy-tag\" dy=\"2em\" fill=\"currentColor\" x=\"10730\">VERB</tspan>\n",
              "</text>\n",
              "\n",
              "<text class=\"displacy-token\" fill=\"currentColor\" text-anchor=\"middle\" y=\"407.0\">\n",
              "    <tspan class=\"displacy-word\" fill=\"currentColor\" x=\"10850\">to</tspan>\n",
              "    <tspan class=\"displacy-tag\" dy=\"2em\" fill=\"currentColor\" x=\"10850\">ADP</tspan>\n",
              "</text>\n",
              "\n",
              "<text class=\"displacy-token\" fill=\"currentColor\" text-anchor=\"middle\" y=\"407.0\">\n",
              "    <tspan class=\"displacy-word\" fill=\"currentColor\" x=\"10970\">people</tspan>\n",
              "    <tspan class=\"displacy-tag\" dy=\"2em\" fill=\"currentColor\" x=\"10970\">NOUN</tspan>\n",
              "</text>\n",
              "\n",
              "<text class=\"displacy-token\" fill=\"currentColor\" text-anchor=\"middle\" y=\"407.0\">\n",
              "    <tspan class=\"displacy-word\" fill=\"currentColor\" x=\"11090\">of</tspan>\n",
              "    <tspan class=\"displacy-tag\" dy=\"2em\" fill=\"currentColor\" x=\"11090\">ADP</tspan>\n",
              "</text>\n",
              "\n",
              "<text class=\"displacy-token\" fill=\"currentColor\" text-anchor=\"middle\" y=\"407.0\">\n",
              "    <tspan class=\"displacy-word\" fill=\"currentColor\" x=\"11210\">all</tspan>\n",
              "    <tspan class=\"displacy-tag\" dy=\"2em\" fill=\"currentColor\" x=\"11210\">DET</tspan>\n",
              "</text>\n",
              "\n",
              "<text class=\"displacy-token\" fill=\"currentColor\" text-anchor=\"middle\" y=\"407.0\">\n",
              "    <tspan class=\"displacy-word\" fill=\"currentColor\" x=\"11330\">ages,</tspan>\n",
              "    <tspan class=\"displacy-tag\" dy=\"2em\" fill=\"currentColor\" x=\"11330\">NOUN</tspan>\n",
              "</text>\n",
              "\n",
              "<text class=\"displacy-token\" fill=\"currentColor\" text-anchor=\"middle\" y=\"407.0\">\n",
              "    <tspan class=\"displacy-word\" fill=\"currentColor\" x=\"11450\">inspiring</tspan>\n",
              "    <tspan class=\"displacy-tag\" dy=\"2em\" fill=\"currentColor\" x=\"11450\">VERB</tspan>\n",
              "</text>\n",
              "\n",
              "<text class=\"displacy-token\" fill=\"currentColor\" text-anchor=\"middle\" y=\"407.0\">\n",
              "    <tspan class=\"displacy-word\" fill=\"currentColor\" x=\"11570\">art,</tspan>\n",
              "    <tspan class=\"displacy-tag\" dy=\"2em\" fill=\"currentColor\" x=\"11570\">NOUN</tspan>\n",
              "</text>\n",
              "\n",
              "<text class=\"displacy-token\" fill=\"currentColor\" text-anchor=\"middle\" y=\"407.0\">\n",
              "    <tspan class=\"displacy-word\" fill=\"currentColor\" x=\"11690\">literature,</tspan>\n",
              "    <tspan class=\"displacy-tag\" dy=\"2em\" fill=\"currentColor\" x=\"11690\">NOUN</tspan>\n",
              "</text>\n",
              "\n",
              "<text class=\"displacy-token\" fill=\"currentColor\" text-anchor=\"middle\" y=\"407.0\">\n",
              "    <tspan class=\"displacy-word\" fill=\"currentColor\" x=\"11810\">and</tspan>\n",
              "    <tspan class=\"displacy-tag\" dy=\"2em\" fill=\"currentColor\" x=\"11810\">CCONJ</tspan>\n",
              "</text>\n",
              "\n",
              "<text class=\"displacy-token\" fill=\"currentColor\" text-anchor=\"middle\" y=\"407.0\">\n",
              "    <tspan class=\"displacy-word\" fill=\"currentColor\" x=\"11930\">reverence</tspan>\n",
              "    <tspan class=\"displacy-tag\" dy=\"2em\" fill=\"currentColor\" x=\"11930\">NOUN</tspan>\n",
              "</text>\n",
              "\n",
              "<text class=\"displacy-token\" fill=\"currentColor\" text-anchor=\"middle\" y=\"407.0\">\n",
              "    <tspan class=\"displacy-word\" fill=\"currentColor\" x=\"12050\">for</tspan>\n",
              "    <tspan class=\"displacy-tag\" dy=\"2em\" fill=\"currentColor\" x=\"12050\">ADP</tspan>\n",
              "</text>\n",
              "\n",
              "<text class=\"displacy-token\" fill=\"currentColor\" text-anchor=\"middle\" y=\"407.0\">\n",
              "    <tspan class=\"displacy-word\" fill=\"currentColor\" x=\"12170\">the</tspan>\n",
              "    <tspan class=\"displacy-tag\" dy=\"2em\" fill=\"currentColor\" x=\"12170\">DET</tspan>\n",
              "</text>\n",
              "\n",
              "<text class=\"displacy-token\" fill=\"currentColor\" text-anchor=\"middle\" y=\"407.0\">\n",
              "    <tspan class=\"displacy-word\" fill=\"currentColor\" x=\"12290\">natural</tspan>\n",
              "    <tspan class=\"displacy-tag\" dy=\"2em\" fill=\"currentColor\" x=\"12290\">ADJ</tspan>\n",
              "</text>\n",
              "\n",
              "<text class=\"displacy-token\" fill=\"currentColor\" text-anchor=\"middle\" y=\"407.0\">\n",
              "    <tspan class=\"displacy-word\" fill=\"currentColor\" x=\"12410\">world.</tspan>\n",
              "    <tspan class=\"displacy-tag\" dy=\"2em\" fill=\"currentColor\" x=\"12410\">NOUN</tspan>\n",
              "</text>\n",
              "\n",
              "<g class=\"displacy-arrow\">\n",
              "    <path class=\"displacy-arc\" id=\"arrow-091c315eaf0444f4bf34145103bbbe4f-0-0\" stroke-width=\"2px\" d=\"M70,362.0 C70,302.0 145.0,302.0 145.0,362.0\" fill=\"none\" stroke=\"currentColor\"/>\n",
              "    <text dy=\"1.25em\" style=\"font-size: 0.8em; letter-spacing: 1px\">\n",
              "        <textPath xlink:href=\"#arrow-091c315eaf0444f4bf34145103bbbe4f-0-0\" class=\"displacy-label\" startOffset=\"50%\" side=\"left\" fill=\"currentColor\" text-anchor=\"middle\">det</textPath>\n",
              "    </text>\n",
              "    <path class=\"displacy-arrowhead\" d=\"M70,364.0 L62,352.0 78,352.0\" fill=\"currentColor\"/>\n",
              "</g>\n",
              "\n",
              "<g class=\"displacy-arrow\">\n",
              "    <path class=\"displacy-arc\" id=\"arrow-091c315eaf0444f4bf34145103bbbe4f-0-1\" stroke-width=\"2px\" d=\"M190,362.0 C190,122.0 1600.0,122.0 1600.0,362.0\" fill=\"none\" stroke=\"currentColor\"/>\n",
              "    <text dy=\"1.25em\" style=\"font-size: 0.8em; letter-spacing: 1px\">\n",
              "        <textPath xlink:href=\"#arrow-091c315eaf0444f4bf34145103bbbe4f-0-1\" class=\"displacy-label\" startOffset=\"50%\" side=\"left\" fill=\"currentColor\" text-anchor=\"middle\">nsubj</textPath>\n",
              "    </text>\n",
              "    <path class=\"displacy-arrowhead\" d=\"M190,364.0 L182,352.0 198,352.0\" fill=\"currentColor\"/>\n",
              "</g>\n",
              "\n",
              "<g class=\"displacy-arrow\">\n",
              "    <path class=\"displacy-arc\" id=\"arrow-091c315eaf0444f4bf34145103bbbe4f-0-2\" stroke-width=\"2px\" d=\"M310,362.0 C310,242.0 510.0,242.0 510.0,362.0\" fill=\"none\" stroke=\"currentColor\"/>\n",
              "    <text dy=\"1.25em\" style=\"font-size: 0.8em; letter-spacing: 1px\">\n",
              "        <textPath xlink:href=\"#arrow-091c315eaf0444f4bf34145103bbbe4f-0-2\" class=\"displacy-label\" startOffset=\"50%\" side=\"left\" fill=\"currentColor\" text-anchor=\"middle\">det</textPath>\n",
              "    </text>\n",
              "    <path class=\"displacy-arrowhead\" d=\"M310,364.0 L302,352.0 318,352.0\" fill=\"currentColor\"/>\n",
              "</g>\n",
              "\n",
              "<g class=\"displacy-arrow\">\n",
              "    <path class=\"displacy-arc\" id=\"arrow-091c315eaf0444f4bf34145103bbbe4f-0-3\" stroke-width=\"2px\" d=\"M430,362.0 C430,302.0 505.0,302.0 505.0,362.0\" fill=\"none\" stroke=\"currentColor\"/>\n",
              "    <text dy=\"1.25em\" style=\"font-size: 0.8em; letter-spacing: 1px\">\n",
              "        <textPath xlink:href=\"#arrow-091c315eaf0444f4bf34145103bbbe4f-0-3\" class=\"displacy-label\" startOffset=\"50%\" side=\"left\" fill=\"currentColor\" text-anchor=\"middle\">amod</textPath>\n",
              "    </text>\n",
              "    <path class=\"displacy-arrowhead\" d=\"M430,364.0 L422,352.0 438,352.0\" fill=\"currentColor\"/>\n",
              "</g>\n",
              "\n",
              "<g class=\"displacy-arrow\">\n",
              "    <path class=\"displacy-arc\" id=\"arrow-091c315eaf0444f4bf34145103bbbe4f-0-4\" stroke-width=\"2px\" d=\"M190,362.0 C190,182.0 515.0,182.0 515.0,362.0\" fill=\"none\" stroke=\"currentColor\"/>\n",
              "    <text dy=\"1.25em\" style=\"font-size: 0.8em; letter-spacing: 1px\">\n",
              "        <textPath xlink:href=\"#arrow-091c315eaf0444f4bf34145103bbbe4f-0-4\" class=\"displacy-label\" startOffset=\"50%\" side=\"left\" fill=\"currentColor\" text-anchor=\"middle\">appos</textPath>\n",
              "    </text>\n",
              "    <path class=\"displacy-arrowhead\" d=\"M515.0,364.0 L523.0,352.0 507.0,352.0\" fill=\"currentColor\"/>\n",
              "</g>\n",
              "\n",
              "<g class=\"displacy-arrow\">\n",
              "    <path class=\"displacy-arc\" id=\"arrow-091c315eaf0444f4bf34145103bbbe4f-0-5\" stroke-width=\"2px\" d=\"M550,362.0 C550,302.0 625.0,302.0 625.0,362.0\" fill=\"none\" stroke=\"currentColor\"/>\n",
              "    <text dy=\"1.25em\" style=\"font-size: 0.8em; letter-spacing: 1px\">\n",
              "        <textPath xlink:href=\"#arrow-091c315eaf0444f4bf34145103bbbe4f-0-5\" class=\"displacy-label\" startOffset=\"50%\" side=\"left\" fill=\"currentColor\" text-anchor=\"middle\">acl</textPath>\n",
              "    </text>\n",
              "    <path class=\"displacy-arrowhead\" d=\"M625.0,364.0 L633.0,352.0 617.0,352.0\" fill=\"currentColor\"/>\n",
              "</g>\n",
              "\n",
              "<g class=\"displacy-arrow\">\n",
              "    <path class=\"displacy-arc\" id=\"arrow-091c315eaf0444f4bf34145103bbbe4f-0-6\" stroke-width=\"2px\" d=\"M670,362.0 C670,302.0 745.0,302.0 745.0,362.0\" fill=\"none\" stroke=\"currentColor\"/>\n",
              "    <text dy=\"1.25em\" style=\"font-size: 0.8em; letter-spacing: 1px\">\n",
              "        <textPath xlink:href=\"#arrow-091c315eaf0444f4bf34145103bbbe4f-0-6\" class=\"displacy-label\" startOffset=\"50%\" side=\"left\" fill=\"currentColor\" text-anchor=\"middle\">prep</textPath>\n",
              "    </text>\n",
              "    <path class=\"displacy-arrowhead\" d=\"M745.0,364.0 L753.0,352.0 737.0,352.0\" fill=\"currentColor\"/>\n",
              "</g>\n",
              "\n",
              "<g class=\"displacy-arrow\">\n",
              "    <path class=\"displacy-arc\" id=\"arrow-091c315eaf0444f4bf34145103bbbe4f-0-7\" stroke-width=\"2px\" d=\"M910,362.0 C910,242.0 1110.0,242.0 1110.0,362.0\" fill=\"none\" stroke=\"currentColor\"/>\n",
              "    <text dy=\"1.25em\" style=\"font-size: 0.8em; letter-spacing: 1px\">\n",
              "        <textPath xlink:href=\"#arrow-091c315eaf0444f4bf34145103bbbe4f-0-7\" class=\"displacy-label\" startOffset=\"50%\" side=\"left\" fill=\"currentColor\" text-anchor=\"middle\">poss</textPath>\n",
              "    </text>\n",
              "    <path class=\"displacy-arrowhead\" d=\"M910,364.0 L902,352.0 918,352.0\" fill=\"currentColor\"/>\n",
              "</g>\n",
              "\n",
              "<g class=\"displacy-arrow\">\n",
              "    <path class=\"displacy-arc\" id=\"arrow-091c315eaf0444f4bf34145103bbbe4f-0-8\" stroke-width=\"2px\" d=\"M1030,362.0 C1030,302.0 1105.0,302.0 1105.0,362.0\" fill=\"none\" stroke=\"currentColor\"/>\n",
              "    <text dy=\"1.25em\" style=\"font-size: 0.8em; letter-spacing: 1px\">\n",
              "        <textPath xlink:href=\"#arrow-091c315eaf0444f4bf34145103bbbe4f-0-8\" class=\"displacy-label\" startOffset=\"50%\" side=\"left\" fill=\"currentColor\" text-anchor=\"middle\">amod</textPath>\n",
              "    </text>\n",
              "    <path class=\"displacy-arrowhead\" d=\"M1030,364.0 L1022,352.0 1038,352.0\" fill=\"currentColor\"/>\n",
              "</g>\n",
              "\n",
              "<g class=\"displacy-arrow\">\n",
              "    <path class=\"displacy-arc\" id=\"arrow-091c315eaf0444f4bf34145103bbbe4f-0-9\" stroke-width=\"2px\" d=\"M790,362.0 C790,182.0 1115.0,182.0 1115.0,362.0\" fill=\"none\" stroke=\"currentColor\"/>\n",
              "    <text dy=\"1.25em\" style=\"font-size: 0.8em; letter-spacing: 1px\">\n",
              "        <textPath xlink:href=\"#arrow-091c315eaf0444f4bf34145103bbbe4f-0-9\" class=\"displacy-label\" startOffset=\"50%\" side=\"left\" fill=\"currentColor\" text-anchor=\"middle\">pobj</textPath>\n",
              "    </text>\n",
              "    <path class=\"displacy-arrowhead\" d=\"M1115.0,364.0 L1123.0,352.0 1107.0,352.0\" fill=\"currentColor\"/>\n",
              "</g>\n",
              "\n",
              "<g class=\"displacy-arrow\">\n",
              "    <path class=\"displacy-arc\" id=\"arrow-091c315eaf0444f4bf34145103bbbe4f-0-10\" stroke-width=\"2px\" d=\"M1150,362.0 C1150,302.0 1225.0,302.0 1225.0,362.0\" fill=\"none\" stroke=\"currentColor\"/>\n",
              "    <text dy=\"1.25em\" style=\"font-size: 0.8em; letter-spacing: 1px\">\n",
              "        <textPath xlink:href=\"#arrow-091c315eaf0444f4bf34145103bbbe4f-0-10\" class=\"displacy-label\" startOffset=\"50%\" side=\"left\" fill=\"currentColor\" text-anchor=\"middle\">cc</textPath>\n",
              "    </text>\n",
              "    <path class=\"displacy-arrowhead\" d=\"M1225.0,364.0 L1233.0,352.0 1217.0,352.0\" fill=\"currentColor\"/>\n",
              "</g>\n",
              "\n",
              "<g class=\"displacy-arrow\">\n",
              "    <path class=\"displacy-arc\" id=\"arrow-091c315eaf0444f4bf34145103bbbe4f-0-11\" stroke-width=\"2px\" d=\"M1390,362.0 C1390,302.0 1465.0,302.0 1465.0,362.0\" fill=\"none\" stroke=\"currentColor\"/>\n",
              "    <text dy=\"1.25em\" style=\"font-size: 0.8em; letter-spacing: 1px\">\n",
              "        <textPath xlink:href=\"#arrow-091c315eaf0444f4bf34145103bbbe4f-0-11\" class=\"displacy-label\" startOffset=\"50%\" side=\"left\" fill=\"currentColor\" text-anchor=\"middle\">amod</textPath>\n",
              "    </text>\n",
              "    <path class=\"displacy-arrowhead\" d=\"M1390,364.0 L1382,352.0 1398,352.0\" fill=\"currentColor\"/>\n",
              "</g>\n",
              "\n",
              "<g class=\"displacy-arrow\">\n",
              "    <path class=\"displacy-arc\" id=\"arrow-091c315eaf0444f4bf34145103bbbe4f-0-12\" stroke-width=\"2px\" d=\"M1150,362.0 C1150,242.0 1470.0,242.0 1470.0,362.0\" fill=\"none\" stroke=\"currentColor\"/>\n",
              "    <text dy=\"1.25em\" style=\"font-size: 0.8em; letter-spacing: 1px\">\n",
              "        <textPath xlink:href=\"#arrow-091c315eaf0444f4bf34145103bbbe4f-0-12\" class=\"displacy-label\" startOffset=\"50%\" side=\"left\" fill=\"currentColor\" text-anchor=\"middle\">conj</textPath>\n",
              "    </text>\n",
              "    <path class=\"displacy-arrowhead\" d=\"M1470.0,364.0 L1478.0,352.0 1462.0,352.0\" fill=\"currentColor\"/>\n",
              "</g>\n",
              "\n",
              "<g class=\"displacy-arrow\">\n",
              "    <path class=\"displacy-arc\" id=\"arrow-091c315eaf0444f4bf34145103bbbe4f-0-13\" stroke-width=\"2px\" d=\"M1750,362.0 C1750,242.0 1950.0,242.0 1950.0,362.0\" fill=\"none\" stroke=\"currentColor\"/>\n",
              "    <text dy=\"1.25em\" style=\"font-size: 0.8em; letter-spacing: 1px\">\n",
              "        <textPath xlink:href=\"#arrow-091c315eaf0444f4bf34145103bbbe4f-0-13\" class=\"displacy-label\" startOffset=\"50%\" side=\"left\" fill=\"currentColor\" text-anchor=\"middle\">det</textPath>\n",
              "    </text>\n",
              "    <path class=\"displacy-arrowhead\" d=\"M1750,364.0 L1742,352.0 1758,352.0\" fill=\"currentColor\"/>\n",
              "</g>\n",
              "\n",
              "<g class=\"displacy-arrow\">\n",
              "    <path class=\"displacy-arc\" id=\"arrow-091c315eaf0444f4bf34145103bbbe4f-0-14\" stroke-width=\"2px\" d=\"M1870,362.0 C1870,302.0 1945.0,302.0 1945.0,362.0\" fill=\"none\" stroke=\"currentColor\"/>\n",
              "    <text dy=\"1.25em\" style=\"font-size: 0.8em; letter-spacing: 1px\">\n",
              "        <textPath xlink:href=\"#arrow-091c315eaf0444f4bf34145103bbbe4f-0-14\" class=\"displacy-label\" startOffset=\"50%\" side=\"left\" fill=\"currentColor\" text-anchor=\"middle\">amod</textPath>\n",
              "    </text>\n",
              "    <path class=\"displacy-arrowhead\" d=\"M1870,364.0 L1862,352.0 1878,352.0\" fill=\"currentColor\"/>\n",
              "</g>\n",
              "\n",
              "<g class=\"displacy-arrow\">\n",
              "    <path class=\"displacy-arc\" id=\"arrow-091c315eaf0444f4bf34145103bbbe4f-0-15\" stroke-width=\"2px\" d=\"M1630,362.0 C1630,182.0 1955.0,182.0 1955.0,362.0\" fill=\"none\" stroke=\"currentColor\"/>\n",
              "    <text dy=\"1.25em\" style=\"font-size: 0.8em; letter-spacing: 1px\">\n",
              "        <textPath xlink:href=\"#arrow-091c315eaf0444f4bf34145103bbbe4f-0-15\" class=\"displacy-label\" startOffset=\"50%\" side=\"left\" fill=\"currentColor\" text-anchor=\"middle\">dobj</textPath>\n",
              "    </text>\n",
              "    <path class=\"displacy-arrowhead\" d=\"M1955.0,364.0 L1963.0,352.0 1947.0,352.0\" fill=\"currentColor\"/>\n",
              "</g>\n",
              "\n",
              "<g class=\"displacy-arrow\">\n",
              "    <path class=\"displacy-arc\" id=\"arrow-091c315eaf0444f4bf34145103bbbe4f-0-16\" stroke-width=\"2px\" d=\"M1990,362.0 C1990,302.0 2065.0,302.0 2065.0,362.0\" fill=\"none\" stroke=\"currentColor\"/>\n",
              "    <text dy=\"1.25em\" style=\"font-size: 0.8em; letter-spacing: 1px\">\n",
              "        <textPath xlink:href=\"#arrow-091c315eaf0444f4bf34145103bbbe4f-0-16\" class=\"displacy-label\" startOffset=\"50%\" side=\"left\" fill=\"currentColor\" text-anchor=\"middle\">prep</textPath>\n",
              "    </text>\n",
              "    <path class=\"displacy-arrowhead\" d=\"M2065.0,364.0 L2073.0,352.0 2057.0,352.0\" fill=\"currentColor\"/>\n",
              "</g>\n",
              "\n",
              "<g class=\"displacy-arrow\">\n",
              "    <path class=\"displacy-arc\" id=\"arrow-091c315eaf0444f4bf34145103bbbe4f-0-17\" stroke-width=\"2px\" d=\"M2230,362.0 C2230,242.0 2430.0,242.0 2430.0,362.0\" fill=\"none\" stroke=\"currentColor\"/>\n",
              "    <text dy=\"1.25em\" style=\"font-size: 0.8em; letter-spacing: 1px\">\n",
              "        <textPath xlink:href=\"#arrow-091c315eaf0444f4bf34145103bbbe4f-0-17\" class=\"displacy-label\" startOffset=\"50%\" side=\"left\" fill=\"currentColor\" text-anchor=\"middle\">det</textPath>\n",
              "    </text>\n",
              "    <path class=\"displacy-arrowhead\" d=\"M2230,364.0 L2222,352.0 2238,352.0\" fill=\"currentColor\"/>\n",
              "</g>\n",
              "\n",
              "<g class=\"displacy-arrow\">\n",
              "    <path class=\"displacy-arc\" id=\"arrow-091c315eaf0444f4bf34145103bbbe4f-0-18\" stroke-width=\"2px\" d=\"M2350,362.0 C2350,302.0 2425.0,302.0 2425.0,362.0\" fill=\"none\" stroke=\"currentColor\"/>\n",
              "    <text dy=\"1.25em\" style=\"font-size: 0.8em; letter-spacing: 1px\">\n",
              "        <textPath xlink:href=\"#arrow-091c315eaf0444f4bf34145103bbbe4f-0-18\" class=\"displacy-label\" startOffset=\"50%\" side=\"left\" fill=\"currentColor\" text-anchor=\"middle\">amod</textPath>\n",
              "    </text>\n",
              "    <path class=\"displacy-arrowhead\" d=\"M2350,364.0 L2342,352.0 2358,352.0\" fill=\"currentColor\"/>\n",
              "</g>\n",
              "\n",
              "<g class=\"displacy-arrow\">\n",
              "    <path class=\"displacy-arc\" id=\"arrow-091c315eaf0444f4bf34145103bbbe4f-0-19\" stroke-width=\"2px\" d=\"M2110,362.0 C2110,182.0 2435.0,182.0 2435.0,362.0\" fill=\"none\" stroke=\"currentColor\"/>\n",
              "    <text dy=\"1.25em\" style=\"font-size: 0.8em; letter-spacing: 1px\">\n",
              "        <textPath xlink:href=\"#arrow-091c315eaf0444f4bf34145103bbbe4f-0-19\" class=\"displacy-label\" startOffset=\"50%\" side=\"left\" fill=\"currentColor\" text-anchor=\"middle\">pobj</textPath>\n",
              "    </text>\n",
              "    <path class=\"displacy-arrowhead\" d=\"M2435.0,364.0 L2443.0,352.0 2427.0,352.0\" fill=\"currentColor\"/>\n",
              "</g>\n",
              "\n",
              "<g class=\"displacy-arrow\">\n",
              "    <path class=\"displacy-arc\" id=\"arrow-091c315eaf0444f4bf34145103bbbe4f-0-20\" stroke-width=\"2px\" d=\"M2590,362.0 C2590,242.0 2790.0,242.0 2790.0,362.0\" fill=\"none\" stroke=\"currentColor\"/>\n",
              "    <text dy=\"1.25em\" style=\"font-size: 0.8em; letter-spacing: 1px\">\n",
              "        <textPath xlink:href=\"#arrow-091c315eaf0444f4bf34145103bbbe4f-0-20\" class=\"displacy-label\" startOffset=\"50%\" side=\"left\" fill=\"currentColor\" text-anchor=\"middle\">mark</textPath>\n",
              "    </text>\n",
              "    <path class=\"displacy-arrowhead\" d=\"M2590,364.0 L2582,352.0 2598,352.0\" fill=\"currentColor\"/>\n",
              "</g>\n",
              "\n",
              "<g class=\"displacy-arrow\">\n",
              "    <path class=\"displacy-arc\" id=\"arrow-091c315eaf0444f4bf34145103bbbe4f-0-21\" stroke-width=\"2px\" d=\"M2710,362.0 C2710,302.0 2785.0,302.0 2785.0,362.0\" fill=\"none\" stroke=\"currentColor\"/>\n",
              "    <text dy=\"1.25em\" style=\"font-size: 0.8em; letter-spacing: 1px\">\n",
              "        <textPath xlink:href=\"#arrow-091c315eaf0444f4bf34145103bbbe4f-0-21\" class=\"displacy-label\" startOffset=\"50%\" side=\"left\" fill=\"currentColor\" text-anchor=\"middle\">nsubj</textPath>\n",
              "    </text>\n",
              "    <path class=\"displacy-arrowhead\" d=\"M2710,364.0 L2702,352.0 2718,352.0\" fill=\"currentColor\"/>\n",
              "</g>\n",
              "\n",
              "<g class=\"displacy-arrow\">\n",
              "    <path class=\"displacy-arc\" id=\"arrow-091c315eaf0444f4bf34145103bbbe4f-0-22\" stroke-width=\"2px\" d=\"M2830,362.0 C2830,182.0 3515.0,182.0 3515.0,362.0\" fill=\"none\" stroke=\"currentColor\"/>\n",
              "    <text dy=\"1.25em\" style=\"font-size: 0.8em; letter-spacing: 1px\">\n",
              "        <textPath xlink:href=\"#arrow-091c315eaf0444f4bf34145103bbbe4f-0-22\" class=\"displacy-label\" startOffset=\"50%\" side=\"left\" fill=\"currentColor\" text-anchor=\"middle\">advcl</textPath>\n",
              "    </text>\n",
              "    <path class=\"displacy-arrowhead\" d=\"M2830,364.0 L2822,352.0 2838,352.0\" fill=\"currentColor\"/>\n",
              "</g>\n",
              "\n",
              "<g class=\"displacy-arrow\">\n",
              "    <path class=\"displacy-arc\" id=\"arrow-091c315eaf0444f4bf34145103bbbe4f-0-23\" stroke-width=\"2px\" d=\"M2830,362.0 C2830,302.0 2905.0,302.0 2905.0,362.0\" fill=\"none\" stroke=\"currentColor\"/>\n",
              "    <text dy=\"1.25em\" style=\"font-size: 0.8em; letter-spacing: 1px\">\n",
              "        <textPath xlink:href=\"#arrow-091c315eaf0444f4bf34145103bbbe4f-0-23\" class=\"displacy-label\" startOffset=\"50%\" side=\"left\" fill=\"currentColor\" text-anchor=\"middle\">prep</textPath>\n",
              "    </text>\n",
              "    <path class=\"displacy-arrowhead\" d=\"M2905.0,364.0 L2913.0,352.0 2897.0,352.0\" fill=\"currentColor\"/>\n",
              "</g>\n",
              "\n",
              "<g class=\"displacy-arrow\">\n",
              "    <path class=\"displacy-arc\" id=\"arrow-091c315eaf0444f4bf34145103bbbe4f-0-24\" stroke-width=\"2px\" d=\"M3070,362.0 C3070,302.0 3145.0,302.0 3145.0,362.0\" fill=\"none\" stroke=\"currentColor\"/>\n",
              "    <text dy=\"1.25em\" style=\"font-size: 0.8em; letter-spacing: 1px\">\n",
              "        <textPath xlink:href=\"#arrow-091c315eaf0444f4bf34145103bbbe4f-0-24\" class=\"displacy-label\" startOffset=\"50%\" side=\"left\" fill=\"currentColor\" text-anchor=\"middle\">poss</textPath>\n",
              "    </text>\n",
              "    <path class=\"displacy-arrowhead\" d=\"M3070,364.0 L3062,352.0 3078,352.0\" fill=\"currentColor\"/>\n",
              "</g>\n",
              "\n",
              "<g class=\"displacy-arrow\">\n",
              "    <path class=\"displacy-arc\" id=\"arrow-091c315eaf0444f4bf34145103bbbe4f-0-25\" stroke-width=\"2px\" d=\"M2950,362.0 C2950,242.0 3150.0,242.0 3150.0,362.0\" fill=\"none\" stroke=\"currentColor\"/>\n",
              "    <text dy=\"1.25em\" style=\"font-size: 0.8em; letter-spacing: 1px\">\n",
              "        <textPath xlink:href=\"#arrow-091c315eaf0444f4bf34145103bbbe4f-0-25\" class=\"displacy-label\" startOffset=\"50%\" side=\"left\" fill=\"currentColor\" text-anchor=\"middle\">pobj</textPath>\n",
              "    </text>\n",
              "    <path class=\"displacy-arrowhead\" d=\"M3150.0,364.0 L3158.0,352.0 3142.0,352.0\" fill=\"currentColor\"/>\n",
              "</g>\n",
              "\n",
              "<g class=\"displacy-arrow\">\n",
              "    <path class=\"displacy-arc\" id=\"arrow-091c315eaf0444f4bf34145103bbbe4f-0-26\" stroke-width=\"2px\" d=\"M3310,362.0 C3310,242.0 3510.0,242.0 3510.0,362.0\" fill=\"none\" stroke=\"currentColor\"/>\n",
              "    <text dy=\"1.25em\" style=\"font-size: 0.8em; letter-spacing: 1px\">\n",
              "        <textPath xlink:href=\"#arrow-091c315eaf0444f4bf34145103bbbe4f-0-26\" class=\"displacy-label\" startOffset=\"50%\" side=\"left\" fill=\"currentColor\" text-anchor=\"middle\">det</textPath>\n",
              "    </text>\n",
              "    <path class=\"displacy-arrowhead\" d=\"M3310,364.0 L3302,352.0 3318,352.0\" fill=\"currentColor\"/>\n",
              "</g>\n",
              "\n",
              "<g class=\"displacy-arrow\">\n",
              "    <path class=\"displacy-arc\" id=\"arrow-091c315eaf0444f4bf34145103bbbe4f-0-27\" stroke-width=\"2px\" d=\"M3430,362.0 C3430,302.0 3505.0,302.0 3505.0,362.0\" fill=\"none\" stroke=\"currentColor\"/>\n",
              "    <text dy=\"1.25em\" style=\"font-size: 0.8em; letter-spacing: 1px\">\n",
              "        <textPath xlink:href=\"#arrow-091c315eaf0444f4bf34145103bbbe4f-0-27\" class=\"displacy-label\" startOffset=\"50%\" side=\"left\" fill=\"currentColor\" text-anchor=\"middle\">amod</textPath>\n",
              "    </text>\n",
              "    <path class=\"displacy-arrowhead\" d=\"M3430,364.0 L3422,352.0 3438,352.0\" fill=\"currentColor\"/>\n",
              "</g>\n",
              "\n",
              "<g class=\"displacy-arrow\">\n",
              "    <path class=\"displacy-arc\" id=\"arrow-091c315eaf0444f4bf34145103bbbe4f-0-28\" stroke-width=\"2px\" d=\"M3550,362.0 C3550,302.0 3625.0,302.0 3625.0,362.0\" fill=\"none\" stroke=\"currentColor\"/>\n",
              "    <text dy=\"1.25em\" style=\"font-size: 0.8em; letter-spacing: 1px\">\n",
              "        <textPath xlink:href=\"#arrow-091c315eaf0444f4bf34145103bbbe4f-0-28\" class=\"displacy-label\" startOffset=\"50%\" side=\"left\" fill=\"currentColor\" text-anchor=\"middle\">prep</textPath>\n",
              "    </text>\n",
              "    <path class=\"displacy-arrowhead\" d=\"M3625.0,364.0 L3633.0,352.0 3617.0,352.0\" fill=\"currentColor\"/>\n",
              "</g>\n",
              "\n",
              "<g class=\"displacy-arrow\">\n",
              "    <path class=\"displacy-arc\" id=\"arrow-091c315eaf0444f4bf34145103bbbe4f-0-29\" stroke-width=\"2px\" d=\"M3790,362.0 C3790,242.0 3990.0,242.0 3990.0,362.0\" fill=\"none\" stroke=\"currentColor\"/>\n",
              "    <text dy=\"1.25em\" style=\"font-size: 0.8em; letter-spacing: 1px\">\n",
              "        <textPath xlink:href=\"#arrow-091c315eaf0444f4bf34145103bbbe4f-0-29\" class=\"displacy-label\" startOffset=\"50%\" side=\"left\" fill=\"currentColor\" text-anchor=\"middle\">det</textPath>\n",
              "    </text>\n",
              "    <path class=\"displacy-arrowhead\" d=\"M3790,364.0 L3782,352.0 3798,352.0\" fill=\"currentColor\"/>\n",
              "</g>\n",
              "\n",
              "<g class=\"displacy-arrow\">\n",
              "    <path class=\"displacy-arc\" id=\"arrow-091c315eaf0444f4bf34145103bbbe4f-0-30\" stroke-width=\"2px\" d=\"M3910,362.0 C3910,302.0 3985.0,302.0 3985.0,362.0\" fill=\"none\" stroke=\"currentColor\"/>\n",
              "    <text dy=\"1.25em\" style=\"font-size: 0.8em; letter-spacing: 1px\">\n",
              "        <textPath xlink:href=\"#arrow-091c315eaf0444f4bf34145103bbbe4f-0-30\" class=\"displacy-label\" startOffset=\"50%\" side=\"left\" fill=\"currentColor\" text-anchor=\"middle\">compound</textPath>\n",
              "    </text>\n",
              "    <path class=\"displacy-arrowhead\" d=\"M3910,364.0 L3902,352.0 3918,352.0\" fill=\"currentColor\"/>\n",
              "</g>\n",
              "\n",
              "<g class=\"displacy-arrow\">\n",
              "    <path class=\"displacy-arc\" id=\"arrow-091c315eaf0444f4bf34145103bbbe4f-0-31\" stroke-width=\"2px\" d=\"M3670,362.0 C3670,182.0 3995.0,182.0 3995.0,362.0\" fill=\"none\" stroke=\"currentColor\"/>\n",
              "    <text dy=\"1.25em\" style=\"font-size: 0.8em; letter-spacing: 1px\">\n",
              "        <textPath xlink:href=\"#arrow-091c315eaf0444f4bf34145103bbbe4f-0-31\" class=\"displacy-label\" startOffset=\"50%\" side=\"left\" fill=\"currentColor\" text-anchor=\"middle\">pobj</textPath>\n",
              "    </text>\n",
              "    <path class=\"displacy-arrowhead\" d=\"M3995.0,364.0 L4003.0,352.0 3987.0,352.0\" fill=\"currentColor\"/>\n",
              "</g>\n",
              "\n",
              "<g class=\"displacy-arrow\">\n",
              "    <path class=\"displacy-arc\" id=\"arrow-091c315eaf0444f4bf34145103bbbe4f-0-32\" stroke-width=\"2px\" d=\"M3550,362.0 C3550,122.0 4120.0,122.0 4120.0,362.0\" fill=\"none\" stroke=\"currentColor\"/>\n",
              "    <text dy=\"1.25em\" style=\"font-size: 0.8em; letter-spacing: 1px\">\n",
              "        <textPath xlink:href=\"#arrow-091c315eaf0444f4bf34145103bbbe4f-0-32\" class=\"displacy-label\" startOffset=\"50%\" side=\"left\" fill=\"currentColor\" text-anchor=\"middle\">advcl</textPath>\n",
              "    </text>\n",
              "    <path class=\"displacy-arrowhead\" d=\"M4120.0,364.0 L4128.0,352.0 4112.0,352.0\" fill=\"currentColor\"/>\n",
              "</g>\n",
              "\n",
              "<g class=\"displacy-arrow\">\n",
              "    <path class=\"displacy-arc\" id=\"arrow-091c315eaf0444f4bf34145103bbbe4f-0-33\" stroke-width=\"2px\" d=\"M4270,362.0 C4270,302.0 4345.0,302.0 4345.0,362.0\" fill=\"none\" stroke=\"currentColor\"/>\n",
              "    <text dy=\"1.25em\" style=\"font-size: 0.8em; letter-spacing: 1px\">\n",
              "        <textPath xlink:href=\"#arrow-091c315eaf0444f4bf34145103bbbe4f-0-33\" class=\"displacy-label\" startOffset=\"50%\" side=\"left\" fill=\"currentColor\" text-anchor=\"middle\">det</textPath>\n",
              "    </text>\n",
              "    <path class=\"displacy-arrowhead\" d=\"M4270,364.0 L4262,352.0 4278,352.0\" fill=\"currentColor\"/>\n",
              "</g>\n",
              "\n",
              "<g class=\"displacy-arrow\">\n",
              "    <path class=\"displacy-arc\" id=\"arrow-091c315eaf0444f4bf34145103bbbe4f-0-34\" stroke-width=\"2px\" d=\"M4150,362.0 C4150,242.0 4350.0,242.0 4350.0,362.0\" fill=\"none\" stroke=\"currentColor\"/>\n",
              "    <text dy=\"1.25em\" style=\"font-size: 0.8em; letter-spacing: 1px\">\n",
              "        <textPath xlink:href=\"#arrow-091c315eaf0444f4bf34145103bbbe4f-0-34\" class=\"displacy-label\" startOffset=\"50%\" side=\"left\" fill=\"currentColor\" text-anchor=\"middle\">dobj</textPath>\n",
              "    </text>\n",
              "    <path class=\"displacy-arrowhead\" d=\"M4350.0,364.0 L4358.0,352.0 4342.0,352.0\" fill=\"currentColor\"/>\n",
              "</g>\n",
              "\n",
              "<g class=\"displacy-arrow\">\n",
              "    <path class=\"displacy-arc\" id=\"arrow-091c315eaf0444f4bf34145103bbbe4f-0-35\" stroke-width=\"2px\" d=\"M4390,362.0 C4390,302.0 4465.0,302.0 4465.0,362.0\" fill=\"none\" stroke=\"currentColor\"/>\n",
              "    <text dy=\"1.25em\" style=\"font-size: 0.8em; letter-spacing: 1px\">\n",
              "        <textPath xlink:href=\"#arrow-091c315eaf0444f4bf34145103bbbe4f-0-35\" class=\"displacy-label\" startOffset=\"50%\" side=\"left\" fill=\"currentColor\" text-anchor=\"middle\">prep</textPath>\n",
              "    </text>\n",
              "    <path class=\"displacy-arrowhead\" d=\"M4465.0,364.0 L4473.0,352.0 4457.0,352.0\" fill=\"currentColor\"/>\n",
              "</g>\n",
              "\n",
              "<g class=\"displacy-arrow\">\n",
              "    <path class=\"displacy-arc\" id=\"arrow-091c315eaf0444f4bf34145103bbbe4f-0-36\" stroke-width=\"2px\" d=\"M4510,362.0 C4510,302.0 4585.0,302.0 4585.0,362.0\" fill=\"none\" stroke=\"currentColor\"/>\n",
              "    <text dy=\"1.25em\" style=\"font-size: 0.8em; letter-spacing: 1px\">\n",
              "        <textPath xlink:href=\"#arrow-091c315eaf0444f4bf34145103bbbe4f-0-36\" class=\"displacy-label\" startOffset=\"50%\" side=\"left\" fill=\"currentColor\" text-anchor=\"middle\">pobj</textPath>\n",
              "    </text>\n",
              "    <path class=\"displacy-arrowhead\" d=\"M4585.0,364.0 L4593.0,352.0 4577.0,352.0\" fill=\"currentColor\"/>\n",
              "</g>\n",
              "\n",
              "<g class=\"displacy-arrow\">\n",
              "    <path class=\"displacy-arc\" id=\"arrow-091c315eaf0444f4bf34145103bbbe4f-0-37\" stroke-width=\"2px\" d=\"M4630,362.0 C4630,302.0 4705.0,302.0 4705.0,362.0\" fill=\"none\" stroke=\"currentColor\"/>\n",
              "    <text dy=\"1.25em\" style=\"font-size: 0.8em; letter-spacing: 1px\">\n",
              "        <textPath xlink:href=\"#arrow-091c315eaf0444f4bf34145103bbbe4f-0-37\" class=\"displacy-label\" startOffset=\"50%\" side=\"left\" fill=\"currentColor\" text-anchor=\"middle\">cc</textPath>\n",
              "    </text>\n",
              "    <path class=\"displacy-arrowhead\" d=\"M4705.0,364.0 L4713.0,352.0 4697.0,352.0\" fill=\"currentColor\"/>\n",
              "</g>\n",
              "\n",
              "<g class=\"displacy-arrow\">\n",
              "    <path class=\"displacy-arc\" id=\"arrow-091c315eaf0444f4bf34145103bbbe4f-0-38\" stroke-width=\"2px\" d=\"M4870,362.0 C4870,302.0 4945.0,302.0 4945.0,362.0\" fill=\"none\" stroke=\"currentColor\"/>\n",
              "    <text dy=\"1.25em\" style=\"font-size: 0.8em; letter-spacing: 1px\">\n",
              "        <textPath xlink:href=\"#arrow-091c315eaf0444f4bf34145103bbbe4f-0-38\" class=\"displacy-label\" startOffset=\"50%\" side=\"left\" fill=\"currentColor\" text-anchor=\"middle\">amod</textPath>\n",
              "    </text>\n",
              "    <path class=\"displacy-arrowhead\" d=\"M4870,364.0 L4862,352.0 4878,352.0\" fill=\"currentColor\"/>\n",
              "</g>\n",
              "\n",
              "<g class=\"displacy-arrow\">\n",
              "    <path class=\"displacy-arc\" id=\"arrow-091c315eaf0444f4bf34145103bbbe4f-0-39\" stroke-width=\"2px\" d=\"M4630,362.0 C4630,242.0 4950.0,242.0 4950.0,362.0\" fill=\"none\" stroke=\"currentColor\"/>\n",
              "    <text dy=\"1.25em\" style=\"font-size: 0.8em; letter-spacing: 1px\">\n",
              "        <textPath xlink:href=\"#arrow-091c315eaf0444f4bf34145103bbbe4f-0-39\" class=\"displacy-label\" startOffset=\"50%\" side=\"left\" fill=\"currentColor\" text-anchor=\"middle\">conj</textPath>\n",
              "    </text>\n",
              "    <path class=\"displacy-arrowhead\" d=\"M4950.0,364.0 L4958.0,352.0 4942.0,352.0\" fill=\"currentColor\"/>\n",
              "</g>\n",
              "\n",
              "<g class=\"displacy-arrow\">\n",
              "    <path class=\"displacy-arc\" id=\"arrow-091c315eaf0444f4bf34145103bbbe4f-0-40\" stroke-width=\"2px\" d=\"M5110,362.0 C5110,242.0 5310.0,242.0 5310.0,362.0\" fill=\"none\" stroke=\"currentColor\"/>\n",
              "    <text dy=\"1.25em\" style=\"font-size: 0.8em; letter-spacing: 1px\">\n",
              "        <textPath xlink:href=\"#arrow-091c315eaf0444f4bf34145103bbbe4f-0-40\" class=\"displacy-label\" startOffset=\"50%\" side=\"left\" fill=\"currentColor\" text-anchor=\"middle\">det</textPath>\n",
              "    </text>\n",
              "    <path class=\"displacy-arrowhead\" d=\"M5110,364.0 L5102,352.0 5118,352.0\" fill=\"currentColor\"/>\n",
              "</g>\n",
              "\n",
              "<g class=\"displacy-arrow\">\n",
              "    <path class=\"displacy-arc\" id=\"arrow-091c315eaf0444f4bf34145103bbbe4f-0-41\" stroke-width=\"2px\" d=\"M5230,362.0 C5230,302.0 5305.0,302.0 5305.0,362.0\" fill=\"none\" stroke=\"currentColor\"/>\n",
              "    <text dy=\"1.25em\" style=\"font-size: 0.8em; letter-spacing: 1px\">\n",
              "        <textPath xlink:href=\"#arrow-091c315eaf0444f4bf34145103bbbe4f-0-41\" class=\"displacy-label\" startOffset=\"50%\" side=\"left\" fill=\"currentColor\" text-anchor=\"middle\">amod</textPath>\n",
              "    </text>\n",
              "    <path class=\"displacy-arrowhead\" d=\"M5230,364.0 L5222,352.0 5238,352.0\" fill=\"currentColor\"/>\n",
              "</g>\n",
              "\n",
              "<g class=\"displacy-arrow\">\n",
              "    <path class=\"displacy-arc\" id=\"arrow-091c315eaf0444f4bf34145103bbbe4f-0-42\" stroke-width=\"2px\" d=\"M5350,362.0 C5350,302.0 5425.0,302.0 5425.0,362.0\" fill=\"none\" stroke=\"currentColor\"/>\n",
              "    <text dy=\"1.25em\" style=\"font-size: 0.8em; letter-spacing: 1px\">\n",
              "        <textPath xlink:href=\"#arrow-091c315eaf0444f4bf34145103bbbe4f-0-42\" class=\"displacy-label\" startOffset=\"50%\" side=\"left\" fill=\"currentColor\" text-anchor=\"middle\">nsubj</textPath>\n",
              "    </text>\n",
              "    <path class=\"displacy-arrowhead\" d=\"M5350,364.0 L5342,352.0 5358,352.0\" fill=\"currentColor\"/>\n",
              "</g>\n",
              "\n",
              "<g class=\"displacy-arrow\">\n",
              "    <path class=\"displacy-arc\" id=\"arrow-091c315eaf0444f4bf34145103bbbe4f-0-43\" stroke-width=\"2px\" d=\"M5590,362.0 C5590,242.0 5790.0,242.0 5790.0,362.0\" fill=\"none\" stroke=\"currentColor\"/>\n",
              "    <text dy=\"1.25em\" style=\"font-size: 0.8em; letter-spacing: 1px\">\n",
              "        <textPath xlink:href=\"#arrow-091c315eaf0444f4bf34145103bbbe4f-0-43\" class=\"displacy-label\" startOffset=\"50%\" side=\"left\" fill=\"currentColor\" text-anchor=\"middle\">det</textPath>\n",
              "    </text>\n",
              "    <path class=\"displacy-arrowhead\" d=\"M5590,364.0 L5582,352.0 5598,352.0\" fill=\"currentColor\"/>\n",
              "</g>\n",
              "\n",
              "<g class=\"displacy-arrow\">\n",
              "    <path class=\"displacy-arc\" id=\"arrow-091c315eaf0444f4bf34145103bbbe4f-0-44\" stroke-width=\"2px\" d=\"M5710,362.0 C5710,302.0 5785.0,302.0 5785.0,362.0\" fill=\"none\" stroke=\"currentColor\"/>\n",
              "    <text dy=\"1.25em\" style=\"font-size: 0.8em; letter-spacing: 1px\">\n",
              "        <textPath xlink:href=\"#arrow-091c315eaf0444f4bf34145103bbbe4f-0-44\" class=\"displacy-label\" startOffset=\"50%\" side=\"left\" fill=\"currentColor\" text-anchor=\"middle\">amod</textPath>\n",
              "    </text>\n",
              "    <path class=\"displacy-arrowhead\" d=\"M5710,364.0 L5702,352.0 5718,352.0\" fill=\"currentColor\"/>\n",
              "</g>\n",
              "\n",
              "<g class=\"displacy-arrow\">\n",
              "    <path class=\"displacy-arc\" id=\"arrow-091c315eaf0444f4bf34145103bbbe4f-0-45\" stroke-width=\"2px\" d=\"M5470,362.0 C5470,182.0 5795.0,182.0 5795.0,362.0\" fill=\"none\" stroke=\"currentColor\"/>\n",
              "    <text dy=\"1.25em\" style=\"font-size: 0.8em; letter-spacing: 1px\">\n",
              "        <textPath xlink:href=\"#arrow-091c315eaf0444f4bf34145103bbbe4f-0-45\" class=\"displacy-label\" startOffset=\"50%\" side=\"left\" fill=\"currentColor\" text-anchor=\"middle\">dobj</textPath>\n",
              "    </text>\n",
              "    <path class=\"displacy-arrowhead\" d=\"M5795.0,364.0 L5803.0,352.0 5787.0,352.0\" fill=\"currentColor\"/>\n",
              "</g>\n",
              "\n",
              "<g class=\"displacy-arrow\">\n",
              "    <path class=\"displacy-arc\" id=\"arrow-091c315eaf0444f4bf34145103bbbe4f-0-46\" stroke-width=\"2px\" d=\"M5470,362.0 C5470,122.0 5920.0,122.0 5920.0,362.0\" fill=\"none\" stroke=\"currentColor\"/>\n",
              "    <text dy=\"1.25em\" style=\"font-size: 0.8em; letter-spacing: 1px\">\n",
              "        <textPath xlink:href=\"#arrow-091c315eaf0444f4bf34145103bbbe4f-0-46\" class=\"displacy-label\" startOffset=\"50%\" side=\"left\" fill=\"currentColor\" text-anchor=\"middle\">prep</textPath>\n",
              "    </text>\n",
              "    <path class=\"displacy-arrowhead\" d=\"M5920.0,364.0 L5928.0,352.0 5912.0,352.0\" fill=\"currentColor\"/>\n",
              "</g>\n",
              "\n",
              "<g class=\"displacy-arrow\">\n",
              "    <path class=\"displacy-arc\" id=\"arrow-091c315eaf0444f4bf34145103bbbe4f-0-47\" stroke-width=\"2px\" d=\"M6070,362.0 C6070,302.0 6145.0,302.0 6145.0,362.0\" fill=\"none\" stroke=\"currentColor\"/>\n",
              "    <text dy=\"1.25em\" style=\"font-size: 0.8em; letter-spacing: 1px\">\n",
              "        <textPath xlink:href=\"#arrow-091c315eaf0444f4bf34145103bbbe4f-0-47\" class=\"displacy-label\" startOffset=\"50%\" side=\"left\" fill=\"currentColor\" text-anchor=\"middle\">det</textPath>\n",
              "    </text>\n",
              "    <path class=\"displacy-arrowhead\" d=\"M6070,364.0 L6062,352.0 6078,352.0\" fill=\"currentColor\"/>\n",
              "</g>\n",
              "\n",
              "<g class=\"displacy-arrow\">\n",
              "    <path class=\"displacy-arc\" id=\"arrow-091c315eaf0444f4bf34145103bbbe4f-0-48\" stroke-width=\"2px\" d=\"M5950,362.0 C5950,242.0 6150.0,242.0 6150.0,362.0\" fill=\"none\" stroke=\"currentColor\"/>\n",
              "    <text dy=\"1.25em\" style=\"font-size: 0.8em; letter-spacing: 1px\">\n",
              "        <textPath xlink:href=\"#arrow-091c315eaf0444f4bf34145103bbbe4f-0-48\" class=\"displacy-label\" startOffset=\"50%\" side=\"left\" fill=\"currentColor\" text-anchor=\"middle\">pobj</textPath>\n",
              "    </text>\n",
              "    <path class=\"displacy-arrowhead\" d=\"M6150.0,364.0 L6158.0,352.0 6142.0,352.0\" fill=\"currentColor\"/>\n",
              "</g>\n",
              "\n",
              "<g class=\"displacy-arrow\">\n",
              "    <path class=\"displacy-arc\" id=\"arrow-091c315eaf0444f4bf34145103bbbe4f-0-49\" stroke-width=\"2px\" d=\"M5470,362.0 C5470,62.0 6285.0,62.0 6285.0,362.0\" fill=\"none\" stroke=\"currentColor\"/>\n",
              "    <text dy=\"1.25em\" style=\"font-size: 0.8em; letter-spacing: 1px\">\n",
              "        <textPath xlink:href=\"#arrow-091c315eaf0444f4bf34145103bbbe4f-0-49\" class=\"displacy-label\" startOffset=\"50%\" side=\"left\" fill=\"currentColor\" text-anchor=\"middle\">prep</textPath>\n",
              "    </text>\n",
              "    <path class=\"displacy-arrowhead\" d=\"M6285.0,364.0 L6293.0,352.0 6277.0,352.0\" fill=\"currentColor\"/>\n",
              "</g>\n",
              "\n",
              "<g class=\"displacy-arrow\">\n",
              "    <path class=\"displacy-arc\" id=\"arrow-091c315eaf0444f4bf34145103bbbe4f-0-50\" stroke-width=\"2px\" d=\"M6310,362.0 C6310,302.0 6385.0,302.0 6385.0,362.0\" fill=\"none\" stroke=\"currentColor\"/>\n",
              "    <text dy=\"1.25em\" style=\"font-size: 0.8em; letter-spacing: 1px\">\n",
              "        <textPath xlink:href=\"#arrow-091c315eaf0444f4bf34145103bbbe4f-0-50\" class=\"displacy-label\" startOffset=\"50%\" side=\"left\" fill=\"currentColor\" text-anchor=\"middle\">pobj</textPath>\n",
              "    </text>\n",
              "    <path class=\"displacy-arrowhead\" d=\"M6385.0,364.0 L6393.0,352.0 6377.0,352.0\" fill=\"currentColor\"/>\n",
              "</g>\n",
              "\n",
              "<g class=\"displacy-arrow\">\n",
              "    <path class=\"displacy-arc\" id=\"arrow-091c315eaf0444f4bf34145103bbbe4f-0-51\" stroke-width=\"2px\" d=\"M5470,362.0 C5470,2.0 6530.0,2.0 6530.0,362.0\" fill=\"none\" stroke=\"currentColor\"/>\n",
              "    <text dy=\"1.25em\" style=\"font-size: 0.8em; letter-spacing: 1px\">\n",
              "        <textPath xlink:href=\"#arrow-091c315eaf0444f4bf34145103bbbe4f-0-51\" class=\"displacy-label\" startOffset=\"50%\" side=\"left\" fill=\"currentColor\" text-anchor=\"middle\">advcl</textPath>\n",
              "    </text>\n",
              "    <path class=\"displacy-arrowhead\" d=\"M6530.0,364.0 L6538.0,352.0 6522.0,352.0\" fill=\"currentColor\"/>\n",
              "</g>\n",
              "\n",
              "<g class=\"displacy-arrow\">\n",
              "    <path class=\"displacy-arc\" id=\"arrow-091c315eaf0444f4bf34145103bbbe4f-0-52\" stroke-width=\"2px\" d=\"M6550,362.0 C6550,302.0 6625.0,302.0 6625.0,362.0\" fill=\"none\" stroke=\"currentColor\"/>\n",
              "    <text dy=\"1.25em\" style=\"font-size: 0.8em; letter-spacing: 1px\">\n",
              "        <textPath xlink:href=\"#arrow-091c315eaf0444f4bf34145103bbbe4f-0-52\" class=\"displacy-label\" startOffset=\"50%\" side=\"left\" fill=\"currentColor\" text-anchor=\"middle\">prep</textPath>\n",
              "    </text>\n",
              "    <path class=\"displacy-arrowhead\" d=\"M6625.0,364.0 L6633.0,352.0 6617.0,352.0\" fill=\"currentColor\"/>\n",
              "</g>\n",
              "\n",
              "<g class=\"displacy-arrow\">\n",
              "    <path class=\"displacy-arc\" id=\"arrow-091c315eaf0444f4bf34145103bbbe4f-0-53\" stroke-width=\"2px\" d=\"M6790,362.0 C6790,302.0 6865.0,302.0 6865.0,362.0\" fill=\"none\" stroke=\"currentColor\"/>\n",
              "    <text dy=\"1.25em\" style=\"font-size: 0.8em; letter-spacing: 1px\">\n",
              "        <textPath xlink:href=\"#arrow-091c315eaf0444f4bf34145103bbbe4f-0-53\" class=\"displacy-label\" startOffset=\"50%\" side=\"left\" fill=\"currentColor\" text-anchor=\"middle\">det</textPath>\n",
              "    </text>\n",
              "    <path class=\"displacy-arrowhead\" d=\"M6790,364.0 L6782,352.0 6798,352.0\" fill=\"currentColor\"/>\n",
              "</g>\n",
              "\n",
              "<g class=\"displacy-arrow\">\n",
              "    <path class=\"displacy-arc\" id=\"arrow-091c315eaf0444f4bf34145103bbbe4f-0-54\" stroke-width=\"2px\" d=\"M6670,362.0 C6670,242.0 6870.0,242.0 6870.0,362.0\" fill=\"none\" stroke=\"currentColor\"/>\n",
              "    <text dy=\"1.25em\" style=\"font-size: 0.8em; letter-spacing: 1px\">\n",
              "        <textPath xlink:href=\"#arrow-091c315eaf0444f4bf34145103bbbe4f-0-54\" class=\"displacy-label\" startOffset=\"50%\" side=\"left\" fill=\"currentColor\" text-anchor=\"middle\">pobj</textPath>\n",
              "    </text>\n",
              "    <path class=\"displacy-arrowhead\" d=\"M6870.0,364.0 L6878.0,352.0 6862.0,352.0\" fill=\"currentColor\"/>\n",
              "</g>\n",
              "\n",
              "<g class=\"displacy-arrow\">\n",
              "    <path class=\"displacy-arc\" id=\"arrow-091c315eaf0444f4bf34145103bbbe4f-0-55\" stroke-width=\"2px\" d=\"M6910,362.0 C6910,302.0 6985.0,302.0 6985.0,362.0\" fill=\"none\" stroke=\"currentColor\"/>\n",
              "    <text dy=\"1.25em\" style=\"font-size: 0.8em; letter-spacing: 1px\">\n",
              "        <textPath xlink:href=\"#arrow-091c315eaf0444f4bf34145103bbbe4f-0-55\" class=\"displacy-label\" startOffset=\"50%\" side=\"left\" fill=\"currentColor\" text-anchor=\"middle\">prep</textPath>\n",
              "    </text>\n",
              "    <path class=\"displacy-arrowhead\" d=\"M6985.0,364.0 L6993.0,352.0 6977.0,352.0\" fill=\"currentColor\"/>\n",
              "</g>\n",
              "\n",
              "<g class=\"displacy-arrow\">\n",
              "    <path class=\"displacy-arc\" id=\"arrow-091c315eaf0444f4bf34145103bbbe4f-0-56\" stroke-width=\"2px\" d=\"M7150,362.0 C7150,302.0 7225.0,302.0 7225.0,362.0\" fill=\"none\" stroke=\"currentColor\"/>\n",
              "    <text dy=\"1.25em\" style=\"font-size: 0.8em; letter-spacing: 1px\">\n",
              "        <textPath xlink:href=\"#arrow-091c315eaf0444f4bf34145103bbbe4f-0-56\" class=\"displacy-label\" startOffset=\"50%\" side=\"left\" fill=\"currentColor\" text-anchor=\"middle\">amod</textPath>\n",
              "    </text>\n",
              "    <path class=\"displacy-arrowhead\" d=\"M7150,364.0 L7142,352.0 7158,352.0\" fill=\"currentColor\"/>\n",
              "</g>\n",
              "\n",
              "<g class=\"displacy-arrow\">\n",
              "    <path class=\"displacy-arc\" id=\"arrow-091c315eaf0444f4bf34145103bbbe4f-0-57\" stroke-width=\"2px\" d=\"M7030,362.0 C7030,242.0 7230.0,242.0 7230.0,362.0\" fill=\"none\" stroke=\"currentColor\"/>\n",
              "    <text dy=\"1.25em\" style=\"font-size: 0.8em; letter-spacing: 1px\">\n",
              "        <textPath xlink:href=\"#arrow-091c315eaf0444f4bf34145103bbbe4f-0-57\" class=\"displacy-label\" startOffset=\"50%\" side=\"left\" fill=\"currentColor\" text-anchor=\"middle\">pobj</textPath>\n",
              "    </text>\n",
              "    <path class=\"displacy-arrowhead\" d=\"M7230.0,364.0 L7238.0,352.0 7222.0,352.0\" fill=\"currentColor\"/>\n",
              "</g>\n",
              "\n",
              "<g class=\"displacy-arrow\">\n",
              "    <path class=\"displacy-arc\" id=\"arrow-091c315eaf0444f4bf34145103bbbe4f-0-58\" stroke-width=\"2px\" d=\"M7390,362.0 C7390,242.0 7590.0,242.0 7590.0,362.0\" fill=\"none\" stroke=\"currentColor\"/>\n",
              "    <text dy=\"1.25em\" style=\"font-size: 0.8em; letter-spacing: 1px\">\n",
              "        <textPath xlink:href=\"#arrow-091c315eaf0444f4bf34145103bbbe4f-0-58\" class=\"displacy-label\" startOffset=\"50%\" side=\"left\" fill=\"currentColor\" text-anchor=\"middle\">poss</textPath>\n",
              "    </text>\n",
              "    <path class=\"displacy-arrowhead\" d=\"M7390,364.0 L7382,352.0 7398,352.0\" fill=\"currentColor\"/>\n",
              "</g>\n",
              "\n",
              "<g class=\"displacy-arrow\">\n",
              "    <path class=\"displacy-arc\" id=\"arrow-091c315eaf0444f4bf34145103bbbe4f-0-59\" stroke-width=\"2px\" d=\"M7510,362.0 C7510,302.0 7585.0,302.0 7585.0,362.0\" fill=\"none\" stroke=\"currentColor\"/>\n",
              "    <text dy=\"1.25em\" style=\"font-size: 0.8em; letter-spacing: 1px\">\n",
              "        <textPath xlink:href=\"#arrow-091c315eaf0444f4bf34145103bbbe4f-0-59\" class=\"displacy-label\" startOffset=\"50%\" side=\"left\" fill=\"currentColor\" text-anchor=\"middle\">amod</textPath>\n",
              "    </text>\n",
              "    <path class=\"displacy-arrowhead\" d=\"M7510,364.0 L7502,352.0 7518,352.0\" fill=\"currentColor\"/>\n",
              "</g>\n",
              "\n",
              "<g class=\"displacy-arrow\">\n",
              "    <path class=\"displacy-arc\" id=\"arrow-091c315eaf0444f4bf34145103bbbe4f-0-60\" stroke-width=\"2px\" d=\"M7630,362.0 C7630,182.0 8195.0,182.0 8195.0,362.0\" fill=\"none\" stroke=\"currentColor\"/>\n",
              "    <text dy=\"1.25em\" style=\"font-size: 0.8em; letter-spacing: 1px\">\n",
              "        <textPath xlink:href=\"#arrow-091c315eaf0444f4bf34145103bbbe4f-0-60\" class=\"displacy-label\" startOffset=\"50%\" side=\"left\" fill=\"currentColor\" text-anchor=\"middle\">nsubj</textPath>\n",
              "    </text>\n",
              "    <path class=\"displacy-arrowhead\" d=\"M7630,364.0 L7622,352.0 7638,352.0\" fill=\"currentColor\"/>\n",
              "</g>\n",
              "\n",
              "<g class=\"displacy-arrow\">\n",
              "    <path class=\"displacy-arc\" id=\"arrow-091c315eaf0444f4bf34145103bbbe4f-0-61\" stroke-width=\"2px\" d=\"M7630,362.0 C7630,302.0 7705.0,302.0 7705.0,362.0\" fill=\"none\" stroke=\"currentColor\"/>\n",
              "    <text dy=\"1.25em\" style=\"font-size: 0.8em; letter-spacing: 1px\">\n",
              "        <textPath xlink:href=\"#arrow-091c315eaf0444f4bf34145103bbbe4f-0-61\" class=\"displacy-label\" startOffset=\"50%\" side=\"left\" fill=\"currentColor\" text-anchor=\"middle\">prep</textPath>\n",
              "    </text>\n",
              "    <path class=\"displacy-arrowhead\" d=\"M7705.0,364.0 L7713.0,352.0 7697.0,352.0\" fill=\"currentColor\"/>\n",
              "</g>\n",
              "\n",
              "<g class=\"displacy-arrow\">\n",
              "    <path class=\"displacy-arc\" id=\"arrow-091c315eaf0444f4bf34145103bbbe4f-0-62\" stroke-width=\"2px\" d=\"M7750,362.0 C7750,302.0 7825.0,302.0 7825.0,362.0\" fill=\"none\" stroke=\"currentColor\"/>\n",
              "    <text dy=\"1.25em\" style=\"font-size: 0.8em; letter-spacing: 1px\">\n",
              "        <textPath xlink:href=\"#arrow-091c315eaf0444f4bf34145103bbbe4f-0-62\" class=\"displacy-label\" startOffset=\"50%\" side=\"left\" fill=\"currentColor\" text-anchor=\"middle\">pobj</textPath>\n",
              "    </text>\n",
              "    <path class=\"displacy-arrowhead\" d=\"M7825.0,364.0 L7833.0,352.0 7817.0,352.0\" fill=\"currentColor\"/>\n",
              "</g>\n",
              "\n",
              "<g class=\"displacy-arrow\">\n",
              "    <path class=\"displacy-arc\" id=\"arrow-091c315eaf0444f4bf34145103bbbe4f-0-63\" stroke-width=\"2px\" d=\"M7870,362.0 C7870,302.0 7945.0,302.0 7945.0,362.0\" fill=\"none\" stroke=\"currentColor\"/>\n",
              "    <text dy=\"1.25em\" style=\"font-size: 0.8em; letter-spacing: 1px\">\n",
              "        <textPath xlink:href=\"#arrow-091c315eaf0444f4bf34145103bbbe4f-0-63\" class=\"displacy-label\" startOffset=\"50%\" side=\"left\" fill=\"currentColor\" text-anchor=\"middle\">cc</textPath>\n",
              "    </text>\n",
              "    <path class=\"displacy-arrowhead\" d=\"M7945.0,364.0 L7953.0,352.0 7937.0,352.0\" fill=\"currentColor\"/>\n",
              "</g>\n",
              "\n",
              "<g class=\"displacy-arrow\">\n",
              "    <path class=\"displacy-arc\" id=\"arrow-091c315eaf0444f4bf34145103bbbe4f-0-64\" stroke-width=\"2px\" d=\"M7870,362.0 C7870,242.0 8070.0,242.0 8070.0,362.0\" fill=\"none\" stroke=\"currentColor\"/>\n",
              "    <text dy=\"1.25em\" style=\"font-size: 0.8em; letter-spacing: 1px\">\n",
              "        <textPath xlink:href=\"#arrow-091c315eaf0444f4bf34145103bbbe4f-0-64\" class=\"displacy-label\" startOffset=\"50%\" side=\"left\" fill=\"currentColor\" text-anchor=\"middle\">conj</textPath>\n",
              "    </text>\n",
              "    <path class=\"displacy-arrowhead\" d=\"M8070.0,364.0 L8078.0,352.0 8062.0,352.0\" fill=\"currentColor\"/>\n",
              "</g>\n",
              "\n",
              "<g class=\"displacy-arrow\">\n",
              "    <path class=\"displacy-arc\" id=\"arrow-091c315eaf0444f4bf34145103bbbe4f-0-65\" stroke-width=\"2px\" d=\"M8350,362.0 C8350,122.0 8800.0,122.0 8800.0,362.0\" fill=\"none\" stroke=\"currentColor\"/>\n",
              "    <text dy=\"1.25em\" style=\"font-size: 0.8em; letter-spacing: 1px\">\n",
              "        <textPath xlink:href=\"#arrow-091c315eaf0444f4bf34145103bbbe4f-0-65\" class=\"displacy-label\" startOffset=\"50%\" side=\"left\" fill=\"currentColor\" text-anchor=\"middle\">det</textPath>\n",
              "    </text>\n",
              "    <path class=\"displacy-arrowhead\" d=\"M8350,364.0 L8342,352.0 8358,352.0\" fill=\"currentColor\"/>\n",
              "</g>\n",
              "\n",
              "<g class=\"displacy-arrow\">\n",
              "    <path class=\"displacy-arc\" id=\"arrow-091c315eaf0444f4bf34145103bbbe4f-0-66\" stroke-width=\"2px\" d=\"M8470,362.0 C8470,182.0 8795.0,182.0 8795.0,362.0\" fill=\"none\" stroke=\"currentColor\"/>\n",
              "    <text dy=\"1.25em\" style=\"font-size: 0.8em; letter-spacing: 1px\">\n",
              "        <textPath xlink:href=\"#arrow-091c315eaf0444f4bf34145103bbbe4f-0-66\" class=\"displacy-label\" startOffset=\"50%\" side=\"left\" fill=\"currentColor\" text-anchor=\"middle\">nmod</textPath>\n",
              "    </text>\n",
              "    <path class=\"displacy-arrowhead\" d=\"M8470,364.0 L8462,352.0 8478,352.0\" fill=\"currentColor\"/>\n",
              "</g>\n",
              "\n",
              "<g class=\"displacy-arrow\">\n",
              "    <path class=\"displacy-arc\" id=\"arrow-091c315eaf0444f4bf34145103bbbe4f-0-67\" stroke-width=\"2px\" d=\"M8470,362.0 C8470,302.0 8545.0,302.0 8545.0,362.0\" fill=\"none\" stroke=\"currentColor\"/>\n",
              "    <text dy=\"1.25em\" style=\"font-size: 0.8em; letter-spacing: 1px\">\n",
              "        <textPath xlink:href=\"#arrow-091c315eaf0444f4bf34145103bbbe4f-0-67\" class=\"displacy-label\" startOffset=\"50%\" side=\"left\" fill=\"currentColor\" text-anchor=\"middle\">cc</textPath>\n",
              "    </text>\n",
              "    <path class=\"displacy-arrowhead\" d=\"M8545.0,364.0 L8553.0,352.0 8537.0,352.0\" fill=\"currentColor\"/>\n",
              "</g>\n",
              "\n",
              "<g class=\"displacy-arrow\">\n",
              "    <path class=\"displacy-arc\" id=\"arrow-091c315eaf0444f4bf34145103bbbe4f-0-68\" stroke-width=\"2px\" d=\"M8470,362.0 C8470,242.0 8670.0,242.0 8670.0,362.0\" fill=\"none\" stroke=\"currentColor\"/>\n",
              "    <text dy=\"1.25em\" style=\"font-size: 0.8em; letter-spacing: 1px\">\n",
              "        <textPath xlink:href=\"#arrow-091c315eaf0444f4bf34145103bbbe4f-0-68\" class=\"displacy-label\" startOffset=\"50%\" side=\"left\" fill=\"currentColor\" text-anchor=\"middle\">conj</textPath>\n",
              "    </text>\n",
              "    <path class=\"displacy-arrowhead\" d=\"M8670.0,364.0 L8678.0,352.0 8662.0,352.0\" fill=\"currentColor\"/>\n",
              "</g>\n",
              "\n",
              "<g class=\"displacy-arrow\">\n",
              "    <path class=\"displacy-arc\" id=\"arrow-091c315eaf0444f4bf34145103bbbe4f-0-69\" stroke-width=\"2px\" d=\"M8230,362.0 C8230,62.0 8805.0,62.0 8805.0,362.0\" fill=\"none\" stroke=\"currentColor\"/>\n",
              "    <text dy=\"1.25em\" style=\"font-size: 0.8em; letter-spacing: 1px\">\n",
              "        <textPath xlink:href=\"#arrow-091c315eaf0444f4bf34145103bbbe4f-0-69\" class=\"displacy-label\" startOffset=\"50%\" side=\"left\" fill=\"currentColor\" text-anchor=\"middle\">dobj</textPath>\n",
              "    </text>\n",
              "    <path class=\"displacy-arrowhead\" d=\"M8805.0,364.0 L8813.0,352.0 8797.0,352.0\" fill=\"currentColor\"/>\n",
              "</g>\n",
              "\n",
              "<g class=\"displacy-arrow\">\n",
              "    <path class=\"displacy-arc\" id=\"arrow-091c315eaf0444f4bf34145103bbbe4f-0-70\" stroke-width=\"2px\" d=\"M8830,362.0 C8830,302.0 8905.0,302.0 8905.0,362.0\" fill=\"none\" stroke=\"currentColor\"/>\n",
              "    <text dy=\"1.25em\" style=\"font-size: 0.8em; letter-spacing: 1px\">\n",
              "        <textPath xlink:href=\"#arrow-091c315eaf0444f4bf34145103bbbe4f-0-70\" class=\"displacy-label\" startOffset=\"50%\" side=\"left\" fill=\"currentColor\" text-anchor=\"middle\">conj</textPath>\n",
              "    </text>\n",
              "    <path class=\"displacy-arrowhead\" d=\"M8905.0,364.0 L8913.0,352.0 8897.0,352.0\" fill=\"currentColor\"/>\n",
              "</g>\n",
              "\n",
              "<g class=\"displacy-arrow\">\n",
              "    <path class=\"displacy-arc\" id=\"arrow-091c315eaf0444f4bf34145103bbbe4f-0-71\" stroke-width=\"2px\" d=\"M8950,362.0 C8950,302.0 9025.0,302.0 9025.0,362.0\" fill=\"none\" stroke=\"currentColor\"/>\n",
              "    <text dy=\"1.25em\" style=\"font-size: 0.8em; letter-spacing: 1px\">\n",
              "        <textPath xlink:href=\"#arrow-091c315eaf0444f4bf34145103bbbe4f-0-71\" class=\"displacy-label\" startOffset=\"50%\" side=\"left\" fill=\"currentColor\" text-anchor=\"middle\">cc</textPath>\n",
              "    </text>\n",
              "    <path class=\"displacy-arrowhead\" d=\"M9025.0,364.0 L9033.0,352.0 9017.0,352.0\" fill=\"currentColor\"/>\n",
              "</g>\n",
              "\n",
              "<g class=\"displacy-arrow\">\n",
              "    <path class=\"displacy-arc\" id=\"arrow-091c315eaf0444f4bf34145103bbbe4f-0-72\" stroke-width=\"2px\" d=\"M9190,362.0 C9190,242.0 9390.0,242.0 9390.0,362.0\" fill=\"none\" stroke=\"currentColor\"/>\n",
              "    <text dy=\"1.25em\" style=\"font-size: 0.8em; letter-spacing: 1px\">\n",
              "        <textPath xlink:href=\"#arrow-091c315eaf0444f4bf34145103bbbe4f-0-72\" class=\"displacy-label\" startOffset=\"50%\" side=\"left\" fill=\"currentColor\" text-anchor=\"middle\">det</textPath>\n",
              "    </text>\n",
              "    <path class=\"displacy-arrowhead\" d=\"M9190,364.0 L9182,352.0 9198,352.0\" fill=\"currentColor\"/>\n",
              "</g>\n",
              "\n",
              "<g class=\"displacy-arrow\">\n",
              "    <path class=\"displacy-arc\" id=\"arrow-091c315eaf0444f4bf34145103bbbe4f-0-73\" stroke-width=\"2px\" d=\"M9310,362.0 C9310,302.0 9385.0,302.0 9385.0,362.0\" fill=\"none\" stroke=\"currentColor\"/>\n",
              "    <text dy=\"1.25em\" style=\"font-size: 0.8em; letter-spacing: 1px\">\n",
              "        <textPath xlink:href=\"#arrow-091c315eaf0444f4bf34145103bbbe4f-0-73\" class=\"displacy-label\" startOffset=\"50%\" side=\"left\" fill=\"currentColor\" text-anchor=\"middle\">amod</textPath>\n",
              "    </text>\n",
              "    <path class=\"displacy-arrowhead\" d=\"M9310,364.0 L9302,352.0 9318,352.0\" fill=\"currentColor\"/>\n",
              "</g>\n",
              "\n",
              "<g class=\"displacy-arrow\">\n",
              "    <path class=\"displacy-arc\" id=\"arrow-091c315eaf0444f4bf34145103bbbe4f-0-74\" stroke-width=\"2px\" d=\"M8950,362.0 C8950,182.0 9395.0,182.0 9395.0,362.0\" fill=\"none\" stroke=\"currentColor\"/>\n",
              "    <text dy=\"1.25em\" style=\"font-size: 0.8em; letter-spacing: 1px\">\n",
              "        <textPath xlink:href=\"#arrow-091c315eaf0444f4bf34145103bbbe4f-0-74\" class=\"displacy-label\" startOffset=\"50%\" side=\"left\" fill=\"currentColor\" text-anchor=\"middle\">conj</textPath>\n",
              "    </text>\n",
              "    <path class=\"displacy-arrowhead\" d=\"M9395.0,364.0 L9403.0,352.0 9387.0,352.0\" fill=\"currentColor\"/>\n",
              "</g>\n",
              "\n",
              "<g class=\"displacy-arrow\">\n",
              "    <path class=\"displacy-arc\" id=\"arrow-091c315eaf0444f4bf34145103bbbe4f-0-75\" stroke-width=\"2px\" d=\"M9430,362.0 C9430,302.0 9505.0,302.0 9505.0,362.0\" fill=\"none\" stroke=\"currentColor\"/>\n",
              "    <text dy=\"1.25em\" style=\"font-size: 0.8em; letter-spacing: 1px\">\n",
              "        <textPath xlink:href=\"#arrow-091c315eaf0444f4bf34145103bbbe4f-0-75\" class=\"displacy-label\" startOffset=\"50%\" side=\"left\" fill=\"currentColor\" text-anchor=\"middle\">prep</textPath>\n",
              "    </text>\n",
              "    <path class=\"displacy-arrowhead\" d=\"M9505.0,364.0 L9513.0,352.0 9497.0,352.0\" fill=\"currentColor\"/>\n",
              "</g>\n",
              "\n",
              "<g class=\"displacy-arrow\">\n",
              "    <path class=\"displacy-arc\" id=\"arrow-091c315eaf0444f4bf34145103bbbe4f-0-76\" stroke-width=\"2px\" d=\"M9550,362.0 C9550,302.0 9625.0,302.0 9625.0,362.0\" fill=\"none\" stroke=\"currentColor\"/>\n",
              "    <text dy=\"1.25em\" style=\"font-size: 0.8em; letter-spacing: 1px\">\n",
              "        <textPath xlink:href=\"#arrow-091c315eaf0444f4bf34145103bbbe4f-0-76\" class=\"displacy-label\" startOffset=\"50%\" side=\"left\" fill=\"currentColor\" text-anchor=\"middle\">pobj</textPath>\n",
              "    </text>\n",
              "    <path class=\"displacy-arrowhead\" d=\"M9625.0,364.0 L9633.0,352.0 9617.0,352.0\" fill=\"currentColor\"/>\n",
              "</g>\n",
              "\n",
              "<g class=\"displacy-arrow\">\n",
              "    <path class=\"displacy-arc\" id=\"arrow-091c315eaf0444f4bf34145103bbbe4f-0-77\" stroke-width=\"2px\" d=\"M9790,362.0 C9790,122.0 10360.0,122.0 10360.0,362.0\" fill=\"none\" stroke=\"currentColor\"/>\n",
              "    <text dy=\"1.25em\" style=\"font-size: 0.8em; letter-spacing: 1px\">\n",
              "        <textPath xlink:href=\"#arrow-091c315eaf0444f4bf34145103bbbe4f-0-77\" class=\"displacy-label\" startOffset=\"50%\" side=\"left\" fill=\"currentColor\" text-anchor=\"middle\">prep</textPath>\n",
              "    </text>\n",
              "    <path class=\"displacy-arrowhead\" d=\"M9790,364.0 L9782,352.0 9798,352.0\" fill=\"currentColor\"/>\n",
              "</g>\n",
              "\n",
              "<g class=\"displacy-arrow\">\n",
              "    <path class=\"displacy-arc\" id=\"arrow-091c315eaf0444f4bf34145103bbbe4f-0-78\" stroke-width=\"2px\" d=\"M9910,362.0 C9910,242.0 10110.0,242.0 10110.0,362.0\" fill=\"none\" stroke=\"currentColor\"/>\n",
              "    <text dy=\"1.25em\" style=\"font-size: 0.8em; letter-spacing: 1px\">\n",
              "        <textPath xlink:href=\"#arrow-091c315eaf0444f4bf34145103bbbe4f-0-78\" class=\"displacy-label\" startOffset=\"50%\" side=\"left\" fill=\"currentColor\" text-anchor=\"middle\">poss</textPath>\n",
              "    </text>\n",
              "    <path class=\"displacy-arrowhead\" d=\"M9910,364.0 L9902,352.0 9918,352.0\" fill=\"currentColor\"/>\n",
              "</g>\n",
              "\n",
              "<g class=\"displacy-arrow\">\n",
              "    <path class=\"displacy-arc\" id=\"arrow-091c315eaf0444f4bf34145103bbbe4f-0-79\" stroke-width=\"2px\" d=\"M10030,362.0 C10030,302.0 10105.0,302.0 10105.0,362.0\" fill=\"none\" stroke=\"currentColor\"/>\n",
              "    <text dy=\"1.25em\" style=\"font-size: 0.8em; letter-spacing: 1px\">\n",
              "        <textPath xlink:href=\"#arrow-091c315eaf0444f4bf34145103bbbe4f-0-79\" class=\"displacy-label\" startOffset=\"50%\" side=\"left\" fill=\"currentColor\" text-anchor=\"middle\">amod</textPath>\n",
              "    </text>\n",
              "    <path class=\"displacy-arrowhead\" d=\"M10030,364.0 L10022,352.0 10038,352.0\" fill=\"currentColor\"/>\n",
              "</g>\n",
              "\n",
              "<g class=\"displacy-arrow\">\n",
              "    <path class=\"displacy-arc\" id=\"arrow-091c315eaf0444f4bf34145103bbbe4f-0-80\" stroke-width=\"2px\" d=\"M9790,362.0 C9790,182.0 10115.0,182.0 10115.0,362.0\" fill=\"none\" stroke=\"currentColor\"/>\n",
              "    <text dy=\"1.25em\" style=\"font-size: 0.8em; letter-spacing: 1px\">\n",
              "        <textPath xlink:href=\"#arrow-091c315eaf0444f4bf34145103bbbe4f-0-80\" class=\"displacy-label\" startOffset=\"50%\" side=\"left\" fill=\"currentColor\" text-anchor=\"middle\">pobj</textPath>\n",
              "    </text>\n",
              "    <path class=\"displacy-arrowhead\" d=\"M10115.0,364.0 L10123.0,352.0 10107.0,352.0\" fill=\"currentColor\"/>\n",
              "</g>\n",
              "\n",
              "<g class=\"displacy-arrow\">\n",
              "    <path class=\"displacy-arc\" id=\"arrow-091c315eaf0444f4bf34145103bbbe4f-0-81\" stroke-width=\"2px\" d=\"M10270,362.0 C10270,302.0 10345.0,302.0 10345.0,362.0\" fill=\"none\" stroke=\"currentColor\"/>\n",
              "    <text dy=\"1.25em\" style=\"font-size: 0.8em; letter-spacing: 1px\">\n",
              "        <textPath xlink:href=\"#arrow-091c315eaf0444f4bf34145103bbbe4f-0-81\" class=\"displacy-label\" startOffset=\"50%\" side=\"left\" fill=\"currentColor\" text-anchor=\"middle\">nsubj</textPath>\n",
              "    </text>\n",
              "    <path class=\"displacy-arrowhead\" d=\"M10270,364.0 L10262,352.0 10278,352.0\" fill=\"currentColor\"/>\n",
              "</g>\n",
              "\n",
              "<g class=\"displacy-arrow\">\n",
              "    <path class=\"displacy-arc\" id=\"arrow-091c315eaf0444f4bf34145103bbbe4f-0-82\" stroke-width=\"2px\" d=\"M10390,362.0 C10390,302.0 10465.0,302.0 10465.0,362.0\" fill=\"none\" stroke=\"currentColor\"/>\n",
              "    <text dy=\"1.25em\" style=\"font-size: 0.8em; letter-spacing: 1px\">\n",
              "        <textPath xlink:href=\"#arrow-091c315eaf0444f4bf34145103bbbe4f-0-82\" class=\"displacy-label\" startOffset=\"50%\" side=\"left\" fill=\"currentColor\" text-anchor=\"middle\">dobj</textPath>\n",
              "    </text>\n",
              "    <path class=\"displacy-arrowhead\" d=\"M10465.0,364.0 L10473.0,352.0 10457.0,352.0\" fill=\"currentColor\"/>\n",
              "</g>\n",
              "\n",
              "<g class=\"displacy-arrow\">\n",
              "    <path class=\"displacy-arc\" id=\"arrow-091c315eaf0444f4bf34145103bbbe4f-0-83\" stroke-width=\"2px\" d=\"M10390,362.0 C10390,242.0 10590.0,242.0 10590.0,362.0\" fill=\"none\" stroke=\"currentColor\"/>\n",
              "    <text dy=\"1.25em\" style=\"font-size: 0.8em; letter-spacing: 1px\">\n",
              "        <textPath xlink:href=\"#arrow-091c315eaf0444f4bf34145103bbbe4f-0-83\" class=\"displacy-label\" startOffset=\"50%\" side=\"left\" fill=\"currentColor\" text-anchor=\"middle\">cc</textPath>\n",
              "    </text>\n",
              "    <path class=\"displacy-arrowhead\" d=\"M10590.0,364.0 L10598.0,352.0 10582.0,352.0\" fill=\"currentColor\"/>\n",
              "</g>\n",
              "\n",
              "<g class=\"displacy-arrow\">\n",
              "    <path class=\"displacy-arc\" id=\"arrow-091c315eaf0444f4bf34145103bbbe4f-0-84\" stroke-width=\"2px\" d=\"M10390,362.0 C10390,182.0 10715.0,182.0 10715.0,362.0\" fill=\"none\" stroke=\"currentColor\"/>\n",
              "    <text dy=\"1.25em\" style=\"font-size: 0.8em; letter-spacing: 1px\">\n",
              "        <textPath xlink:href=\"#arrow-091c315eaf0444f4bf34145103bbbe4f-0-84\" class=\"displacy-label\" startOffset=\"50%\" side=\"left\" fill=\"currentColor\" text-anchor=\"middle\">conj</textPath>\n",
              "    </text>\n",
              "    <path class=\"displacy-arrowhead\" d=\"M10715.0,364.0 L10723.0,352.0 10707.0,352.0\" fill=\"currentColor\"/>\n",
              "</g>\n",
              "\n",
              "<g class=\"displacy-arrow\">\n",
              "    <path class=\"displacy-arc\" id=\"arrow-091c315eaf0444f4bf34145103bbbe4f-0-85\" stroke-width=\"2px\" d=\"M10750,362.0 C10750,302.0 10825.0,302.0 10825.0,362.0\" fill=\"none\" stroke=\"currentColor\"/>\n",
              "    <text dy=\"1.25em\" style=\"font-size: 0.8em; letter-spacing: 1px\">\n",
              "        <textPath xlink:href=\"#arrow-091c315eaf0444f4bf34145103bbbe4f-0-85\" class=\"displacy-label\" startOffset=\"50%\" side=\"left\" fill=\"currentColor\" text-anchor=\"middle\">prep</textPath>\n",
              "    </text>\n",
              "    <path class=\"displacy-arrowhead\" d=\"M10825.0,364.0 L10833.0,352.0 10817.0,352.0\" fill=\"currentColor\"/>\n",
              "</g>\n",
              "\n",
              "<g class=\"displacy-arrow\">\n",
              "    <path class=\"displacy-arc\" id=\"arrow-091c315eaf0444f4bf34145103bbbe4f-0-86\" stroke-width=\"2px\" d=\"M10870,362.0 C10870,302.0 10945.0,302.0 10945.0,362.0\" fill=\"none\" stroke=\"currentColor\"/>\n",
              "    <text dy=\"1.25em\" style=\"font-size: 0.8em; letter-spacing: 1px\">\n",
              "        <textPath xlink:href=\"#arrow-091c315eaf0444f4bf34145103bbbe4f-0-86\" class=\"displacy-label\" startOffset=\"50%\" side=\"left\" fill=\"currentColor\" text-anchor=\"middle\">pobj</textPath>\n",
              "    </text>\n",
              "    <path class=\"displacy-arrowhead\" d=\"M10945.0,364.0 L10953.0,352.0 10937.0,352.0\" fill=\"currentColor\"/>\n",
              "</g>\n",
              "\n",
              "<g class=\"displacy-arrow\">\n",
              "    <path class=\"displacy-arc\" id=\"arrow-091c315eaf0444f4bf34145103bbbe4f-0-87\" stroke-width=\"2px\" d=\"M10990,362.0 C10990,302.0 11065.0,302.0 11065.0,362.0\" fill=\"none\" stroke=\"currentColor\"/>\n",
              "    <text dy=\"1.25em\" style=\"font-size: 0.8em; letter-spacing: 1px\">\n",
              "        <textPath xlink:href=\"#arrow-091c315eaf0444f4bf34145103bbbe4f-0-87\" class=\"displacy-label\" startOffset=\"50%\" side=\"left\" fill=\"currentColor\" text-anchor=\"middle\">prep</textPath>\n",
              "    </text>\n",
              "    <path class=\"displacy-arrowhead\" d=\"M11065.0,364.0 L11073.0,352.0 11057.0,352.0\" fill=\"currentColor\"/>\n",
              "</g>\n",
              "\n",
              "<g class=\"displacy-arrow\">\n",
              "    <path class=\"displacy-arc\" id=\"arrow-091c315eaf0444f4bf34145103bbbe4f-0-88\" stroke-width=\"2px\" d=\"M11230,362.0 C11230,302.0 11305.0,302.0 11305.0,362.0\" fill=\"none\" stroke=\"currentColor\"/>\n",
              "    <text dy=\"1.25em\" style=\"font-size: 0.8em; letter-spacing: 1px\">\n",
              "        <textPath xlink:href=\"#arrow-091c315eaf0444f4bf34145103bbbe4f-0-88\" class=\"displacy-label\" startOffset=\"50%\" side=\"left\" fill=\"currentColor\" text-anchor=\"middle\">det</textPath>\n",
              "    </text>\n",
              "    <path class=\"displacy-arrowhead\" d=\"M11230,364.0 L11222,352.0 11238,352.0\" fill=\"currentColor\"/>\n",
              "</g>\n",
              "\n",
              "<g class=\"displacy-arrow\">\n",
              "    <path class=\"displacy-arc\" id=\"arrow-091c315eaf0444f4bf34145103bbbe4f-0-89\" stroke-width=\"2px\" d=\"M11110,362.0 C11110,242.0 11310.0,242.0 11310.0,362.0\" fill=\"none\" stroke=\"currentColor\"/>\n",
              "    <text dy=\"1.25em\" style=\"font-size: 0.8em; letter-spacing: 1px\">\n",
              "        <textPath xlink:href=\"#arrow-091c315eaf0444f4bf34145103bbbe4f-0-89\" class=\"displacy-label\" startOffset=\"50%\" side=\"left\" fill=\"currentColor\" text-anchor=\"middle\">pobj</textPath>\n",
              "    </text>\n",
              "    <path class=\"displacy-arrowhead\" d=\"M11310.0,364.0 L11318.0,352.0 11302.0,352.0\" fill=\"currentColor\"/>\n",
              "</g>\n",
              "\n",
              "<g class=\"displacy-arrow\">\n",
              "    <path class=\"displacy-arc\" id=\"arrow-091c315eaf0444f4bf34145103bbbe4f-0-90\" stroke-width=\"2px\" d=\"M11470,362.0 C11470,302.0 11545.0,302.0 11545.0,362.0\" fill=\"none\" stroke=\"currentColor\"/>\n",
              "    <text dy=\"1.25em\" style=\"font-size: 0.8em; letter-spacing: 1px\">\n",
              "        <textPath xlink:href=\"#arrow-091c315eaf0444f4bf34145103bbbe4f-0-90\" class=\"displacy-label\" startOffset=\"50%\" side=\"left\" fill=\"currentColor\" text-anchor=\"middle\">amod</textPath>\n",
              "    </text>\n",
              "    <path class=\"displacy-arrowhead\" d=\"M11470,364.0 L11462,352.0 11478,352.0\" fill=\"currentColor\"/>\n",
              "</g>\n",
              "\n",
              "<g class=\"displacy-arrow\">\n",
              "    <path class=\"displacy-arc\" id=\"arrow-091c315eaf0444f4bf34145103bbbe4f-0-91\" stroke-width=\"2px\" d=\"M11350,362.0 C11350,242.0 11550.0,242.0 11550.0,362.0\" fill=\"none\" stroke=\"currentColor\"/>\n",
              "    <text dy=\"1.25em\" style=\"font-size: 0.8em; letter-spacing: 1px\">\n",
              "        <textPath xlink:href=\"#arrow-091c315eaf0444f4bf34145103bbbe4f-0-91\" class=\"displacy-label\" startOffset=\"50%\" side=\"left\" fill=\"currentColor\" text-anchor=\"middle\">appos</textPath>\n",
              "    </text>\n",
              "    <path class=\"displacy-arrowhead\" d=\"M11550.0,364.0 L11558.0,352.0 11542.0,352.0\" fill=\"currentColor\"/>\n",
              "</g>\n",
              "\n",
              "<g class=\"displacy-arrow\">\n",
              "    <path class=\"displacy-arc\" id=\"arrow-091c315eaf0444f4bf34145103bbbe4f-0-92\" stroke-width=\"2px\" d=\"M11590,362.0 C11590,302.0 11665.0,302.0 11665.0,362.0\" fill=\"none\" stroke=\"currentColor\"/>\n",
              "    <text dy=\"1.25em\" style=\"font-size: 0.8em; letter-spacing: 1px\">\n",
              "        <textPath xlink:href=\"#arrow-091c315eaf0444f4bf34145103bbbe4f-0-92\" class=\"displacy-label\" startOffset=\"50%\" side=\"left\" fill=\"currentColor\" text-anchor=\"middle\">conj</textPath>\n",
              "    </text>\n",
              "    <path class=\"displacy-arrowhead\" d=\"M11665.0,364.0 L11673.0,352.0 11657.0,352.0\" fill=\"currentColor\"/>\n",
              "</g>\n",
              "\n",
              "<g class=\"displacy-arrow\">\n",
              "    <path class=\"displacy-arc\" id=\"arrow-091c315eaf0444f4bf34145103bbbe4f-0-93\" stroke-width=\"2px\" d=\"M11710,362.0 C11710,302.0 11785.0,302.0 11785.0,362.0\" fill=\"none\" stroke=\"currentColor\"/>\n",
              "    <text dy=\"1.25em\" style=\"font-size: 0.8em; letter-spacing: 1px\">\n",
              "        <textPath xlink:href=\"#arrow-091c315eaf0444f4bf34145103bbbe4f-0-93\" class=\"displacy-label\" startOffset=\"50%\" side=\"left\" fill=\"currentColor\" text-anchor=\"middle\">cc</textPath>\n",
              "    </text>\n",
              "    <path class=\"displacy-arrowhead\" d=\"M11785.0,364.0 L11793.0,352.0 11777.0,352.0\" fill=\"currentColor\"/>\n",
              "</g>\n",
              "\n",
              "<g class=\"displacy-arrow\">\n",
              "    <path class=\"displacy-arc\" id=\"arrow-091c315eaf0444f4bf34145103bbbe4f-0-94\" stroke-width=\"2px\" d=\"M11710,362.0 C11710,242.0 11910.0,242.0 11910.0,362.0\" fill=\"none\" stroke=\"currentColor\"/>\n",
              "    <text dy=\"1.25em\" style=\"font-size: 0.8em; letter-spacing: 1px\">\n",
              "        <textPath xlink:href=\"#arrow-091c315eaf0444f4bf34145103bbbe4f-0-94\" class=\"displacy-label\" startOffset=\"50%\" side=\"left\" fill=\"currentColor\" text-anchor=\"middle\">conj</textPath>\n",
              "    </text>\n",
              "    <path class=\"displacy-arrowhead\" d=\"M11910.0,364.0 L11918.0,352.0 11902.0,352.0\" fill=\"currentColor\"/>\n",
              "</g>\n",
              "\n",
              "<g class=\"displacy-arrow\">\n",
              "    <path class=\"displacy-arc\" id=\"arrow-091c315eaf0444f4bf34145103bbbe4f-0-95\" stroke-width=\"2px\" d=\"M11950,362.0 C11950,302.0 12025.0,302.0 12025.0,362.0\" fill=\"none\" stroke=\"currentColor\"/>\n",
              "    <text dy=\"1.25em\" style=\"font-size: 0.8em; letter-spacing: 1px\">\n",
              "        <textPath xlink:href=\"#arrow-091c315eaf0444f4bf34145103bbbe4f-0-95\" class=\"displacy-label\" startOffset=\"50%\" side=\"left\" fill=\"currentColor\" text-anchor=\"middle\">prep</textPath>\n",
              "    </text>\n",
              "    <path class=\"displacy-arrowhead\" d=\"M12025.0,364.0 L12033.0,352.0 12017.0,352.0\" fill=\"currentColor\"/>\n",
              "</g>\n",
              "\n",
              "<g class=\"displacy-arrow\">\n",
              "    <path class=\"displacy-arc\" id=\"arrow-091c315eaf0444f4bf34145103bbbe4f-0-96\" stroke-width=\"2px\" d=\"M12190,362.0 C12190,242.0 12390.0,242.0 12390.0,362.0\" fill=\"none\" stroke=\"currentColor\"/>\n",
              "    <text dy=\"1.25em\" style=\"font-size: 0.8em; letter-spacing: 1px\">\n",
              "        <textPath xlink:href=\"#arrow-091c315eaf0444f4bf34145103bbbe4f-0-96\" class=\"displacy-label\" startOffset=\"50%\" side=\"left\" fill=\"currentColor\" text-anchor=\"middle\">det</textPath>\n",
              "    </text>\n",
              "    <path class=\"displacy-arrowhead\" d=\"M12190,364.0 L12182,352.0 12198,352.0\" fill=\"currentColor\"/>\n",
              "</g>\n",
              "\n",
              "<g class=\"displacy-arrow\">\n",
              "    <path class=\"displacy-arc\" id=\"arrow-091c315eaf0444f4bf34145103bbbe4f-0-97\" stroke-width=\"2px\" d=\"M12310,362.0 C12310,302.0 12385.0,302.0 12385.0,362.0\" fill=\"none\" stroke=\"currentColor\"/>\n",
              "    <text dy=\"1.25em\" style=\"font-size: 0.8em; letter-spacing: 1px\">\n",
              "        <textPath xlink:href=\"#arrow-091c315eaf0444f4bf34145103bbbe4f-0-97\" class=\"displacy-label\" startOffset=\"50%\" side=\"left\" fill=\"currentColor\" text-anchor=\"middle\">amod</textPath>\n",
              "    </text>\n",
              "    <path class=\"displacy-arrowhead\" d=\"M12310,364.0 L12302,352.0 12318,352.0\" fill=\"currentColor\"/>\n",
              "</g>\n",
              "\n",
              "<g class=\"displacy-arrow\">\n",
              "    <path class=\"displacy-arc\" id=\"arrow-091c315eaf0444f4bf34145103bbbe4f-0-98\" stroke-width=\"2px\" d=\"M12070,362.0 C12070,182.0 12395.0,182.0 12395.0,362.0\" fill=\"none\" stroke=\"currentColor\"/>\n",
              "    <text dy=\"1.25em\" style=\"font-size: 0.8em; letter-spacing: 1px\">\n",
              "        <textPath xlink:href=\"#arrow-091c315eaf0444f4bf34145103bbbe4f-0-98\" class=\"displacy-label\" startOffset=\"50%\" side=\"left\" fill=\"currentColor\" text-anchor=\"middle\">pobj</textPath>\n",
              "    </text>\n",
              "    <path class=\"displacy-arrowhead\" d=\"M12395.0,364.0 L12403.0,352.0 12387.0,352.0\" fill=\"currentColor\"/>\n",
              "</g>\n",
              "</svg></span>"
            ]
          },
          "metadata": {}
        }
      ],
      "source": [
        "\n",
        "# Dependency Parsing\n",
        "print(\"Dependency Parsing:\")\n",
        "for token in doc:\n",
        "    print(token.text, \"->\", token.dep_, \"->\", token.head.text)\n",
        "\n",
        "# Constituency Parsing (SpaCy doesn't provide direct support for constituency parsing,\n",
        "# but we can use displacy to visualize the syntactic structure)\n",
        "from spacy import displacy\n",
        "\n",
        "# Create a list of Span objects for the sentence\n",
        "sent_spans = [doc[:]]\n",
        "\n",
        "# Visualize the constituency parse tree using displacy\n",
        "displacy.render(sent_spans, style=\"dep\", jupyter=True, options={\"distance\": 120})"
      ]
    },
    {
      "cell_type": "code",
      "execution_count": 39,
      "metadata": {
        "id": "-LtNfSQbQ3hf"
      },
      "outputs": [],
      "source": []
    }
  ],
  "metadata": {
    "accelerator": "GPU",
    "colab": {
      "gpuType": "T4",
      "provenance": [],
      "include_colab_link": true
    },
    "kernelspec": {
      "display_name": "Python 3",
      "name": "python3"
    },
    "language_info": {
      "name": "python"
    }
  },
  "nbformat": 4,
  "nbformat_minor": 0
}