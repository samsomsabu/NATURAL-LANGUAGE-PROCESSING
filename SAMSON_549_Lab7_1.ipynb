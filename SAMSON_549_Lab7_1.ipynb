{
  "nbformat": 4,
  "nbformat_minor": 0,
  "metadata": {
    "colab": {
      "provenance": [],
      "authorship_tag": "ABX9TyPqV3A6XibCYGzXHO5srMq2",
      "include_colab_link": true
    },
    "kernelspec": {
      "name": "python3",
      "display_name": "Python 3"
    },
    "language_info": {
      "name": "python"
    }
  },
  "cells": [
    {
      "cell_type": "markdown",
      "metadata": {
        "id": "view-in-github",
        "colab_type": "text"
      },
      "source": [
        "<a href=\"https://colab.research.google.com/github/samsomsabu/NATURAL-LANGUAGE-PROCESSING/blob/main/SAMSON_549_Lab7_1.ipynb\" target=\"_parent\"><img src=\"https://colab.research.google.com/assets/colab-badge.svg\" alt=\"Open In Colab\"/></a>"
      ]
    },
    {
      "cell_type": "markdown",
      "source": [
        "Jaccard Similarity\n",
        "Jaccard Similarity is the ratio of common words to total unique words or we can say the intersection of words to the union of words in both the documents. it scores range between 0–1. 1 represents the higher similarity while 0 represents the no similarity.The formula of Jaccard similarity:\n",
        "\n",
        "![0_OTLZGJ3vG6MliJms.png](data:image/png;base64,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)"
      ],
      "metadata": {
        "id": "bRX9DSEO_RlN"
      }
    },
    {
      "cell_type": "code",
      "execution_count": 3,
      "metadata": {
        "colab": {
          "base_uri": "https://localhost:8080/"
        },
        "id": "Brni-FyO9t0N",
        "outputId": "bf88167a-006c-4a2e-f570-a39fa5233461"
      },
      "outputs": [
        {
          "output_type": "stream",
          "name": "stdout",
          "text": [
            "{'later', 'he', 'around', 'impression', 'on.', 'romantic', 'ideas', 'wandered', 'walk,', '1804,', 'strip', 'of', 'wordsworth', 'walks', 'it', \"england's\", 'version', 'that', 'key', \"cloud'\", 'best-loved', 'by', 'way', 'though', 'final', 'make', 'to', 'long', 'countryside', 'world.', 'encountered', 'composed', 'his', 'a', 'written', 'as', 'poem', 'in', \"wordsworth's\", 'comes', 'it—the', 'the', 'these', 'back', 'english', 'natural', 'firstly', 'during', 'effect', 'william', 'lake', 'poet', 'sister', 'poems', 'immediate', 'on', 'language.', 'long-lasting', 'daffodils.', 'famous', 'district.', 'one', 'subsequently', 'poem,', 'bringing', 'mind', 'this', 'and', 'secondly', 'together', 'humanity', 'own', 'imagination,', 'speaker,', 'was', 'most', 'based', 'about', 'is', 'familiar', 'they', 'quintessentially', 'image', 'lonely', '1815.', 'them', 'published', 'have', 'daffodils', \"speaker's\", \"'i\", 'revised'} {'volumes', 'lyric', 'romantic', 'inspired', 'radio', 'wandered', 'i', '15', '(also', '\"long', 'of', 'it', 'anthologised,', 'bookworm', 'that', 'classic', 'nations', 'seen', 'by', 'reviewed', 'determine', 'two', 'to', 'sometimes', 'dorothy', 'encounter', 'his', '24', 'a', 'daffodils.[4]', 'written', '1995', 'as', 'poems,', 'poem', 'cloud', 'although', 'in', 'conducted', '1815.[6]in', 'younger', 'poetry,', 'himself,', 'the', 'fifth.[7]', 'english', 'came', 'wordsworth.[3]', '4', 'line', 'april', 'included', 'william', 'contemporaries.', 'sister', 'on', 'poll', 'one', 'forest', '1802', 'now', 'bbc', '1804,[5]', '\"daffodils\"[2])', 'belt\"', 'volumes,', '1807', 'called', '\"i', 'cloud\"', 'this', 'and', 'was', 'most', 'is', 'favourite', 'lonely', 'first', 'published', 'often', 'popular,', 'wordsworths', 'programme', 'poorly', 'revised'}\n",
            "0.18\n"
          ]
        }
      ],
      "source": [
        "# documents\n",
        "doc1=\"'I Wandered Lonely as a Cloud' is one of the most famous and best-loved poems written in the English language. It was composed by Romantic poet William Wordsworth around 1804, though he subsequently revised it—the final and most familiar version of the poem was published in 1815. The poem is based on one of Wordsworth's own walks in the countryside of England's Lake District. During this walk, he and his sister encountered a long strip of daffodils. In the poem, these daffodils have a long-lasting effect on the speaker, firstly in the immediate impression they make and secondly in the way that the image of them comes back to the speaker's mind later on. 'I Wandered Lonely as a Cloud' is a quintessentially Romantic poem, bringing together key ideas about imagination, humanity and the natural world.\"\n",
        "doc2='\"I Wandered Lonely as a Cloud\" (also sometimes called \"Daffodils\"[2]) is a lyric poem by William Wordsworth.[3] It is one of his most popular, and was inspired by a forest encounter on 15 April 1802 that included himself, his younger sister Dorothy and a \"long belt\" of daffodils.[4] Written in 1804,[5] this 24 line lyric was first published in 1807 in Poems, in Two Volumes, and revised in 1815.[6]In a poll conducted in 1995 by the BBC Radio 4 Bookworm programme to determine the nations favourite poems, I Wandered Lonely as a Cloud came fifth.[7] Often anthologised, it is now seen as a classic of English Romantic poetry, although Poems, in Two Volumes was poorly reviewed by Wordsworths contemporaries.'\n",
        "# Split the documents and create tokens\n",
        "doc1_tokens=set(doc1.lower().split())\n",
        "doc2_tokens=set(doc2.lower().split())\n",
        "\n",
        "#Print the tokens\n",
        "print(doc1_tokens,doc2_tokens)\n",
        "\n",
        "\n",
        "# Calculate the Jaccard Similarity\n",
        "jaccard_similarity=  len(doc1_tokens.intersection(doc2_tokens))/len(doc1_tokens.union(doc2_tokens))\n",
        "\n",
        "# Print the Jaccard Simialrity score\n",
        "print(jaccard_similarity)"
      ]
    },
    {
      "cell_type": "markdown",
      "source": [
        "Jaccard similarity considers only the unique set of words for each sentence and doesn’t give importance to the duplication of words."
      ],
      "metadata": {
        "id": "teBwNRFM_M-a"
      }
    },
    {
      "cell_type": "markdown",
      "source": [
        "# Cosine Similarity using Spacy"
      ],
      "metadata": {
        "id": "vvjuQVys_rhs"
      }
    },
    {
      "cell_type": "code",
      "source": [
        "import en_core_web_sm\n",
        "\n",
        "nlp = en_core_web_sm.load()\n",
        "\n",
        "\n",
        "doc1 = nlp(\"'I Wandered Lonely as a Cloud' is one of the most famous and best-loved poems written in the English language. It was composed by Romantic poet William Wordsworth around 1804, though he subsequently revised it—the final and most familiar version of the poem was published in 1815. The poem is based on one of Wordsworth's own walks in the countryside of England's Lake District. During this walk, he and his sister encountered a long strip of daffodils. In the poem, these daffodils have a long-lasting effect on the speaker, firstly in the immediate impression they make and secondly in the way that the image of them comes back to the speaker's mind later on. 'I Wandered Lonely as a Cloud' is a quintessentially Romantic poem, bringing together key ideas about imagination, humanity and the natural world.\")\n",
        "\n",
        "doc2 = nlp('\"I Wandered Lonely as a Cloud\" (also sometimes called \"Daffodils\"[2]) is a lyric poem by William Wordsworth.[3] It is one of his most popular, and was inspired by a forest encounter on 15 April 1802 that included himself, his younger sister Dorothy and a \"long belt\" of daffodils.[4] Written in 1804,[5] this 24 line lyric was first published in 1807 in Poems, in Two Volumes, and revised in 1815.[6]In a poll conducted in 1995 by the BBC Radio 4 Bookworm programme to determine the nations favourite poems, I Wandered Lonely as a Cloud came fifth.[7] Often anthologised, it is now seen as a classic of English Romantic poetry, although Poems, in Two Volumes was poorly reviewed by Wordsworths contemporaries.')\n",
        "\n",
        "# cosine similarity\n",
        "doc1.similarity(doc2)"
      ],
      "metadata": {
        "colab": {
          "base_uri": "https://localhost:8080/"
        },
        "id": "fxp8jEH8-S1w",
        "outputId": "c0adf1c0-a702-421f-a392-01e39fb380c1"
      },
      "execution_count": 4,
      "outputs": [
        {
          "output_type": "stream",
          "name": "stderr",
          "text": [
            "<ipython-input-4-0bc7246f7898>:11: UserWarning: [W007] The model you're using has no word vectors loaded, so the result of the Doc.similarity method will be based on the tagger, parser and NER, which may not give useful similarity judgements. This may happen if you're using one of the small models, e.g. `en_core_web_sm`, which don't ship with word vectors and only use context-sensitive tensors. You can always add your own word vectors, or use one of the larger models instead if available.\n",
            "  doc1.similarity(doc2)\n"
          ]
        },
        {
          "output_type": "execute_result",
          "data": {
            "text/plain": [
              "0.7791190267017436"
            ]
          },
          "metadata": {},
          "execution_count": 4
        }
      ]
    },
    {
      "cell_type": "code",
      "source": [],
      "metadata": {
        "id": "9AEfMTRd_7MY"
      },
      "execution_count": null,
      "outputs": []
    }
  ]
}