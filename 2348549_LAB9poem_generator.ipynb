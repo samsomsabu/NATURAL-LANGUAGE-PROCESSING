{
  "metadata": {
    "kernelspec": {
      "display_name": "Python 3",
      "name": "python3"
    },
    "language_info": {
      "name": "python",
      "version": "3.10.12",
      "mimetype": "text/x-python",
      "codemirror_mode": {
        "name": "ipython",
        "version": 3
      },
      "pygments_lexer": "ipython3",
      "nbconvert_exporter": "python",
      "file_extension": ".py"
    },
    "colab": {
      "provenance": [],
      "gpuType": "T4",
      "include_colab_link": true
    },
    "accelerator": "GPU"
  },
  "nbformat_minor": 0,
  "nbformat": 4,
  "cells": [
    {
      "cell_type": "markdown",
      "metadata": {
        "id": "view-in-github",
        "colab_type": "text"
      },
      "source": [
        "<a href=\"https://colab.research.google.com/github/samsomsabu/NATURAL-LANGUAGE-PROCESSING/blob/main/2348549_LAB9poem_generator.ipynb\" target=\"_parent\"><img src=\"https://colab.research.google.com/assets/colab-badge.svg\" alt=\"Open In Colab\"/></a>"
      ]
    },
    {
      "cell_type": "code",
      "source": [
        "import numpy as np\n",
        "import pandas as pd\n",
        "import matplotlib.pyplot as plt\n",
        "import tensorflow.keras.utils as ku\n",
        "from tensorflow.keras.preprocessing.sequence import pad_sequences\n",
        "from tensorflow.keras.layers import Embedding, LSTM, Dense, Dropout, Bidirectional\n",
        "from tensorflow.keras.preprocessing.text import Tokenizer\n",
        "from tensorflow.keras.models import Sequential\n",
        "from tensorflow.keras.optimizers import Adam\n",
        "from tensorflow.keras import regularizers"
      ],
      "metadata": {
        "_uuid": "8f2839f25d086af736a60e9eeb907d3b93b6e0e5",
        "_cell_guid": "b1076dfc-b9ad-4769-8c92-a6c4dae69d19",
        "execution": {
          "iopub.status.busy": "2023-07-29T12:28:04.940454Z",
          "iopub.execute_input": "2023-07-29T12:28:04.940822Z",
          "iopub.status.idle": "2023-07-29T12:28:16.520752Z",
          "shell.execute_reply.started": "2023-07-29T12:28:04.940793Z",
          "shell.execute_reply": "2023-07-29T12:28:16.519728Z"
        },
        "trusted": true,
        "id": "zFmGGd4Nhxa2"
      },
      "execution_count": 1,
      "outputs": []
    },
    {
      "cell_type": "code",
      "source": [
        "# Reading the text data file\n",
        "data = open('/content/poem.txt', encoding=\"utf8\").read()\n",
        "\n",
        "# Plotting the WordCloud\n",
        "data[:100]"
      ],
      "metadata": {
        "execution": {
          "iopub.status.busy": "2023-07-29T12:28:16.522444Z",
          "iopub.execute_input": "2023-07-29T12:28:16.524526Z",
          "iopub.status.idle": "2023-07-29T12:28:16.540711Z",
          "shell.execute_reply.started": "2023-07-29T12:28:16.524490Z",
          "shell.execute_reply": "2023-07-29T12:28:16.539811Z"
        },
        "trusted": true,
        "colab": {
          "base_uri": "https://localhost:8080/",
          "height": 36
        },
        "id": "BOKPtPFXhxa4",
        "outputId": "0c9131df-3a78-4fae-9096-a208d5daca3a"
      },
      "execution_count": 2,
      "outputs": [
        {
          "output_type": "execute_result",
          "data": {
            "text/plain": [
              "'Stay, I said\\nto the cut flowers.\\nThey bowed\\ntheir heads lower.\\nStay, I said to the spider,\\nwho fled.'"
            ],
            "application/vnd.google.colaboratory.intrinsic+json": {
              "type": "string"
            }
          },
          "metadata": {},
          "execution_count": 2
        }
      ]
    },
    {
      "cell_type": "code",
      "source": [
        "corpus = data.lower().split(\"\\n\")\n",
        "corpus[:15]"
      ],
      "metadata": {
        "execution": {
          "iopub.status.busy": "2023-07-29T12:29:03.466795Z",
          "iopub.execute_input": "2023-07-29T12:29:03.467186Z",
          "iopub.status.idle": "2023-07-29T12:29:03.478395Z",
          "shell.execute_reply.started": "2023-07-29T12:29:03.467130Z",
          "shell.execute_reply": "2023-07-29T12:29:03.477221Z"
        },
        "trusted": true,
        "colab": {
          "base_uri": "https://localhost:8080/"
        },
        "id": "dUW5ZFW4hxa4",
        "outputId": "e11f02b9-6017-4180-a0ba-5cbac7a41a99"
      },
      "execution_count": 3,
      "outputs": [
        {
          "output_type": "execute_result",
          "data": {
            "text/plain": [
              "['stay, i said',\n",
              " 'to the cut flowers.',\n",
              " 'they bowed',\n",
              " 'their heads lower.',\n",
              " 'stay, i said to the spider,',\n",
              " 'who fled.',\n",
              " 'stay, leaf.',\n",
              " 'it reddened,',\n",
              " 'embarrassed for me and itself.',\n",
              " 'stay, i said to my body.',\n",
              " 'it sat as a dog does,',\n",
              " 'obedient for a moment,',\n",
              " 'soon starting to tremble.',\n",
              " 'stay, to the earth',\n",
              " 'of riverine valley meadows,']"
            ]
          },
          "metadata": {},
          "execution_count": 3
        }
      ]
    },
    {
      "cell_type": "code",
      "source": [
        "len(corpus)"
      ],
      "metadata": {
        "execution": {
          "iopub.status.busy": "2023-07-29T12:29:33.858150Z",
          "iopub.execute_input": "2023-07-29T12:29:33.858537Z",
          "iopub.status.idle": "2023-07-29T12:29:33.868090Z",
          "shell.execute_reply.started": "2023-07-29T12:29:33.858508Z",
          "shell.execute_reply": "2023-07-29T12:29:33.867057Z"
        },
        "trusted": true,
        "colab": {
          "base_uri": "https://localhost:8080/"
        },
        "id": "5ysBI6LRhxa5",
        "outputId": "412fdfbc-eb0b-439e-defb-4fb4fad2d1e2"
      },
      "execution_count": 4,
      "outputs": [
        {
          "output_type": "execute_result",
          "data": {
            "text/plain": [
              "2478"
            ]
          },
          "metadata": {},
          "execution_count": 4
        }
      ]
    },
    {
      "cell_type": "code",
      "source": [
        "# Fitting the Tokenizer on the Corpus\n",
        "tokenizer = Tokenizer()\n",
        "tokenizer.fit_on_texts(corpus)\n",
        "\n",
        "# Vocabulary count of the corpus\n",
        "total_words = len(tokenizer.word_index)\n",
        "\n",
        "print(\"Total Words:\", total_words)"
      ],
      "metadata": {
        "execution": {
          "iopub.status.busy": "2023-07-29T12:30:30.420274Z",
          "iopub.execute_input": "2023-07-29T12:30:30.420634Z",
          "iopub.status.idle": "2023-07-29T12:30:30.472867Z",
          "shell.execute_reply.started": "2023-07-29T12:30:30.420605Z",
          "shell.execute_reply": "2023-07-29T12:30:30.471503Z"
        },
        "trusted": true,
        "colab": {
          "base_uri": "https://localhost:8080/"
        },
        "id": "ZiERSKc9hxa5",
        "outputId": "904ad62f-cab3-4ece-e16e-e03deb844fab"
      },
      "execution_count": 5,
      "outputs": [
        {
          "output_type": "stream",
          "name": "stdout",
          "text": [
            "Total Words: 3807\n"
          ]
        }
      ]
    },
    {
      "cell_type": "code",
      "source": [
        "tokenizer.word_index['i']"
      ],
      "metadata": {
        "execution": {
          "iopub.status.busy": "2023-07-29T12:33:12.906256Z",
          "iopub.execute_input": "2023-07-29T12:33:12.906611Z",
          "iopub.status.idle": "2023-07-29T12:33:12.913801Z",
          "shell.execute_reply.started": "2023-07-29T12:33:12.906580Z",
          "shell.execute_reply": "2023-07-29T12:33:12.912615Z"
        },
        "trusted": true,
        "colab": {
          "base_uri": "https://localhost:8080/"
        },
        "id": "fxJAXYU8hxa5",
        "outputId": "1c722ed5-5c59-4629-c78f-96a83e5cc16f"
      },
      "execution_count": 6,
      "outputs": [
        {
          "output_type": "execute_result",
          "data": {
            "text/plain": [
              "3"
            ]
          },
          "metadata": {},
          "execution_count": 6
        }
      ]
    },
    {
      "cell_type": "code",
      "source": [
        "\n",
        "# Converting the text into embeddings\n",
        "input_sequences = []\n",
        "for line in corpus:\n",
        "    token_list = tokenizer.texts_to_sequences([line])[0]\n",
        "\n",
        "    for i in range(1, len(token_list)):\n",
        "        n_gram_sequence = token_list[:i+1]\n",
        "        input_sequences.append(n_gram_sequence)\n",
        "\n",
        "max_sequence_len = max([len(x) for x in input_sequences])\n",
        "input_sequences = np.array(pad_sequences(input_sequences,\n",
        "                                         maxlen=max_sequence_len,\n",
        "                                         padding='pre'))\n",
        "predictors, label = input_sequences[:, :-1], input_sequences[:, -1]\n",
        "label = ku.to_categorical(label, num_classes=total_words+1)"
      ],
      "metadata": {
        "execution": {
          "iopub.status.busy": "2023-07-29T12:32:30.307873Z",
          "iopub.execute_input": "2023-07-29T12:32:30.308275Z",
          "iopub.status.idle": "2023-07-29T12:32:30.470103Z",
          "shell.execute_reply.started": "2023-07-29T12:32:30.308242Z",
          "shell.execute_reply": "2023-07-29T12:32:30.469060Z"
        },
        "trusted": true,
        "id": "-AyKKuwfhxa5"
      },
      "execution_count": 7,
      "outputs": []
    },
    {
      "cell_type": "code",
      "source": [
        "input_sequences"
      ],
      "metadata": {
        "execution": {
          "iopub.status.busy": "2023-07-29T12:33:54.206595Z",
          "iopub.execute_input": "2023-07-29T12:33:54.206938Z",
          "iopub.status.idle": "2023-07-29T12:33:54.214081Z",
          "shell.execute_reply.started": "2023-07-29T12:33:54.206910Z",
          "shell.execute_reply": "2023-07-29T12:33:54.212993Z"
        },
        "trusted": true,
        "colab": {
          "base_uri": "https://localhost:8080/"
        },
        "id": "eRw5eO91hxa6",
        "outputId": "e7234d08-ef3a-4997-9094-bebc280f2c2b"
      },
      "execution_count": 8,
      "outputs": [
        {
          "output_type": "execute_result",
          "data": {
            "text/plain": [
              "array([[   0,    0,    0, ...,    0,  266,    3],\n",
              "       [   0,    0,    0, ...,  266,    3,   59],\n",
              "       [   0,    0,    0, ...,    0,    4,    1],\n",
              "       ...,\n",
              "       [   0,    0,    0, ..., 3807,   15,    4],\n",
              "       [   0,    0,    0, ...,   15,    4,  203],\n",
              "       [   0,    0,    0, ...,    4,  203,   85]], dtype=int32)"
            ]
          },
          "metadata": {},
          "execution_count": 8
        }
      ]
    },
    {
      "cell_type": "code",
      "source": [
        "# Building a Bi-Directional LSTM Model\n",
        "model = Sequential()\n",
        "model.add(Embedding(total_words+1, 100,\n",
        "                    input_length=max_sequence_len-1))\n",
        "model.add(Bidirectional(LSTM(150, return_sequences=True)))\n",
        "model.add(Dropout(0.2))\n",
        "model.add(LSTM(100))\n",
        "model.add(Dense(total_words+1/2, activation='relu',\n",
        "                kernel_regularizer=regularizers.l2(0.01)))\n",
        "model.add(Dense(total_words+1, activation='softmax'))\n",
        "model.compile(loss='categorical_crossentropy',\n",
        "              optimizer='adam', metrics=['accuracy'])\n",
        "print(model.summary())"
      ],
      "metadata": {
        "execution": {
          "iopub.status.busy": "2023-07-29T12:36:55.779184Z",
          "iopub.execute_input": "2023-07-29T12:36:55.780178Z",
          "iopub.status.idle": "2023-07-29T12:37:01.600414Z",
          "shell.execute_reply.started": "2023-07-29T12:36:55.780119Z",
          "shell.execute_reply": "2023-07-29T12:37:01.599568Z"
        },
        "trusted": true,
        "colab": {
          "base_uri": "https://localhost:8080/"
        },
        "id": "JgmHdZvlhxa6",
        "outputId": "8fda18fe-cdc4-4dae-defd-a0f963564d87"
      },
      "execution_count": 9,
      "outputs": [
        {
          "output_type": "stream",
          "name": "stdout",
          "text": [
            "Model: \"sequential\"\n",
            "_________________________________________________________________\n",
            " Layer (type)                Output Shape              Param #   \n",
            "=================================================================\n",
            " embedding (Embedding)       (None, 15, 100)           380800    \n",
            "                                                                 \n",
            " bidirectional (Bidirection  (None, 15, 300)           301200    \n",
            " al)                                                             \n",
            "                                                                 \n",
            " dropout (Dropout)           (None, 15, 300)           0         \n",
            "                                                                 \n",
            " lstm_1 (LSTM)               (None, 100)               160400    \n",
            "                                                                 \n",
            " dense (Dense)               (None, 3807)              384507    \n",
            "                                                                 \n",
            " dense_1 (Dense)             (None, 3808)              14500864  \n",
            "                                                                 \n",
            "=================================================================\n",
            "Total params: 15727771 (60.00 MB)\n",
            "Trainable params: 15727771 (60.00 MB)\n",
            "Non-trainable params: 0 (0.00 Byte)\n",
            "_________________________________________________________________\n",
            "None\n"
          ]
        }
      ]
    },
    {
      "cell_type": "code",
      "source": [
        "history = model.fit(predictors, label, epochs=10, verbose=1)"
      ],
      "metadata": {
        "execution": {
          "iopub.status.busy": "2023-07-29T12:38:12.385485Z",
          "iopub.execute_input": "2023-07-29T12:38:12.385840Z",
          "iopub.status.idle": "2023-07-29T12:54:39.504365Z",
          "shell.execute_reply.started": "2023-07-29T12:38:12.385811Z",
          "shell.execute_reply": "2023-07-29T12:54:39.503307Z"
        },
        "trusted": true,
        "colab": {
          "base_uri": "https://localhost:8080/"
        },
        "id": "0sphXhFehxa6",
        "outputId": "485357ee-0cb0-41ad-c956-7c727cc163d6"
      },
      "execution_count": 11,
      "outputs": [
        {
          "output_type": "stream",
          "name": "stdout",
          "text": [
            "Epoch 1/10\n",
            "510/510 [==============================] - 13s 25ms/step - loss: 6.8856 - accuracy: 0.0612\n",
            "Epoch 2/10\n",
            "510/510 [==============================] - 7s 15ms/step - loss: 6.5025 - accuracy: 0.0640\n",
            "Epoch 3/10\n",
            "510/510 [==============================] - 6s 12ms/step - loss: 6.3244 - accuracy: 0.0654\n",
            "Epoch 4/10\n",
            "510/510 [==============================] - 6s 12ms/step - loss: 6.2089 - accuracy: 0.0748\n",
            "Epoch 5/10\n",
            "510/510 [==============================] - 6s 11ms/step - loss: 6.1057 - accuracy: 0.0799\n",
            "Epoch 6/10\n",
            "510/510 [==============================] - 6s 12ms/step - loss: 5.9941 - accuracy: 0.0881\n",
            "Epoch 7/10\n",
            "510/510 [==============================] - 6s 11ms/step - loss: 5.8641 - accuracy: 0.0967\n",
            "Epoch 8/10\n",
            "510/510 [==============================] - 6s 12ms/step - loss: 5.7497 - accuracy: 0.1040\n",
            "Epoch 9/10\n",
            "510/510 [==============================] - 6s 12ms/step - loss: 5.6436 - accuracy: 0.1086\n",
            "Epoch 10/10\n",
            "510/510 [==============================] - 6s 11ms/step - loss: 5.5428 - accuracy: 0.1139\n"
          ]
        }
      ]
    },
    {
      "cell_type": "code",
      "source": [
        "seed_text = \"The world\"\n",
        "next_words = 25\n",
        "ouptut_text = \"\"\n",
        "\n",
        "for _ in range(next_words):\n",
        "    token_list = tokenizer.texts_to_sequences([seed_text])[0]\n",
        "    token_list = pad_sequences(\n",
        "        [token_list], maxlen=max_sequence_len-1,\n",
        "      padding='pre')\n",
        "    predicted = np.argmax(model.predict(token_list,\n",
        "                                        verbose=0), axis=-1)\n",
        "    output_word = \"\"\n",
        "\n",
        "    for word, index in tokenizer.word_index.items():\n",
        "        if index == predicted:\n",
        "            output_word = word\n",
        "            break\n",
        "\n",
        "    seed_text += \" \" + output_word\n",
        "\n",
        "print(seed_text)"
      ],
      "metadata": {
        "execution": {
          "iopub.status.busy": "2023-07-29T13:00:56.255513Z",
          "iopub.execute_input": "2023-07-29T13:00:56.255890Z",
          "iopub.status.idle": "2023-07-29T13:00:58.801917Z",
          "shell.execute_reply.started": "2023-07-29T13:00:56.255858Z",
          "shell.execute_reply": "2023-07-29T13:00:58.800852Z"
        },
        "trusted": true,
        "colab": {
          "base_uri": "https://localhost:8080/"
        },
        "id": "UFfLPB3dhxa7",
        "outputId": "c69eb261-6f64-45cd-b026-f36cb224e155"
      },
      "execution_count": 12,
      "outputs": [
        {
          "output_type": "stream",
          "name": "stdout",
          "text": [
            "The world of the heart of the heart of the heart of the heart of the heart of the heart of the heart of the heart of\n"
          ]
        }
      ]
    },
    {
      "cell_type": "code",
      "source": [],
      "metadata": {
        "id": "UeVTS7Ojhxa7"
      },
      "execution_count": null,
      "outputs": []
    }
  ]
}